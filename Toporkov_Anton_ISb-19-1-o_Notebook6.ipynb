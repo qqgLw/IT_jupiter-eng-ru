{
 "cells": [
  {
   "cell_type": "markdown",
   "metadata": {},
   "source": [
    "\n",
    "# Notebook of information technology #6\n",
    "**by st. Toporkov A.P., IS-19-1 group**\n",
    "\n",
    "**2021**"
   ]
  },
  {
   "cell_type": "markdown",
   "metadata": {},
   "source": [
    "## Python programming for data collecting and analyzing"
   ]
  },
  {
   "cell_type": "markdown",
   "metadata": {},
   "source": [
    "### String formatting and sorting\n"
   ]
  },
  {
   "cell_type": "markdown",
   "metadata": {},
   "source": [
    "#### **kwargs"
   ]
  },
  {
   "cell_type": "code",
   "execution_count": 1,
   "metadata": {},
   "outputs": [
    {
     "name": "stdout",
     "output_type": "stream",
     "text": [
      "x = 12\n",
      "y = 19\n",
      "x = 5\n",
      "y = 2\n",
      "The history saving thread hit an unexpected error (OperationalError('database or disk is full',)).History will not be written to the database.\n"
     ]
    }
   ],
   "source": [
    "#let's say we have a function:\n",
    "def myfunc(x=0, y=1):\n",
    "    print(\"x =\",x)\n",
    "    print(\"y =\",y)\n",
    "#we already know two way of passing arguments\n",
    "myfunc(12,19)\n",
    "myfunc(y=2, x=5) # pass args by their names"
   ]
  },
  {
   "cell_type": "code",
   "execution_count": 3,
   "metadata": {},
   "outputs": [
    {
     "name": "stdout",
     "output_type": "stream",
     "text": [
      "{'x': 1, 'y': 5, 'z': 8, 's': 'Some string'}\n"
     ]
    }
   ],
   "source": [
    "\"If we want to pass uncertain number of named arguments we can use dictionaries\" \n",
    "\n",
    "def new_func(**kwargs): # '**' syntax in func declaration means that all named args, passed in function,\n",
    "    print(kwargs) ## should be kept in dictionary, named 'kwargs'\n",
    "\n",
    "new_func(x=1, y=5, z=8, s = \"Some string\") # 'x=1' will be storead in kwargs dictionary as {'x':1}"
   ]
  },
  {
   "cell_type": "code",
   "execution_count": 5,
   "metadata": {},
   "outputs": [
    {
     "name": "stdout",
     "output_type": "stream",
     "text": [
      "{'y': 5}\n"
     ]
    }
   ],
   "source": [
    "def other_func(x, **kwargs): # function here have 'x' arg that separated from kwargs dictionary \n",
    "    print(kwargs)\n",
    "other_func(x=10,y=5) # so x won't be included"
   ]
  },
  {
   "cell_type": "markdown",
   "id": "a9cd0784",
   "metadata": {},
   "source": [
    "#### Sorting"
   ]
  },
  {
   "cell_type": "code",
   "execution_count": null,
   "id": "b4c0e0f4",
   "metadata": {},
   "outputs": [],
   "source": [
    "#Sorting is arrangement of element in specific order. We have instruments such method sort()\n",
    "my_list = [6, 9, 2, 7, 12, 8] # create list"
   ]
  },
  {
   "cell_type": "code",
   "execution_count": null,
   "id": "f29896f5",
   "metadata": {},
   "outputs": [],
   "source": [
    "my_list.sort() # use sort()"
   ]
  },
  {
   "cell_type": "code",
   "execution_count": null,
   "id": "e827eaa4",
   "metadata": {},
   "outputs": [
    {
     "data": {
      "text/plain": [
       "[2, 6, 7, 8, 9, 12]"
      ]
     },
     "metadata": {},
     "output_type": "display_data"
    }
   ],
   "source": [
    "my_list # print sorted list"
   ]
  },
  {
   "cell_type": "code",
   "execution_count": null,
   "id": "b3743d87",
   "metadata": {},
   "outputs": [
    {
     "data": {
      "text/plain": [
       "[2, 6, 7, 8, 9, 12]"
      ]
     },
     "metadata": {},
     "output_type": "display_data"
    }
   ],
   "source": [
    "#If you want create new list you can use function sorted()\n",
    "sorted_list = sorted(my_list) # use function sorted() and don't change previous list\n",
    "sorted_list"
   ]
  },
  {
   "cell_type": "code",
   "execution_count": null,
   "id": "a8163117",
   "metadata": {},
   "outputs": [
    {
     "data": {
      "text/plain": [
       "[2, 6, 7, 8, 9, 12]"
      ]
     },
     "metadata": {},
     "output_type": "display_data"
    }
   ],
   "source": [
    "my_list"
   ]
  },
  {
   "cell_type": "code",
   "execution_count": null,
   "id": "c0985ce2",
   "metadata": {},
   "outputs": [
    {
     "name": "stdout",
     "output_type": "stream",
     "text": [
      "[1, 2, 6, 7]\n"
     ]
    }
   ],
   "source": [
    "# sorted() could be used to tuples\n",
    "my_tuple = (7, 1, 2, 6) # create tuple\n",
    "print (sorted(my_tuple)) # sort new element, which consist of my_tuple"
   ]
  },
  {
   "cell_type": "markdown",
   "id": "336423b1",
   "metadata": {},
   "source": [
    "#### String sort"
   ]
  },
  {
   "cell_type": "code",
   "execution_count": null,
   "id": "1de60694",
   "metadata": {},
   "outputs": [
    {
     "data": {
      "text/plain": [
       "True"
      ]
     },
     "metadata": {},
     "output_type": "display_data"
    }
   ],
   "source": [
    "#We could sort complicated types of objects. For example, string\n",
    "\n",
    "\"abcd\" < \"b\" # let's compare some strings"
   ]
  },
  {
   "cell_type": "code",
   "execution_count": null,
   "id": "a151440d",
   "metadata": {},
   "outputs": [
    {
     "data": {
      "text/plain": [
       "True"
      ]
     },
     "metadata": {},
     "output_type": "display_data"
    }
   ],
   "source": [
    "\"abcd\" < \"addd\""
   ]
  },
  {
   "cell_type": "code",
   "execution_count": null,
   "id": "870371f6",
   "metadata": {},
   "outputs": [
    {
     "data": {
      "text/plain": [
       "False"
      ]
     },
     "metadata": {},
     "output_type": "display_data"
    }
   ],
   "source": [
    "\"a\" < \"aa\""
   ]
  },
  {
   "cell_type": "code",
   "execution_count": null,
   "id": "3a2ae5fd",
   "metadata": {},
   "outputs": [
    {
     "data": {
      "text/plain": [
       "['Alice', 'Bill', 'Bob', 'Weigu']"
      ]
     },
     "metadata": {},
     "output_type": "display_data"
    }
   ],
   "source": [
    "#let's sort some strings\n",
    "str_list = [\"Bob\", \"Alice\", \"Bill\", \"Weigu\"]\n",
    "str_list.sort()\n",
    "str_list"
   ]
  },
  {
   "cell_type": "markdown",
   "id": "f516b01c",
   "metadata": {},
   "source": [
    "#### Sorting and cycles"
   ]
  },
  {
   "cell_type": "code",
   "execution_count": null,
   "id": "adc549af",
   "metadata": {},
   "outputs": [
    {
     "name": "stdout",
     "output_type": "stream",
     "text": [
      "Bob 3\n",
      "Alice 5\n",
      "Weigu 4\n",
      "Bill 2\n"
     ]
    }
   ],
   "source": [
    "#We have dictionary and we want in print elements ascending order by key\n",
    "gradebook = {'Bob': 3, 'Alice': 5, 'Weigu': 4, 'Bill': 2}\n",
    "for k in gradebook: # printing in cycle elements and keys\n",
    "    print(k, gradebook[k])"
   ]
  },
  {
   "cell_type": "code",
   "execution_count": null,
   "id": "77315aeb",
   "metadata": {},
   "outputs": [
    {
     "name": "stdout",
     "output_type": "stream",
     "text": [
      "Alice 5\n",
      "Bill 2\n",
      "Bob 3\n",
      "Weigu 4\n"
     ]
    }
   ],
   "source": [
    "#let's sort this list\n",
    "for k in sorted(gradebook):\n",
    "    print(k, gradebook[k])"
   ]
  },
  {
   "cell_type": "markdown",
   "id": "6cf7e7f7",
   "metadata": {},
   "source": [
    "#### More complicated type of sort"
   ]
  },
  {
   "cell_type": "code",
   "execution_count": null,
   "id": "97d0ade6",
   "metadata": {
    "scrolled": true
   },
   "outputs": [
    {
     "data": {
      "text/plain": [
       "[8, 7, 4, 1]"
      ]
     },
     "metadata": {},
     "output_type": "display_data"
    }
   ],
   "source": [
    "#We could sort this in reverse order\n",
    "sorted([4, 8, 1, 7], reverse=True) # add argument reverse=True"
   ]
  },
  {
   "cell_type": "code",
   "execution_count": null,
   "id": "d7cb4c5c",
   "metadata": {},
   "outputs": [],
   "source": [
    "#We have table of students and their grades\n",
    "names = [(\"Bob\", 8, 4, 9), \n",
    "        (\"Alice\", 7, 8, 9),  \n",
    "        (\"Weigu\", 7, 5, 3),  \n",
    "        (\"Dan\", 6, 4, 3)]"
   ]
  },
  {
   "cell_type": "code",
   "execution_count": null,
   "id": "e77d9185",
   "metadata": {},
   "outputs": [],
   "source": [
    "names.sort()"
   ]
  },
  {
   "cell_type": "code",
   "execution_count": null,
   "id": "3f09091f",
   "metadata": {},
   "outputs": [
    {
     "data": {
      "text/plain": [
       "[('Alice', 7, 8, 9), ('Bob', 8, 4, 9), ('Dan', 6, 4, 3), ('Weigu', 7, 5, 3)]"
      ]
     },
     "metadata": {},
     "output_type": "display_data"
    }
   ],
   "source": [
    "names"
   ]
  },
  {
   "cell_type": "code",
   "execution_count": null,
   "id": "71553963",
   "metadata": {},
   "outputs": [
    {
     "data": {
      "text/plain": [
       "True"
      ]
     },
     "metadata": {},
     "output_type": "display_data"
    }
   ],
   "source": [
    "('a', 8) < ('b', 7) #We do sort by first element - students name. Tuples compares like strings. Firstly we check first element"
   ]
  },
  {
   "cell_type": "code",
   "execution_count": null,
   "id": "a5298bcd",
   "metadata": {},
   "outputs": [
    {
     "data": {
      "text/plain": [
       "False"
      ]
     },
     "metadata": {},
     "output_type": "display_data"
    }
   ],
   "source": [
    "('a', 8) < ('a', 7) # then seconds elements etc"
   ]
  },
  {
   "cell_type": "markdown",
   "id": "63959961",
   "metadata": {},
   "source": [
    "If we need sort our element by another field we need add variable key"
   ]
  },
  {
   "cell_type": "markdown",
   "id": "34c308e9",
   "metadata": {},
   "source": [
    "#### [off topic]Functions as arguments for functions"
   ]
  },
  {
   "cell_type": "code",
   "execution_count": null,
   "id": "1307e214",
   "metadata": {},
   "outputs": [],
   "source": [
    "def superfunc(f): # as attribute we use function f\n",
    "    return f(2) # and return function f with attribute 2"
   ]
  },
  {
   "cell_type": "code",
   "execution_count": null,
   "id": "c7b16584",
   "metadata": {},
   "outputs": [
    {
     "data": {
      "text/plain": [
       "1.4142135623730951"
      ]
     },
     "metadata": {},
     "output_type": "display_data"
    }
   ],
   "source": [
    "from math import sqrt\n",
    "superfunc(sqrt) # set as attribute function sqrt"
   ]
  },
  {
   "cell_type": "code",
   "execution_count": null,
   "id": "3a8cfaaf",
   "metadata": {},
   "outputs": [],
   "source": [
    "def plusodin(x):\n",
    "    return x + 1"
   ]
  },
  {
   "cell_type": "code",
   "execution_count": null,
   "id": "8bb5a38c",
   "metadata": {},
   "outputs": [
    {
     "data": {
      "text/plain": [
       "3"
      ]
     },
     "metadata": {},
     "output_type": "display_data"
    }
   ],
   "source": [
    "superfunc(plusodin)"
   ]
  },
  {
   "cell_type": "code",
   "execution_count": null,
   "id": "7bc057ba",
   "metadata": {},
   "outputs": [
    {
     "ename": "TypeError",
     "evalue": "'str' object is not callable",
     "output_type": "error",
     "traceback": [
      "\u001b[1;31m---------------------------------------------------------------------------\u001b[0m\n",
      "\u001b[1;31mTypeError\u001b[0m                                 Traceback (most recent call last)\n",
      "\u001b[1;32m<ipython-input-45-dc4ba7dd0ed7>\u001b[0m in \u001b[0;36m<module>\u001b[1;34m\u001b[0m\n",
      "\u001b[1;32m----> 1\u001b[1;33m \u001b[0msuperfunc\u001b[0m\u001b[1;33m(\u001b[0m\u001b[1;34m\"sqrt\"\u001b[0m\u001b[1;33m)\u001b[0m \u001b[1;31m# nothing happend because function wait for function\u001b[0m\u001b[1;33m\u001b[0m\u001b[1;33m\u001b[0m\u001b[0m\n",
      "\u001b[0m\n",
      "\u001b[1;32m<ipython-input-39-c805b1d02f62>\u001b[0m in \u001b[0;36msuperfunc\u001b[1;34m(f)\u001b[0m\n",
      "\u001b[0;32m      1\u001b[0m \u001b[1;32mdef\u001b[0m \u001b[0msuperfunc\u001b[0m\u001b[1;33m(\u001b[0m\u001b[0mf\u001b[0m\u001b[1;33m)\u001b[0m\u001b[1;33m:\u001b[0m\u001b[1;33m\u001b[0m\u001b[1;33m\u001b[0m\u001b[0m\n",
      "\u001b[1;32m----> 2\u001b[1;33m     \u001b[1;32mreturn\u001b[0m \u001b[0mf\u001b[0m\u001b[1;33m(\u001b[0m\u001b[1;36m2\u001b[0m\u001b[1;33m)\u001b[0m\u001b[1;33m\u001b[0m\u001b[1;33m\u001b[0m\u001b[0m\n",
      "\u001b[0m\n",
      "\u001b[1;31mTypeError\u001b[0m: 'str' object is not callable"
     ]
    }
   ],
   "source": [
    "superfunc(\"sqrt\") # nothing happend because function wait for function"
   ]
  },
  {
   "cell_type": "markdown",
   "id": "41ff0de2",
   "metadata": {},
   "source": [
    "#### Sorting keys"
   ]
  },
  {
   "cell_type": "code",
   "execution_count": null,
   "id": "b96d21db",
   "metadata": {},
   "outputs": [],
   "source": [
    "#We need to sort our names by second element. Firstly create function which could return second element of tupel\n",
    "def get_second_element(x):\n",
    "    return x[1]"
   ]
  },
  {
   "cell_type": "code",
   "execution_count": null,
   "id": "7aa9b108",
   "metadata": {},
   "outputs": [
    {
     "data": {
      "text/plain": [
       "8"
      ]
     },
     "metadata": {},
     "output_type": "display_data"
    }
   ],
   "source": [
    "get_second_element([7, 8, 4, 2])"
   ]
  },
  {
   "cell_type": "code",
   "execution_count": null,
   "id": "eadabc29",
   "metadata": {},
   "outputs": [],
   "source": [
    "names.sort(key=get_second_element) # set to attribute key our function "
   ]
  },
  {
   "cell_type": "code",
   "execution_count": null,
   "id": "6d88dca6",
   "metadata": {},
   "outputs": [
    {
     "data": {
      "text/plain": [
       "[('Dan', 6, 4, 3), ('Alice', 7, 8, 9), ('Weigu', 7, 5, 3), ('Bob', 8, 4, 9)]"
      ]
     },
     "metadata": {},
     "output_type": "display_data"
    }
   ],
   "source": [
    "names"
   ]
  },
  {
   "cell_type": "code",
   "execution_count": null,
   "id": "7295c6b4",
   "metadata": {},
   "outputs": [],
   "source": [
    "#We could use prepeared function from itemgetter instead of get_second_element\n",
    "from operator import itemgetter"
   ]
  },
  {
   "cell_type": "code",
   "execution_count": null,
   "id": "e974dcb9",
   "metadata": {},
   "outputs": [
    {
     "data": {
      "text/plain": [
       "[('Dan', 6, 4, 3), ('Bob', 8, 4, 9), ('Weigu', 7, 5, 3), ('Alice', 7, 8, 9)]"
      ]
     },
     "metadata": {},
     "output_type": "display_data"
    }
   ],
   "source": [
    "sorted(names, key=itemgetter(2)) # sorted by third element"
   ]
  },
  {
   "cell_type": "code",
   "execution_count": null,
   "id": "5523e3ea",
   "metadata": {},
   "outputs": [
    {
     "data": {
      "text/plain": [
       "[('Dan', 6, 4, 3), ('Weigu', 7, 5, 3), ('Alice', 7, 8, 9), ('Bob', 8, 4, 9)]"
      ]
     },
     "metadata": {},
     "output_type": "display_data"
    }
   ],
   "source": [
    "sorted(names, key=itemgetter(3))"
   ]
  },
  {
   "cell_type": "code",
   "execution_count": null,
   "id": "143f39a7",
   "metadata": {},
   "outputs": [
    {
     "name": "stdout",
     "output_type": "stream",
     "text": [
      "[('Dan', 6, 4, 3), ('Alice', 7, 8, 9), ('Weigu', 7, 5, 3), ('Bob', 8, 4, 9)]\n",
      "[('Alice', 7, 8, 9), ('Bob', 8, 4, 9), ('Dan', 6, 4, 3), ('Weigu', 7, 5, 3)]\n",
      "[('Bob', 8, 4, 9), ('Dan', 6, 4, 3), ('Weigu', 7, 5, 3), ('Alice', 7, 8, 9)]\n"
     ]
    }
   ],
   "source": [
    "print(names)\n",
    "names.sort(key=itemgetter(0)) # Sorting by alphabet\n",
    "print(names)\n",
    "names.sort(key=itemgetter(2)) # sorting by third field\n",
    "print(names)"
   ]
  },
  {
   "cell_type": "markdown",
   "id": "0110d36b",
   "metadata": {},
   "source": [
    "#### Strings formating "
   ]
  },
  {
   "cell_type": "code",
   "execution_count": null,
   "id": "42d7bb5a",
   "metadata": {},
   "outputs": [
    {
     "name": "stdout",
     "output_type": "stream",
     "text": [
      "Student Alice has grade 5\n"
     ]
    }
   ],
   "source": [
    "name = \"Alice\"\n",
    "grade = 5\n",
    "print(\"Student\", name,\"has grade\", grade)"
   ]
  },
  {
   "cell_type": "code",
   "execution_count": null,
   "id": "c70d7650",
   "metadata": {},
   "outputs": [
    {
     "name": "stdout",
     "output_type": "stream",
     "text": [
      "Student Alice has grade 5\n"
     ]
    }
   ],
   "source": [
    "#If we want to pass variable to function we can use interpolation\n",
    "new_str = \"Student %s has grade %i\" % (name, grade) # thats classical method\n",
    "print(new_str)"
   ]
  },
  {
   "cell_type": "code",
   "execution_count": null,
   "id": "9c0a71a8",
   "metadata": {},
   "outputs": [
    {
     "name": "stdout",
     "output_type": "stream",
     "text": [
      "The number is 2\n",
      "The number is 2.000000\n",
      "The number is 2.14\n",
      "The number is 0003\n"
     ]
    }
   ],
   "source": [
    "\"\"\"\n",
    "We use % for strings which take string from left and find all placeholders after take variables from right and substitues value\n",
    "\"\"\"\n",
    "print(\"The number is %i\" % 2.3)\n",
    "print(\"The number is %f\" % 2) # f means float\n",
    "print(\"The number is %.2f\" % 2.1393) # 2 signs after point\n",
    "print(\"The number is %04i\" % 3) # add to 4 signs by zero"
   ]
  },
  {
   "cell_type": "code",
   "execution_count": null,
   "id": "f4301412",
   "metadata": {},
   "outputs": [
    {
     "name": "stdout",
     "output_type": "stream",
     "text": [
      "a = 3a = 3a = 3\n"
     ]
    }
   ],
   "source": [
    "print(\"a = %i\" % 3*3) # %i have higher priority than 3*3"
   ]
  },
  {
   "cell_type": "code",
   "execution_count": null,
   "id": "43876b2d",
   "metadata": {},
   "outputs": [
    {
     "name": "stdout",
     "output_type": "stream",
     "text": [
      "a = 9\n"
     ]
    }
   ],
   "source": [
    "print(\"a = %i\" % (3*3)) # another deal!"
   ]
  },
  {
   "cell_type": "code",
   "execution_count": null,
   "id": "400aa301",
   "metadata": {},
   "outputs": [
    {
     "data": {
      "text/plain": [
       "'hello, 7, this is 9, again 7, test'"
      ]
     },
     "metadata": {},
     "output_type": "display_data"
    }
   ],
   "source": [
    "# use method format()\n",
    "\"hello, {0}, this is {1}, again {0}, {var}\".format(7, 9, var=\"test\")\n",
    "# we can use same value many times in format()"
   ]
  },
  {
   "cell_type": "code",
   "execution_count": null,
   "id": "70131fb3",
   "metadata": {},
   "outputs": [
    {
     "data": {
      "text/plain": [
       "'Fist var: 8, the second one: 1'"
      ]
     },
     "metadata": {},
     "output_type": "display_data"
    }
   ],
   "source": [
    "\"Fist var: {}, the second one: {}\".format(8, 1) # we don't write numbers\n",
    "# then program will fill each one in turn"
   ]
  },
  {
   "cell_type": "markdown",
   "id": "d4b0e27e",
   "metadata": {},
   "source": [
    "### Tricks with float"
   ]
  },
  {
   "cell_type": "code",
   "execution_count": null,
   "id": "8b440555",
   "metadata": {},
   "outputs": [
    {
     "name": "stdout",
     "output_type": "stream",
     "text": [
      "0.300000\n"
     ]
    }
   ],
   "source": [
    "print(\"%f\" % (0.1+0.2))"
   ]
  },
  {
   "cell_type": "code",
   "execution_count": null,
   "id": "6394e1b3",
   "metadata": {},
   "outputs": [
    {
     "name": "stdout",
     "output_type": "stream",
     "text": [
      "0.300000000000000044\n"
     ]
    }
   ],
   "source": [
    "print(\"%.18f\" % (0.1+0.2)) #Let's increse accuracy"
   ]
  },
  {
   "cell_type": "code",
   "execution_count": null,
   "id": "ac1e4ff5",
   "metadata": {},
   "outputs": [
    {
     "data": {
      "text/plain": [
       "False"
      ]
     },
     "metadata": {},
     "output_type": "display_data"
    }
   ],
   "source": [
    "\"\"\"These last signs is a mistake because in computer element such this write in infinity fraction. That could be critical:\"\"\"\n",
    "0.1 + 0.2 == 0.3 # computer knows better"
   ]
  },
  {
   "cell_type": "code",
   "execution_count": null,
   "id": "9de56de7",
   "metadata": {},
   "outputs": [],
   "source": [
    "from fractions import Fraction # we can use Fraction (usual fraction)"
   ]
  },
  {
   "cell_type": "code",
   "execution_count": null,
   "id": "5f26dd7e",
   "metadata": {},
   "outputs": [
    {
     "data": {
      "text/plain": [
       "Fraction(3, 10)"
      ]
     },
     "metadata": {},
     "output_type": "display_data"
    }
   ],
   "source": [
    "Fraction(1, 10) + Fraction(2, 10)"
   ]
  },
  {
   "cell_type": "code",
   "execution_count": null,
   "id": "fab5ab6f",
   "metadata": {},
   "outputs": [
    {
     "data": {
      "text/plain": [
       "Fraction(5, 6)"
      ]
     },
     "metadata": {},
     "output_type": "display_data"
    }
   ],
   "source": [
    "Fraction(1, 3) + Fraction(1,2)"
   ]
  },
  {
   "cell_type": "code",
   "execution_count": null,
   "id": "b01b443d",
   "metadata": {},
   "outputs": [],
   "source": [
    "from decimal import Decimal # and module Decimal"
   ]
  },
  {
   "cell_type": "code",
   "execution_count": null,
   "id": "fba89216",
   "metadata": {},
   "outputs": [
    {
     "data": {
      "text/plain": [
       "Decimal('0.3')"
      ]
     },
     "metadata": {},
     "output_type": "display_data"
    }
   ],
   "source": [
    "Decimal(\"0.1\")+Decimal(\"0.2\")"
   ]
  },
  {
   "cell_type": "code",
   "execution_count": null,
   "id": "a111e680",
   "metadata": {},
   "outputs": [
    {
     "data": {
      "text/plain": [
       "True"
      ]
     },
     "metadata": {},
     "output_type": "display_data"
    }
   ],
   "source": [
    "Decimal(\"0.1\") + Decimal(\"0.2\") == Decimal(\"0.3\")"
   ]
  }
 ],
 "metadata": {
  "interpreter": {
   "hash": "c2ce29519d01fd3567b9c062877074e7f09ceb18e77b0dd4da51712a0aa9c9a1"
  },
  "kernelspec": {
   "display_name": "Python 3",
   "language": "python",
   "name": "python3"
  },
  "language_info": {
   "codemirror_mode": {
    "name": "ipython",
    "version": 3
   },
   "file_extension": ".py",
   "mimetype": "text/x-python",
   "name": "python",
   "nbconvert_exporter": "python",
   "pygments_lexer": "ipython3",
   "version": "3.6.5"
  }
 },
 "nbformat": 4,
 "nbformat_minor": 2
}
