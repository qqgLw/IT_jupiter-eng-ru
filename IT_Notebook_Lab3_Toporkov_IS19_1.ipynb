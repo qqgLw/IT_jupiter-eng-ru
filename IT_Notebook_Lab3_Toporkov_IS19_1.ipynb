{
 "cells": [
  {
   "cell_type": "markdown",
   "source": [
    "# Notebook on Information Technologies\r\n",
    "**by st. Toporkov A.P., IS-19-1 group**\\\r\n",
    "**2021***"
   ],
   "metadata": {}
  },
  {
   "cell_type": "markdown",
   "source": [
    "## Input and Output lists operations"
   ],
   "metadata": {}
  },
  {
   "cell_type": "markdown",
   "source": [
    "### Transforming a string to a list type "
   ],
   "metadata": {}
  },
  {
   "cell_type": "code",
   "execution_count": 15,
   "source": [
    "\"\"\"For this example we have a string that contains a copule of words, divided by spaces, and also having some end-of-line '\\n' symbols\"\"\"\r\n",
    "s = \"hello world this is a\\ntest\"\r\n",
    "print(s)\r\n",
    "\r\n",
    "\"\"\"For accessing each word from this string a split() method can be used\"\"\"\r\n",
    "s.split() ## receiving a list of strings (our initial string did not changed)\r\n",
    "##Split takes newline symbol and tabulation symbol as a space element"
   ],
   "outputs": [
    {
     "output_type": "stream",
     "name": "stdout",
     "text": [
      "hello world this is a\n",
      "test\n"
     ]
    },
    {
     "output_type": "execute_result",
     "data": {
      "text/plain": [
       "['hello', 'world', 'this', 'is', 'a', 'test']"
      ]
     },
     "metadata": {},
     "execution_count": 15
    }
   ],
   "metadata": {}
  },
  {
   "cell_type": "code",
   "execution_count": 16,
   "source": [
    "words = s.split() # now, result of s.split() execution saved to the words variable\r\n",
    "for word in words:\r\n",
    " print(word)"
   ],
   "outputs": [
    {
     "output_type": "stream",
     "name": "stdout",
     "text": [
      "hello\n",
      "world\n",
      "this\n",
      "is\n",
      "a\n",
      "test\n"
     ]
    }
   ],
   "metadata": {}
  },
  {
   "cell_type": "code",
   "execution_count": 17,
   "source": [
    "s.split(\"    \") ##You can change separator in split method to whatever you need\r\n",
    "##In this case, a four-element space would be a separator for our string"
   ],
   "outputs": [
    {
     "output_type": "execute_result",
     "data": {
      "text/plain": [
       "['hello world this is a\\ntest']"
      ]
     },
     "metadata": {},
     "execution_count": 17
    }
   ],
   "metadata": {}
  },
  {
   "cell_type": "code",
   "execution_count": 18,
   "source": [
    "\"\"\"\r\n",
    "Let's say, we need to increate each inputted with a coma-separated string number by 1.\r\n",
    "We can try this code: \r\n",
    "\"\"\"\r\n",
    "\r\n",
    "s = input(\"Input numbers, separated by comas: \") # input\r\n",
    "elements = s.split(\",\") # get splitted string\r\n",
    "for n in elements:\r\n",
    "    print(n+1) # print each number increased by 1\r\n",
    "\r\n",
    "##We get an error because our list elements (that are of string type) are not represented as integer "
   ],
   "outputs": [
    {
     "output_type": "error",
     "ename": "TypeError",
     "evalue": "can only concatenate str (not \"int\") to str",
     "traceback": [
      "\u001b[1;31m---------------------------------------------------------------------------\u001b[0m",
      "\u001b[1;31mTypeError\u001b[0m                                 Traceback (most recent call last)",
      "\u001b[1;32m~\\AppData\\Local\\Temp/ipykernel_22648/3123429633.py\u001b[0m in \u001b[0;36m<module>\u001b[1;34m\u001b[0m\n\u001b[0;32m      7\u001b[0m \u001b[0melements\u001b[0m \u001b[1;33m=\u001b[0m \u001b[0ms\u001b[0m\u001b[1;33m.\u001b[0m\u001b[0msplit\u001b[0m\u001b[1;33m(\u001b[0m\u001b[1;34m\",\"\u001b[0m\u001b[1;33m)\u001b[0m \u001b[1;31m# get splitted string\u001b[0m\u001b[1;33m\u001b[0m\u001b[1;33m\u001b[0m\u001b[0m\n\u001b[0;32m      8\u001b[0m \u001b[1;32mfor\u001b[0m \u001b[0mn\u001b[0m \u001b[1;32min\u001b[0m \u001b[0melements\u001b[0m\u001b[1;33m:\u001b[0m\u001b[1;33m\u001b[0m\u001b[1;33m\u001b[0m\u001b[0m\n\u001b[1;32m----> 9\u001b[1;33m     \u001b[0mprint\u001b[0m\u001b[1;33m(\u001b[0m\u001b[0mn\u001b[0m\u001b[1;33m+\u001b[0m\u001b[1;36m1\u001b[0m\u001b[1;33m)\u001b[0m \u001b[1;31m# print each number increased by 1\u001b[0m\u001b[1;33m\u001b[0m\u001b[1;33m\u001b[0m\u001b[0m\n\u001b[0m\u001b[0;32m     10\u001b[0m \u001b[1;33m\u001b[0m\u001b[0m\n\u001b[0;32m     11\u001b[0m \u001b[1;31m##We get an error because our list elements (that are of string type) are not represented as integer\u001b[0m\u001b[1;33m\u001b[0m\u001b[1;33m\u001b[0m\u001b[0m\n",
      "\u001b[1;31mTypeError\u001b[0m: can only concatenate str (not \"int\") to str"
     ]
    }
   ],
   "metadata": {}
  },
  {
   "cell_type": "code",
   "execution_count": null,
   "source": [
    "\"\"\"\r\n",
    "To fix this error, we must cast n to int type\r\n",
    "\"\"\"\r\n",
    "\r\n",
    "s = input(\"Input numbers, separated by comas: \")\r\n",
    "elements = s.split(\",\")\r\n",
    "for n in elements:\r\n",
    " n = int(n)\r\n",
    " print(n+1)"
   ],
   "outputs": [
    {
     "output_type": "stream",
     "name": "stdout",
     "text": [
      "2\n",
      "3\n",
      "4\n"
     ]
    }
   ],
   "metadata": {}
  },
  {
   "cell_type": "markdown",
   "source": [
    "### Outputing list as one line"
   ],
   "metadata": {}
  },
  {
   "cell_type": "code",
   "execution_count": null,
   "source": [
    "\"\"\"\r\n",
    "We can print list with different appearance.\r\n",
    "\"\"\"\r\n",
    "\r\n",
    "#Just print our list\r\n",
    "elements = [\"one\", \"two\", \"three\"]\r\n",
    "print(elements) # print list with brasckets and comas\r\n",
    "\r\n",
    "#Print each element in list in loop\r\n",
    "for el in elements: # for each element in elements\r\n",
    " print(el) # print each element on a new line\r\n",
    "\r\n",
    "#Print each element in list in one line with join method of string type\r\n",
    "print(\" \".join(elements)) # join each element in one line on space divider"
   ],
   "outputs": [
    {
     "output_type": "stream",
     "name": "stdout",
     "text": [
      "['one', 'two', 'three']\n",
      "one\n",
      "two\n",
      "three\n",
      "one two three\n"
     ]
    }
   ],
   "metadata": {}
  },
  {
   "cell_type": "code",
   "execution_count": null,
   "source": [
    "\"\"\"\r\n",
    "We can use any symbol or collection of symbols in join method\r\n",
    "\"\"\"\r\n",
    "\r\n",
    "print(\":\".join(elements)) # join on :\r\n",
    "print(\"----\".join(elements)) # join on ----"
   ],
   "outputs": [
    {
     "output_type": "stream",
     "name": "stdout",
     "text": [
      "one:two:three\n",
      "one----two----three\n"
     ]
    }
   ],
   "metadata": {}
  },
  {
   "cell_type": "code",
   "execution_count": null,
   "source": [
    "\"\"\"\r\n",
    "But join method works only with lists of string type.\r\n",
    "\"\"\"\r\n",
    "\r\n",
    "numbers = [6, 9, 10]\r\n",
    "\", \".join(numbers) ##This will cause an error\r\n",
    "\r\n",
    "##We can fix this error with map and list comprehensions in future"
   ],
   "outputs": [
    {
     "output_type": "error",
     "ename": "TypeError",
     "evalue": "sequence item 0: expected str instance, int found",
     "traceback": [
      "\u001b[1;31m---------------------------------------------------------------------------\u001b[0m",
      "\u001b[1;31mTypeError\u001b[0m                                 Traceback (most recent call last)",
      "\u001b[1;32m~\\AppData\\Local\\Temp/ipykernel_22648/3216056132.py\u001b[0m in \u001b[0;36m<module>\u001b[1;34m\u001b[0m\n\u001b[0;32m      4\u001b[0m \u001b[1;33m\u001b[0m\u001b[0m\n\u001b[0;32m      5\u001b[0m \u001b[0mnumbers\u001b[0m \u001b[1;33m=\u001b[0m \u001b[1;33m[\u001b[0m\u001b[1;36m6\u001b[0m\u001b[1;33m,\u001b[0m \u001b[1;36m9\u001b[0m\u001b[1;33m,\u001b[0m \u001b[1;36m10\u001b[0m\u001b[1;33m]\u001b[0m\u001b[1;33m\u001b[0m\u001b[1;33m\u001b[0m\u001b[0m\n\u001b[1;32m----> 6\u001b[1;33m \u001b[1;34m\", \"\u001b[0m\u001b[1;33m.\u001b[0m\u001b[0mjoin\u001b[0m\u001b[1;33m(\u001b[0m\u001b[0mnumbers\u001b[0m\u001b[1;33m)\u001b[0m \u001b[1;31m##This will cause an error\u001b[0m\u001b[1;33m\u001b[0m\u001b[1;33m\u001b[0m\u001b[0m\n\u001b[0m\u001b[0;32m      7\u001b[0m \u001b[1;33m\u001b[0m\u001b[0m\n\u001b[0;32m      8\u001b[0m \u001b[1;31m##We can fix this error with map and list comprehensions in future\u001b[0m\u001b[1;33m\u001b[0m\u001b[1;33m\u001b[0m\u001b[0m\n",
      "\u001b[1;31mTypeError\u001b[0m: sequence item 0: expected str instance, int found"
     ]
    }
   ],
   "metadata": {}
  },
  {
   "cell_type": "code",
   "execution_count": null,
   "source": [
    "\"\"\"\r\n",
    "Also we can print each element with asterisk sign. This way we iterate through list\r\n",
    "\"\"\"\r\n",
    "\r\n",
    "print(*numbers)\r\n",
    "print(*[5, 8, 9, 11, \"Hello\"])\r\n",
    "print(5, 8, 9, 11, \"Hello\")"
   ],
   "outputs": [
    {
     "output_type": "stream",
     "name": "stdout",
     "text": [
      "6 9 10\n",
      "5 8 9 11 Hello\n",
      "5 8 9 11 Hello\n"
     ]
    }
   ],
   "metadata": {}
  },
  {
   "cell_type": "code",
   "execution_count": null,
   "source": [
    "\"\"\"\r\n",
    "If you want to use different separator, you can easily change it like this\r\n",
    "\"\"\"\r\n",
    "\r\n",
    "print(*numbers, sep = ', ')"
   ],
   "outputs": [
    {
     "output_type": "stream",
     "name": "stdout",
     "text": [
      "6, 9, 10\n"
     ]
    }
   ],
   "metadata": {}
  },
  {
   "cell_type": "markdown",
   "source": [
    "### Strings and slices"
   ],
   "metadata": {}
  },
  {
   "cell_type": "code",
   "execution_count": null,
   "source": [
    "\"\"\"\r\n",
    "String behave very similarly to lists. You can access separate elelemt or make a slice\r\n",
    "\"\"\"\r\n",
    "\r\n",
    "s = \"This is a test\" \r\n",
    "print(s[6]) #accesing element (symbol) by its index\r\n",
    "s[3:8] #using slices"
   ],
   "outputs": [
    {
     "output_type": "stream",
     "name": "stdout",
     "text": [
      "s\n"
     ]
    },
    {
     "output_type": "execute_result",
     "data": {
      "text/plain": [
       "'s is '"
      ]
     },
     "metadata": {},
     "execution_count": 12
    }
   ],
   "metadata": {}
  },
  {
   "cell_type": "markdown",
   "source": [
    "## Algorithms with loops"
   ],
   "metadata": {}
  },
  {
   "cell_type": "code",
   "execution_count": null,
   "source": [
    "\"\"\"\r\n",
    "In previous notebook we solve Fibonacci sequence problem in following pattern:\r\n",
    "\"\"\"\r\n",
    "\r\n",
    "# first step - initialization\r\n",
    "a = 1 # first number\r\n",
    "b = 1 # second number\r\n",
    "# for the next step we moving toward next sequence element calculation\r\n",
    "c = a + b #find next number\r\n",
    "a = b # replace A value\r\n",
    "b = c # remember current element\r\n",
    "print(b)"
   ],
   "outputs": [
    {
     "output_type": "stream",
     "name": "stdout",
     "text": [
      "2\n"
     ]
    }
   ],
   "metadata": {}
  },
  {
   "cell_type": "code",
   "execution_count": null,
   "source": [
    "\"\"\"\r\n",
    "Whole algorithm in terms of loops\r\n",
    "\"\"\"\r\n",
    "\r\n",
    "a = 1 # first number\r\n",
    "b = 1 # second number\r\n",
    "for i in range(10): # body of the loop will repeat 10 times that is pretty handy (we don't need to restart code cell multiple times)\r\n",
    "    c = a + b\r\n",
    "    a = b\r\n",
    "    b = c\r\n",
    "    print(i, c)"
   ],
   "outputs": [
    {
     "output_type": "stream",
     "name": "stdout",
     "text": [
      "3\n",
      "0 2\n",
      "1 3\n",
      "2 5\n",
      "3 8\n",
      "4 13\n",
      "5 21\n",
      "6 34\n",
      "7 55\n",
      "8 89\n",
      "9 144\n"
     ]
    }
   ],
   "metadata": {}
  },
  {
   "cell_type": "code",
   "execution_count": null,
   "source": [
    "\"\"\"\r\n",
    "Lets modify it, so it will be appending new elements to the list and not printing them\r\n",
    "\"\"\"\r\n",
    "\r\n",
    "\r\n",
    "a = 1 # first number\r\n",
    "b = 1 # second number\r\n",
    "fib = [] # empty list\r\n",
    "for i in range(10): # body of the loop will repeat 10 times\r\n",
    "    c = a + b\r\n",
    "    a = b\r\n",
    "    b = c\r\n",
    "    fib.append(b) ##following command will append new sequence number to a list\r\n",
    "print(fib)"
   ],
   "outputs": [
    {
     "output_type": "stream",
     "name": "stdout",
     "text": [
      "[2, 3, 5, 8, 13, 21, 34, 55, 89, 144]\n"
     ]
    }
   ],
   "metadata": {}
  },
  {
   "cell_type": "markdown",
   "source": [
    "## Statement checking"
   ],
   "metadata": {}
  },
  {
   "cell_type": "code",
   "execution_count": null,
   "source": [
    "6 < 8 ##statements in Python"
   ],
   "outputs": [
    {
     "output_type": "execute_result",
     "data": {
      "text/plain": [
       "True"
      ]
     },
     "metadata": {},
     "execution_count": 42
    }
   ],
   "metadata": {}
  },
  {
   "cell_type": "code",
   "execution_count": null,
   "source": [
    "\"\"\"\r\n",
    "We can write result of statement into variable\r\n",
    "\"\"\"\r\n",
    "\r\n",
    "condition = 6 < 8\r\n",
    "condition"
   ],
   "outputs": [
    {
     "output_type": "execute_result",
     "data": {
      "text/plain": [
       "True"
      ]
     },
     "metadata": {},
     "execution_count": 44
    }
   ],
   "metadata": {}
  },
  {
   "cell_type": "code",
   "execution_count": null,
   "source": [
    "type(condition) ##the type of this comdition variable is Boolean (bool)\r\n"
   ],
   "outputs": [
    {
     "output_type": "execute_result",
     "data": {
      "text/plain": [
       "bool"
      ]
     },
     "metadata": {},
     "execution_count": 45
    }
   ],
   "metadata": {}
  },
  {
   "cell_type": "code",
   "execution_count": null,
   "source": [
    "7 == 7 #we can also compare of 2 numbers\r\n"
   ],
   "outputs": [
    {
     "output_type": "execute_result",
     "data": {
      "text/plain": [
       "True"
      ]
     },
     "metadata": {},
     "execution_count": 46
    }
   ],
   "metadata": {}
  },
  {
   "cell_type": "code",
   "execution_count": null,
   "source": [
    "\"\"\"\r\n",
    "Do not be confused by simillar syntax: assignment and comparing operators are different\r\n",
    "For example assignment operator does not return anything\r\n",
    "\"\"\"\r\n",
    "\r\n",
    "a = 5 #assigment operator\r\n",
    "a = 7\r\n",
    "a == 5 # compare a value to 5 value"
   ],
   "outputs": [
    {
     "output_type": "execute_result",
     "data": {
      "text/plain": [
       "False"
      ]
     },
     "metadata": {},
     "execution_count": 47
    }
   ],
   "metadata": {}
  },
  {
   "cell_type": "code",
   "execution_count": null,
   "source": [
    "\"\"\"\r\n",
    "Also comparing int type to the float type will convert float type to the int=\r\n",
    "\"\"\"\r\n",
    "\r\n",
    "7 == 7.0 # comparing int type to the float type"
   ],
   "outputs": [
    {
     "output_type": "execute_result",
     "data": {
      "text/plain": [
       "True"
      ]
     },
     "metadata": {},
     "execution_count": 48
    }
   ],
   "metadata": {}
  },
  {
   "cell_type": "markdown",
   "source": [
    "## If operator"
   ],
   "metadata": {}
  },
  {
   "cell_type": "code",
   "execution_count": 19,
   "source": [
    "a = int(input(\"Input positive number: \"))\r\n",
    "if a < 0: # after if statement we write condition and then place column symbol and if if statement is true, then it will run code inside\r\n",
    "    # if our statement is fale, then it will run ELSE block code\r\n",
    "    print(\"Error!\")\r\n",
    "    print(\"Number is not positive!\")\r\n",
    "print(\"Your number\", a)\r\n"
   ],
   "outputs": [
    {
     "output_type": "stream",
     "name": "stdout",
     "text": [
      "Your number 44\n"
     ]
    }
   ],
   "metadata": {}
  },
  {
   "cell_type": "code",
   "execution_count": null,
   "source": [
    "a = int(input(\"Input positive number: \"))\r\n",
    "if a < 0: # if true\r\n",
    "    print(\"Error!\")\r\n",
    "    print(\"Number is not positive!\")\r\n",
    "else: # if false\r\n",
    "    print(\"Good!\")\r\n",
    "    print(\"This is positive!\")\r\n",
    "print(\"Your number\", a)"
   ],
   "outputs": [
    {
     "output_type": "stream",
     "name": "stdout",
     "text": [
      "Error!\n",
      "Number is not positive!\n",
      "Your number -1\n"
     ]
    }
   ],
   "metadata": {}
  },
  {
   "cell_type": "code",
   "execution_count": null,
   "source": [
    "\"\"\"\r\n",
    "You can stack if-else statements to check multiple conditions\r\n",
    "\"\"\"\r\n",
    "\r\n",
    "a = int(input(\"Input positive number: \")) # input number\r\n",
    "if a > 100: # if true\r\n",
    " print(\"Number is very big\")\r\n",
    "elif a > 10: # second condition\r\n",
    " print(\"Number is big\")\r\n",
    "else: # if false\r\n",
    " print(\"Number is small\")"
   ],
   "outputs": [
    {
     "output_type": "stream",
     "name": "stdout",
     "text": [
      "Number is big\n"
     ]
    }
   ],
   "metadata": {}
  },
  {
   "cell_type": "markdown",
   "source": [
    "## Complex statements"
   ],
   "metadata": {}
  },
  {
   "cell_type": "code",
   "execution_count": null,
   "source": [
    "\"\"\"\r\n",
    "If we need to check mulptile statements we can write it like this\r\n",
    "\"\"\"\r\n",
    "\r\n",
    "a = int(input(\"Input number from 0 to 100: \"))\r\n",
    "if a <= 100: # if true\r\n",
    "    if a >= 0: # if true\r\n",
    "        print(\"I like your number\")\r\n",
    "    else: # if false\r\n",
    "        print(\"Error\")\r\n",
    "else: # if false\r\n",
    "    print(\"Error\")"
   ],
   "outputs": [
    {
     "output_type": "stream",
     "name": "stdout",
     "text": [
      "I like your number\n"
     ]
    }
   ],
   "metadata": {}
  },
  {
   "cell_type": "code",
   "execution_count": null,
   "source": [
    "\"\"\"\r\n",
    "But there is more clean and easy way to write it with AND operator\r\n",
    "\"\"\"\r\n",
    "\r\n",
    "a = int(input(\"Input number from 0 to 100: \")) # input number\r\n",
    "if a <= 100 and a >= 0: # check 2 statements for true value\r\n",
    "    print(\"I like your number\")\r\n",
    "else: # if false\r\n",
    "    print(\"Error\")"
   ],
   "outputs": [],
   "metadata": {}
  },
  {
   "cell_type": "code",
   "execution_count": null,
   "source": [
    "\"\"\"\r\n",
    "We can experiment with NOT, OR and AND operators and get the same logic\r\n",
    "\"\"\"\r\n",
    "\r\n",
    "a = int(input(\"Input number from 0 to 100: \")) # input number\r\n",
    "if not (a <= 100 and a >= 0): # if a is not smaller than 100 and bigger than 0\r\n",
    "    print(\"Error\")\r\n",
    "else: # if false\r\n",
    "    print(\"I like your number\")"
   ],
   "outputs": [],
   "metadata": {}
  },
  {
   "cell_type": "code",
   "execution_count": 20,
   "source": [
    "\"\"\"\r\n",
    "Lets test how these operations work\r\n",
    "\"\"\"\r\n",
    "print(True or False)\r\n",
    "print(False and True)\r\n",
    "to_be = False\r\n",
    "to_be or not to_be\r\n",
    "to_be = True \r\n",
    "to_be or not to_be\r\n"
   ],
   "outputs": [
    {
     "output_type": "stream",
     "name": "stdout",
     "text": [
      "True\n",
      "False\n"
     ]
    },
    {
     "output_type": "execute_result",
     "data": {
      "text/plain": [
       "True"
      ]
     },
     "metadata": {},
     "execution_count": 20
    }
   ],
   "metadata": {}
  },
  {
   "cell_type": "markdown",
   "source": [
    "## While loop"
   ],
   "metadata": {}
  },
  {
   "cell_type": "code",
   "execution_count": null,
   "source": [
    "\"\"\"\r\n",
    "Lets look how while loop works with this example.\r\n",
    "If password is not correct we will request user to try again\r\n",
    "\"\"\"\r\n",
    "\r\n",
    "correct_passwd = ';ugliugliug' # corrent password\r\n",
    "passwd = input(\"Please, enter password: \") # input password\r\n",
    "while passwd != correct_passwd: # check if password is correct\r\n",
    "    print(\"Access denied\") # if not corrent, input password again\r\n",
    "    passwd = input(\"Please, enter password: \")\r\n",
    "print(\"Access granted\")\r\n"
   ],
   "outputs": [],
   "metadata": {}
  },
  {
   "cell_type": "code",
   "execution_count": 21,
   "source": [
    "\"\"\"\r\n",
    "To make code cleaner, we should do infinite loop until user does not fill the right password in\r\n",
    "\"\"\"\r\n",
    "\r\n",
    "correct_passwd = ';ugliugliug' # correct password\r\n",
    "while True: # infinite loop\r\n",
    "    passwd = input(\"Please, enter password: \") # input password\r\n",
    "    if passwd == correct_passwd: # if password is correct\r\n",
    "        print(\"Access granted\") # grant access\r\n",
    "        break # break the loop\r\n",
    "else: # if false\r\n",
    "    print(\"Access denied\")\r\n",
    "\r\n",
    "\"\"\"\r\n",
    "We can use break operator in any type of loop\r\n",
    "\"\"\"\r\n",
    "\r\n",
    "numbers = [6, 8, 9, 6, -7, 9]\r\n",
    "for i in numbers: ## the example of breaks in for loop\r\n",
    "    if i<0:\r\n",
    "        print(\"Negative number detected!!!!111111odin\")\r\n",
    "        break\r\n",
    "    print(i+1)\r\n",
    "\r\n"
   ],
   "outputs": [
    {
     "output_type": "stream",
     "name": "stdout",
     "text": [
      "Access granted\n",
      "7\n",
      "9\n",
      "10\n",
      "7\n",
      "Negative number detected!!!!111111odin\n"
     ]
    }
   ],
   "metadata": {}
  },
  {
   "cell_type": "markdown",
   "source": [
    "## List element numeration "
   ],
   "metadata": {}
  },
  {
   "cell_type": "code",
   "execution_count": null,
   "source": [
    "\"\"\"\r\n",
    "To get element if list with its index we can write this code\r\n",
    "\"\"\"\r\n",
    "numbers = [7, 8, 9, 43]\r\n",
    "i = 0 # this var would keep index\r\n",
    "for n in numbers:\r\n",
    " print(i, n)\r\n",
    " i += 1 # equivalent of this statement i = i + 1\r\n"
   ],
   "outputs": [],
   "metadata": {}
  },
  {
   "cell_type": "code",
   "execution_count": null,
   "source": [
    "\"\"\"\r\n",
    "The previous example did not give an accurate solution. Let's rewrite code for task:\r\n",
    "\"\"\"\r\n",
    "\r\n",
    "numbers = [7, 8, 9, 43] # list\r\n",
    "for i in range(len(numbers)): # for each index\r\n",
    "    print (i, numbers[i]) # print elements with its list"
   ],
   "outputs": [
    {
     "output_type": "stream",
     "name": "stdout",
     "text": [
      "0 7\n",
      "1 8\n",
      "2 9\n",
      "3 43\n"
     ]
    }
   ],
   "metadata": {}
  },
  {
   "cell_type": "code",
   "execution_count": null,
   "source": [
    "\"\"\"\r\n",
    "The final version of solution will look like this\r\n",
    "We can use built-in fucntion enumerate\r\n",
    "\"\"\"\r\n",
    "\r\n",
    "numbers = [7, 8, 9, 43]\r\n",
    "for i, n in enumerate(numbers, 2): # get index and element in array\r\n",
    "    print(i,n)\r\n"
   ],
   "outputs": [
    {
     "output_type": "stream",
     "name": "stdout",
     "text": [
      "2 7\n",
      "3 8\n",
      "4 9\n",
      "5 43\n"
     ]
    }
   ],
   "metadata": {}
  },
  {
   "cell_type": "code",
   "execution_count": 25,
   "source": [
    "\"\"\"Let's define how works enumerate:\"\"\"\r\n",
    "enum = list(enumerate(numbers)) ##forming a list of tuples (pair of index and value of numbers list)\r\n",
    "enum"
   ],
   "outputs": [
    {
     "output_type": "execute_result",
     "data": {
      "text/plain": [
       "[(0, 6), (1, 8), (2, 9), (3, 6), (4, -7), (5, 9)]"
      ]
     },
     "metadata": {},
     "execution_count": 25
    }
   ],
   "metadata": {}
  },
  {
   "cell_type": "code",
   "execution_count": 26,
   "source": [
    "a, b = (7, 9) ##in for loop we used a mechanis, called multiple assignment\r\n",
    "print(a) # assignment variable a with appropriate tuple element\r\n",
    "print(b)"
   ],
   "outputs": [
    {
     "output_type": "stream",
     "name": "stdout",
     "text": [
      "7\n",
      "9\n"
     ]
    }
   ],
   "metadata": {}
  }
 ],
 "metadata": {
  "orig_nbformat": 4,
  "language_info": {
   "name": "python",
   "version": "3.9.7",
   "mimetype": "text/x-python",
   "codemirror_mode": {
    "name": "ipython",
    "version": 3
   },
   "pygments_lexer": "ipython3",
   "nbconvert_exporter": "python",
   "file_extension": ".py"
  },
  "kernelspec": {
   "name": "python3",
   "display_name": "Python 3.9.7 64-bit"
  },
  "interpreter": {
   "hash": "ed7457b2fbc1e5938d6b52aaab6d7e4f6bc93b0345f28e0e0c546b87a896ce98"
  }
 },
 "nbformat": 4,
 "nbformat_minor": 2
}