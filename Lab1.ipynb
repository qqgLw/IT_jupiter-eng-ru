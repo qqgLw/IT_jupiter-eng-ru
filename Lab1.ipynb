{
 "cells": [
  {
   "cell_type": "markdown",
   "source": [
    "# Notebook on Information Technologies\r\n",
    "**by st. Toporkov A.P., IS-19-1 group**\\\r\n",
    "**2021**"
   ],
   "metadata": {}
  },
  {
   "cell_type": "code",
   "execution_count": 1,
   "source": [
    "\"\"\"The Zen of Python\"\"\"\r\n",
    "import this"
   ],
   "outputs": [
    {
     "output_type": "stream",
     "name": "stdout",
     "text": [
      "The Zen of Python, by Tim Peters\n",
      "\n",
      "Beautiful is better than ugly.\n",
      "Explicit is better than implicit.\n",
      "Simple is better than complex.\n",
      "Complex is better than complicated.\n",
      "Flat is better than nested.\n",
      "Sparse is better than dense.\n",
      "Readability counts.\n",
      "Special cases aren't special enough to break the rules.\n",
      "Although practicality beats purity.\n",
      "Errors should never pass silently.\n",
      "Unless explicitly silenced.\n",
      "In the face of ambiguity, refuse the temptation to guess.\n",
      "There should be one-- and preferably only one --obvious way to do it.\n",
      "Although that way may not be obvious at first unless you're Dutch.\n",
      "Now is better than never.\n",
      "Although never is often better than *right* now.\n",
      "If the implementation is hard to explain, it's a bad idea.\n",
      "If the implementation is easy to explain, it may be a good idea.\n",
      "Namespaces are one honking great idea -- let's do more of those!\n"
     ]
    }
   ],
   "metadata": {}
  },
  {
   "cell_type": "markdown",
   "source": [
    "## Python as a calculator"
   ],
   "metadata": {}
  },
  {
   "cell_type": "code",
   "execution_count": 2,
   "source": [
    "\"\"\"Multiplication operation\"\"\"\r\n",
    "4*7"
   ],
   "outputs": [
    {
     "output_type": "execute_result",
     "data": {
      "text/plain": [
       "28"
      ]
     },
     "metadata": {},
     "execution_count": 2
    }
   ],
   "metadata": {}
  },
  {
   "cell_type": "code",
   "execution_count": 3,
   "source": [
    "\"\"\"In this example, value is calculated by performing operations according to mathematical rules\"\"\"\r\n",
    "3*(2+5)"
   ],
   "outputs": [
    {
     "output_type": "execute_result",
     "data": {
      "text/plain": [
       "21"
      ]
     },
     "metadata": {},
     "execution_count": 3
    }
   ],
   "metadata": {}
  },
  {
   "cell_type": "code",
   "execution_count": 4,
   "source": [
    "\"\"\"Bitwise XOR operation\"\"\"\r\n",
    "5^3 #due to its bitwiseness, it will return 6"
   ],
   "outputs": [
    {
     "output_type": "execute_result",
     "data": {
      "text/plain": [
       "6"
      ]
     },
     "metadata": {},
     "execution_count": 4
    }
   ],
   "metadata": {}
  },
  {
   "cell_type": "code",
   "execution_count": 5,
   "source": [
    "\"\"\"Power operation\"\"\"\r\n",
    "5**3"
   ],
   "outputs": [
    {
     "output_type": "execute_result",
     "data": {
      "text/plain": [
       "125"
      ]
     },
     "metadata": {},
     "execution_count": 5
    }
   ],
   "metadata": {}
  },
  {
   "cell_type": "code",
   "execution_count": 6,
   "source": [
    "\"\"\"Since Python 3, division operation with one slash will always return a float result\"\"\"\r\n",
    "12/3"
   ],
   "outputs": [
    {
     "output_type": "execute_result",
     "data": {
      "text/plain": [
       "4.0"
      ]
     },
     "metadata": {},
     "execution_count": 6
    }
   ],
   "metadata": {}
  },
  {
   "cell_type": "code",
   "execution_count": 7,
   "source": [
    "\"\"\"\r\n",
    "If you need a division with an integer result, you should use the double-slashed divsion operator.\r\n",
    "It will floor resulting value to the nearest integer\r\n",
    "\"\"\"\r\n",
    "3//2"
   ],
   "outputs": [
    {
     "output_type": "execute_result",
     "data": {
      "text/plain": [
       "1"
      ]
     },
     "metadata": {},
     "execution_count": 7
    }
   ],
   "metadata": {}
  },
  {
   "cell_type": "code",
   "execution_count": 8,
   "source": [
    "\"\"\"You can try to extract the square root by using a 'sqrt' function, but it will not work without 'math' module import\"\"\"\r\n",
    "sqrt(4)"
   ],
   "outputs": [
    {
     "output_type": "error",
     "ename": "NameError",
     "evalue": "name 'sqrt' is not defined",
     "traceback": [
      "\u001b[1;31m---------------------------------------------------------------------------\u001b[0m",
      "\u001b[1;31mNameError\u001b[0m                                 Traceback (most recent call last)",
      "\u001b[1;32mC:\\Users\\3EC2~1\\AppData\\Local\\Temp/ipykernel_19344/139986740.py\u001b[0m in \u001b[0;36m<module>\u001b[1;34m\u001b[0m\n\u001b[0;32m      1\u001b[0m \u001b[1;34m\"\"\"We can try to extract the square root by using a 'sqrt' function, but it will not work without 'math' module import\"\"\"\u001b[0m\u001b[1;33m\u001b[0m\u001b[1;33m\u001b[0m\u001b[0m\n\u001b[1;32m----> 2\u001b[1;33m \u001b[0msqrt\u001b[0m\u001b[1;33m(\u001b[0m\u001b[1;36m4\u001b[0m\u001b[1;33m)\u001b[0m\u001b[1;33m\u001b[0m\u001b[1;33m\u001b[0m\u001b[0m\n\u001b[0m",
      "\u001b[1;31mNameError\u001b[0m: name 'sqrt' is not defined"
     ]
    }
   ],
   "metadata": {}
  },
  {
   "cell_type": "code",
   "execution_count": 9,
   "source": [
    "\"\"\"\r\n",
    "The corresponding function is in the standard math module. \r\n",
    "To use it, you need import this module. After importing, you can call it from module\r\n",
    "\"\"\"\r\n",
    "import math\r\n",
    "math.sqrt(4)"
   ],
   "outputs": [
    {
     "output_type": "execute_result",
     "data": {
      "text/plain": [
       "2.0"
      ]
     },
     "metadata": {},
     "execution_count": 9
    }
   ],
   "metadata": {}
  },
  {
   "cell_type": "code",
   "execution_count": 10,
   "source": [
    "\"\"\"\r\n",
    "After importing the 'math' module you can use any other function from it. \r\n",
    "Let's take a look for the sine function\r\n",
    "\"\"\"\r\n",
    "math.sin(0)"
   ],
   "outputs": [
    {
     "output_type": "execute_result",
     "data": {
      "text/plain": [
       "0.0"
      ]
     },
     "metadata": {},
     "execution_count": 10
    }
   ],
   "metadata": {}
  },
  {
   "cell_type": "code",
   "execution_count": 11,
   "source": [
    "\"\"\"\r\n",
    "If previously described syntax seems clumsy to you, there is always another way to import functions. \r\n",
    "You can directly import only necessary functions from modules. \r\n",
    "In this example we will call sqrt function directly\r\n",
    "\"\"\"\r\n",
    "from math import sqrt\r\n",
    "sqrt(4)"
   ],
   "outputs": [
    {
     "output_type": "execute_result",
     "data": {
      "text/plain": [
       "2.0"
      ]
     },
     "metadata": {},
     "execution_count": 11
    }
   ],
   "metadata": {}
  },
  {
   "cell_type": "markdown",
   "source": [
    "## Real numbers and errors"
   ],
   "metadata": {}
  },
  {
   "cell_type": "code",
   "execution_count": 12,
   "source": [
    "\"\"\"Real numbers in programming are not that simple. \r\n",
    "For example, lets calculate the sine of the π \r\n",
    "(we will import PI constant and sin functiom directly from math module)\r\n",
    "\"\"\"\r\n",
    "from math import pi, sin\r\n",
    "sin(pi)"
   ],
   "outputs": [
    {
     "output_type": "execute_result",
     "data": {
      "text/plain": [
       "1.2246467991473532e-16"
      ]
     },
     "metadata": {},
     "execution_count": 12
    }
   ],
   "metadata": {}
  },
  {
   "cell_type": "markdown",
   "source": [
    "## Variables"
   ],
   "metadata": {}
  },
  {
   "cell_type": "code",
   "execution_count": 2,
   "source": [
    "\"\"\"In Python, you dont need to declare a variable - you just need to assign it to some value\"\"\"\r\n",
    "x = 4 # assign x to 4\r\n",
    "x # result"
   ],
   "outputs": [
    {
     "output_type": "execute_result",
     "data": {
      "text/plain": [
       "4"
      ]
     },
     "metadata": {},
     "execution_count": 2
    }
   ],
   "metadata": {}
  },
  {
   "cell_type": "code",
   "execution_count": 3,
   "source": [
    "x + 2 # result will be equal to 6, but value of x wont change\r\n",
    "x = x + 2 # now we are increasing x value by two\r\n",
    "x # result"
   ],
   "outputs": [
    {
     "output_type": "execute_result",
     "data": {
      "text/plain": [
       "6"
      ]
     },
     "metadata": {},
     "execution_count": 3
    }
   ],
   "metadata": {}
  },
  {
   "cell_type": "markdown",
   "source": [
    "## Reading data"
   ],
   "metadata": {}
  },
  {
   "cell_type": "code",
   "execution_count": 4,
   "source": [
    "\"\"\"\r\n",
    "While working in Notebook it is rare to input something manually, but for other programms it could become handy.\r\n",
    "Lets write a program, which greets us:\r\n",
    "\"\"\"\r\n",
    "name = input(\"Input your name: \") # getting name from keyboard\r\n",
    "print(f\"Hello, {name}\") # getting it printed in the console will greetings\r\n",
    "name # and this command will print our console input"
   ],
   "outputs": [
    {
     "output_type": "stream",
     "name": "stdout",
     "text": [
      "Hello, Yo\n"
     ]
    },
    {
     "output_type": "execute_result",
     "data": {
      "text/plain": [
       "'Yo'"
      ]
     },
     "metadata": {},
     "execution_count": 4
    }
   ],
   "metadata": {}
  },
  {
   "cell_type": "code",
   "execution_count": 9,
   "source": [
    "\"\"\"\r\n",
    "Lets try to write a program that double our input. \r\n",
    "It will be reading a number, doubling it and returning afterwards.\r\n",
    "\"\"\"\r\n",
    "x = input(\"Input some number: \") # getting number from user\r\n",
    "print(x*2) # printing it times two"
   ],
   "outputs": [
    {
     "output_type": "stream",
     "name": "stdout",
     "text": [
      "13371337\n"
     ]
    }
   ],
   "metadata": {}
  },
  {
   "cell_type": "code",
   "execution_count": 8,
   "source": [
    "\"\"\"\r\n",
    "Input return type is always a string. \r\n",
    "To make doubler work properly we should rewrite it like this\r\n",
    "\"\"\"\r\n",
    "x_srt = input(\"Input some number: \") # getting number from user\r\n",
    "x = int(x_srt) # converting string to int\r\n",
    "print(x*2) # printing x times two as int"
   ],
   "outputs": [
    {
     "output_type": "stream",
     "name": "stdout",
     "text": [
      "2674\n"
     ]
    }
   ],
   "metadata": {}
  },
  {
   "cell_type": "code",
   "execution_count": 11,
   "source": [
    "\"\"\"Thats better, but we can make it look more readable\"\"\"\r\n",
    "x = int(input(\"Input some number: \")) # converting string to int on the same line\r\n",
    "print(x*2)"
   ],
   "outputs": [
    {
     "output_type": "error",
     "ename": "ValueError",
     "evalue": "invalid literal for int() with base 10: '133.7'",
     "traceback": [
      "\u001b[1;31m---------------------------------------------------------------------------\u001b[0m",
      "\u001b[1;31mValueError\u001b[0m                                Traceback (most recent call last)",
      "\u001b[1;32mC:\\Users\\3EC2~1\\AppData\\Local\\Temp/ipykernel_14964/336187105.py\u001b[0m in \u001b[0;36m<module>\u001b[1;34m\u001b[0m\n\u001b[0;32m      1\u001b[0m \u001b[1;34m\"\"\"Thats better, but we can make it look more readable\"\"\"\u001b[0m\u001b[1;33m\u001b[0m\u001b[1;33m\u001b[0m\u001b[0m\n\u001b[1;32m----> 2\u001b[1;33m \u001b[0mx\u001b[0m \u001b[1;33m=\u001b[0m \u001b[0mint\u001b[0m\u001b[1;33m(\u001b[0m\u001b[0minput\u001b[0m\u001b[1;33m(\u001b[0m\u001b[1;34m\"Input some number: \"\u001b[0m\u001b[1;33m)\u001b[0m\u001b[1;33m)\u001b[0m \u001b[1;31m# converting string to int on the same line\u001b[0m\u001b[1;33m\u001b[0m\u001b[1;33m\u001b[0m\u001b[0m\n\u001b[0m\u001b[0;32m      3\u001b[0m \u001b[0mprint\u001b[0m\u001b[1;33m(\u001b[0m\u001b[0mx\u001b[0m\u001b[1;33m*\u001b[0m\u001b[1;36m2\u001b[0m\u001b[1;33m)\u001b[0m\u001b[1;33m\u001b[0m\u001b[1;33m\u001b[0m\u001b[0m\n",
      "\u001b[1;31mValueError\u001b[0m: invalid literal for int() with base 10: '133.7'"
     ]
    }
   ],
   "metadata": {}
  },
  {
   "cell_type": "code",
   "execution_count": 12,
   "source": [
    "\"\"\"\r\n",
    "If we try to input float type, doubler would not work correctly. \r\n",
    "Lets fix that\r\n",
    "\"\"\"\r\n",
    "x = float(input(\"Input some number (not necessary an integer): \")) # converting data to the float type\r\n",
    "print(x*2)"
   ],
   "outputs": [
    {
     "output_type": "stream",
     "name": "stdout",
     "text": [
      "267.4\n"
     ]
    }
   ],
   "metadata": {}
  },
  {
   "cell_type": "markdown",
   "source": [
    "## Practical task : Fibonacci sequence"
   ],
   "metadata": {}
  },
  {
   "cell_type": "markdown",
   "source": [
    "Fibonacci numbers or Fibonacci sequence is a sequence of numbers starting with two ones, and such that the next number in this sequence is equal to the sum of two previous. Formally, you can define it as follows:\r\n",
    "\r\n",
    "$a_1 = 0$\r\n",
    "\r\n",
    "$a_1 = 0$\r\n",
    "\r\n",
    "$a_{n+1} = a_n + a_{n - 1}$ for all $n > 2$\r\n",
    "\r\n",
    "For example, $a_3=1+1=2$, $a_4=2+1=3$\r\n",
    "\r\n",
    "**Task:** calculate 15th Fibonacci number"
   ],
   "metadata": {}
  },
  {
   "cell_type": "code",
   "execution_count": 67,
   "source": [
    "a = 1 # first number\r\n",
    "b = 1 # second number\r\n",
    "i = 2 # index of number in b variable"
   ],
   "outputs": [],
   "metadata": {}
  },
  {
   "cell_type": "code",
   "execution_count": 68,
   "source": [
    "\"\"\"\r\n",
    "Python executes commands sequentially, line by line, so the order is commands is very important. \r\n",
    "Completing this cell several times, you will receive each time the next Fibonacci number.\r\n",
    "\"\"\"\r\n",
    "c = a + b # next number\r\n",
    "i = i + 1 # increased by 1\r\n",
    "a = b # we dont need a anymory\r\n",
    "b = c # remember newly getted value\r\n",
    "print(i, b)"
   ],
   "outputs": [
    {
     "output_type": "stream",
     "name": "stdout",
     "text": [
      "3 2\n"
     ]
    }
   ],
   "metadata": {}
  },
  {
   "cell_type": "code",
   "execution_count": 66,
   "source": [
    "\"\"\"What happens if we swap two lines before print?\"\"\"\r\n",
    "c = a + b # next number\r\n",
    "i = i + 1 # increased by 1\r\n",
    "b = c\r\n",
    "a = b\r\n",
    "print(i, b)"
   ],
   "outputs": [
    {
     "output_type": "stream",
     "name": "stdout",
     "text": [
      "7 32\n"
     ]
    }
   ],
   "metadata": {}
  },
  {
   "cell_type": "code",
   "execution_count": 69,
   "source": [
    "\"\"\"Lets try again\"\"\"\r\n",
    "c = a + b # next number\r\n",
    "i = i + 1 # increased by 1\r\n",
    "a = b # we dont need a anymory\r\n",
    "b = c # remember newly getted value\r\n",
    "print(i, b)"
   ],
   "outputs": [
    {
     "output_type": "stream",
     "name": "stdout",
     "text": [
      "4 3\n"
     ]
    }
   ],
   "metadata": {}
  },
  {
   "cell_type": "code",
   "execution_count": 70,
   "source": [
    "\"\"\"and again...\"\"\"\r\n",
    "c = a + b # next number\r\n",
    "i = i + 1 # increased by 1\r\n",
    "a = b # we dont need a anymory\r\n",
    "b = c # remember newly getted value\r\n",
    "print(i, b)"
   ],
   "outputs": [
    {
     "output_type": "stream",
     "name": "stdout",
     "text": [
      "5 5\n"
     ]
    }
   ],
   "metadata": {}
  }
 ],
 "metadata": {
  "orig_nbformat": 4,
  "language_info": {
   "name": "python",
   "version": "3.9.7",
   "mimetype": "text/x-python",
   "codemirror_mode": {
    "name": "ipython",
    "version": 3
   },
   "pygments_lexer": "ipython3",
   "nbconvert_exporter": "python",
   "file_extension": ".py"
  },
  "kernelspec": {
   "name": "python3",
   "display_name": "Python 3.9.7 64-bit (system)"
  },
  "interpreter": {
   "hash": "567e703cbf430ae474e313a803037765011fe56bae835f12d767153f51cd6973"
  }
 },
 "nbformat": 4,
 "nbformat_minor": 2
}