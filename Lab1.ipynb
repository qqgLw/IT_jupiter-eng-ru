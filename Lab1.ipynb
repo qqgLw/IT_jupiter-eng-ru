{
 "cells": [
  {
   "cell_type": "markdown",
   "metadata": {},
   "source": [
    "# Notebook on Information Technologies\n",
    "**by st. Toporkov A.P., IS-19-1 group**\\\n",
    "**2021**"
   ]
  },
  {
   "cell_type": "code",
   "execution_count": 1,
   "metadata": {},
   "outputs": [
    {
     "name": "stdout",
     "output_type": "stream",
     "text": [
      "The Zen of Python, by Tim Peters\n",
      "\n",
      "Beautiful is better than ugly.\n",
      "Explicit is better than implicit.\n",
      "Simple is better than complex.\n",
      "Complex is better than complicated.\n",
      "Flat is better than nested.\n",
      "Sparse is better than dense.\n",
      "Readability counts.\n",
      "Special cases aren't special enough to break the rules.\n",
      "Although practicality beats purity.\n",
      "Errors should never pass silently.\n",
      "Unless explicitly silenced.\n",
      "In the face of ambiguity, refuse the temptation to guess.\n",
      "There should be one-- and preferably only one --obvious way to do it.\n",
      "Although that way may not be obvious at first unless you're Dutch.\n",
      "Now is better than never.\n",
      "Although never is often better than *right* now.\n",
      "If the implementation is hard to explain, it's a bad idea.\n",
      "If the implementation is easy to explain, it may be a good idea.\n",
      "Namespaces are one honking great idea -- let's do more of those!\n"
     ]
    }
   ],
   "source": [
    "\"\"\"The Zen of Python\"\"\"\n",
    "import this #afiget, github.dev eto kruto"
   ]
  },
  {
   "cell_type": "markdown",
   "metadata": {},
   "source": [
    "## Python as a calculator"
   ]
  },
  {
   "cell_type": "code",
   "execution_count": 2,
   "metadata": {},
   "outputs": [
    {
     "data": {
      "text/plain": [
       "28"
      ]
     },
     "execution_count": 2,
     "metadata": {},
     "output_type": "execute_result"
    }
   ],
   "source": [
    "\"\"\"Multiplication operation\"\"\"\n",
    "4*7"
   ]
  },
  {
   "cell_type": "code",
   "execution_count": 3,
   "metadata": {},
   "outputs": [
    {
     "data": {
      "text/plain": [
       "21"
      ]
     },
     "execution_count": 3,
     "metadata": {},
     "output_type": "execute_result"
    }
   ],
   "source": [
    "\"\"\"In this example, value is calculated by performing operations according to mathematical rules\"\"\"\n",
    "3*(2+5)"
   ]
  },
  {
   "cell_type": "code",
   "execution_count": 4,
   "metadata": {},
   "outputs": [
    {
     "data": {
      "text/plain": [
       "6"
      ]
     },
     "execution_count": 4,
     "metadata": {},
     "output_type": "execute_result"
    }
   ],
   "source": [
    "\"\"\"Bitwise XOR operation\"\"\"\n",
    "5^3 #due to its bitwiseness, it will return 6"
   ]
  },
  {
   "cell_type": "code",
   "execution_count": 5,
   "metadata": {},
   "outputs": [
    {
     "data": {
      "text/plain": [
       "125"
      ]
     },
     "execution_count": 5,
     "metadata": {},
     "output_type": "execute_result"
    }
   ],
   "source": [
    "\"\"\"Power operation\"\"\"\n",
    "5**3"
   ]
  },
  {
   "cell_type": "code",
   "execution_count": 6,
   "metadata": {},
   "outputs": [
    {
     "data": {
      "text/plain": [
       "4.0"
      ]
     },
     "execution_count": 6,
     "metadata": {},
     "output_type": "execute_result"
    }
   ],
   "source": [
    "\"\"\"Since Python 3, division operation with one slash will always return a float result\"\"\"\n",
    "12/3"
   ]
  },
  {
   "cell_type": "code",
   "execution_count": 7,
   "metadata": {},
   "outputs": [
    {
     "data": {
      "text/plain": [
       "1"
      ]
     },
     "execution_count": 7,
     "metadata": {},
     "output_type": "execute_result"
    }
   ],
   "source": [
    "\"\"\"\n",
    "If you need a division with an integer result, you should use the double-slashed divsion operator.\n",
    "It will floor resulting value to the nearest integer\n",
    "\"\"\"\n",
    "3//2"
   ]
  },
  {
   "cell_type": "code",
   "execution_count": 8,
   "metadata": {},
   "outputs": [
    {
     "ename": "NameError",
     "evalue": "name 'sqrt' is not defined",
     "output_type": "error",
     "traceback": [
      "\u001b[1;31m---------------------------------------------------------------------------\u001b[0m",
      "\u001b[1;31mNameError\u001b[0m                                 Traceback (most recent call last)",
      "\u001b[1;32mC:\\Users\\3EC2~1\\AppData\\Local\\Temp/ipykernel_19344/139986740.py\u001b[0m in \u001b[0;36m<module>\u001b[1;34m\u001b[0m\n\u001b[0;32m      1\u001b[0m \u001b[1;34m\"\"\"We can try to extract the square root by using a 'sqrt' function, but it will not work without 'math' module import\"\"\"\u001b[0m\u001b[1;33m\u001b[0m\u001b[1;33m\u001b[0m\u001b[0m\n\u001b[1;32m----> 2\u001b[1;33m \u001b[0msqrt\u001b[0m\u001b[1;33m(\u001b[0m\u001b[1;36m4\u001b[0m\u001b[1;33m)\u001b[0m\u001b[1;33m\u001b[0m\u001b[1;33m\u001b[0m\u001b[0m\n\u001b[0m",
      "\u001b[1;31mNameError\u001b[0m: name 'sqrt' is not defined"
     ]
    }
   ],
   "source": [
    "\"\"\"You can try to extract the square root by using a 'sqrt' function, but it will not work without 'math' module import\"\"\"\n",
    "sqrt(4)"
   ]
  },
  {
   "cell_type": "code",
   "execution_count": 9,
   "metadata": {},
   "outputs": [
    {
     "data": {
      "text/plain": [
       "2.0"
      ]
     },
     "execution_count": 9,
     "metadata": {},
     "output_type": "execute_result"
    }
   ],
   "source": [
    "\"\"\"\n",
    "The corresponding function is in the standard math module. \n",
    "To use it, you need import this module. After importing, you can call it from module\n",
    "\"\"\"\n",
    "import math\n",
    "math.sqrt(4)"
   ]
  },
  {
   "cell_type": "code",
   "execution_count": 10,
   "metadata": {},
   "outputs": [
    {
     "data": {
      "text/plain": [
       "0.0"
      ]
     },
     "execution_count": 10,
     "metadata": {},
     "output_type": "execute_result"
    }
   ],
   "source": [
    "\"\"\"\n",
    "After importing the 'math' module you can use any other function from it. \n",
    "Let's take a look for the sine function\n",
    "\"\"\"\n",
    "math.sin(0)"
   ]
  },
  {
   "cell_type": "code",
   "execution_count": 11,
   "metadata": {},
   "outputs": [
    {
     "data": {
      "text/plain": [
       "2.0"
      ]
     },
     "execution_count": 11,
     "metadata": {},
     "output_type": "execute_result"
    }
   ],
   "source": [
    "\"\"\"\n",
    "If previously described syntax seems clumsy to you, there is always another way to import functions. \n",
    "You can directly import only necessary functions from modules. \n",
    "In this example we will call sqrt function directly\n",
    "\"\"\"\n",
    "from math import sqrt\n",
    "sqrt(4)"
   ]
  },
  {
   "cell_type": "markdown",
   "metadata": {},
   "source": [
    "## Real numbers and errors"
   ]
  },
  {
   "cell_type": "code",
   "execution_count": 12,
   "metadata": {},
   "outputs": [
    {
     "data": {
      "text/plain": [
       "1.2246467991473532e-16"
      ]
     },
     "execution_count": 12,
     "metadata": {},
     "output_type": "execute_result"
    }
   ],
   "source": [
    "\"\"\"Real numbers in programming are not that simple. \n",
    "For example, lets calculate the sine of the π \n",
    "(we will import PI constant and sin functiom directly from math module)\n",
    "\"\"\"\n",
    "from math import pi, sin\n",
    "sin(pi)"
   ]
  },
  {
   "cell_type": "markdown",
   "metadata": {},
   "source": [
    "## Variables"
   ]
  },
  {
   "cell_type": "code",
   "execution_count": 2,
   "metadata": {},
   "outputs": [
    {
     "data": {
      "text/plain": [
       "4"
      ]
     },
     "execution_count": 2,
     "metadata": {},
     "output_type": "execute_result"
    }
   ],
   "source": [
    "\"\"\"In Python, you dont need to declare a variable - you just need to assign it to some value\"\"\"\n",
    "x = 4 # assign x to 4\n",
    "x # result"
   ]
  },
  {
   "cell_type": "code",
   "execution_count": 3,
   "metadata": {},
   "outputs": [
    {
     "data": {
      "text/plain": [
       "6"
      ]
     },
     "execution_count": 3,
     "metadata": {},
     "output_type": "execute_result"
    }
   ],
   "source": [
    "x + 2 # result will be equal to 6, but value of x wont change\n",
    "x = x + 2 # now we are increasing x value by two\n",
    "x # result"
   ]
  },
  {
   "cell_type": "markdown",
   "metadata": {},
   "source": [
    "## Reading data"
   ]
  },
  {
   "cell_type": "code",
   "execution_count": 4,
   "metadata": {},
   "outputs": [
    {
     "name": "stdout",
     "output_type": "stream",
     "text": [
      "Hello, Yo\n"
     ]
    },
    {
     "data": {
      "text/plain": [
       "'Yo'"
      ]
     },
     "execution_count": 4,
     "metadata": {},
     "output_type": "execute_result"
    }
   ],
   "source": [
    "\"\"\"\n",
    "While working in Notebook it is rare to input something manually, but for other programms it could become handy.\n",
    "Lets write a program, which greets us:\n",
    "\"\"\"\n",
    "name = input(\"Input your name: \") # getting name from keyboard\n",
    "print(f\"Hello, {name}\") # getting it printed in the console will greetings\n",
    "name # and this command will print our console input"
   ]
  },
  {
   "cell_type": "code",
   "execution_count": 9,
   "metadata": {},
   "outputs": [
    {
     "name": "stdout",
     "output_type": "stream",
     "text": [
      "13371337\n"
     ]
    }
   ],
   "source": [
    "\"\"\"\n",
    "Lets try to write a program that double our input. \n",
    "It will be reading a number, doubling it and returning afterwards.\n",
    "\"\"\"\n",
    "x = input(\"Input some number: \") # getting number from user\n",
    "print(x*2) # printing it times two"
   ]
  },
  {
   "cell_type": "code",
   "execution_count": 8,
   "metadata": {},
   "outputs": [
    {
     "name": "stdout",
     "output_type": "stream",
     "text": [
      "2674\n"
     ]
    }
   ],
   "source": [
    "\"\"\"\n",
    "Input return type is always a string. \n",
    "To make doubler work properly we should rewrite it like this\n",
    "\"\"\"\n",
    "x_srt = input(\"Input some number: \") # getting number from user\n",
    "x = int(x_srt) # converting string to int\n",
    "print(x*2) # printing x times two as int"
   ]
  },
  {
   "cell_type": "code",
   "execution_count": 11,
   "metadata": {},
   "outputs": [
    {
     "ename": "ValueError",
     "evalue": "invalid literal for int() with base 10: '133.7'",
     "output_type": "error",
     "traceback": [
      "\u001b[1;31m---------------------------------------------------------------------------\u001b[0m",
      "\u001b[1;31mValueError\u001b[0m                                Traceback (most recent call last)",
      "\u001b[1;32mC:\\Users\\3EC2~1\\AppData\\Local\\Temp/ipykernel_14964/336187105.py\u001b[0m in \u001b[0;36m<module>\u001b[1;34m\u001b[0m\n\u001b[0;32m      1\u001b[0m \u001b[1;34m\"\"\"Thats better, but we can make it look more readable\"\"\"\u001b[0m\u001b[1;33m\u001b[0m\u001b[1;33m\u001b[0m\u001b[0m\n\u001b[1;32m----> 2\u001b[1;33m \u001b[0mx\u001b[0m \u001b[1;33m=\u001b[0m \u001b[0mint\u001b[0m\u001b[1;33m(\u001b[0m\u001b[0minput\u001b[0m\u001b[1;33m(\u001b[0m\u001b[1;34m\"Input some number: \"\u001b[0m\u001b[1;33m)\u001b[0m\u001b[1;33m)\u001b[0m \u001b[1;31m# converting string to int on the same line\u001b[0m\u001b[1;33m\u001b[0m\u001b[1;33m\u001b[0m\u001b[0m\n\u001b[0m\u001b[0;32m      3\u001b[0m \u001b[0mprint\u001b[0m\u001b[1;33m(\u001b[0m\u001b[0mx\u001b[0m\u001b[1;33m*\u001b[0m\u001b[1;36m2\u001b[0m\u001b[1;33m)\u001b[0m\u001b[1;33m\u001b[0m\u001b[1;33m\u001b[0m\u001b[0m\n",
      "\u001b[1;31mValueError\u001b[0m: invalid literal for int() with base 10: '133.7'"
     ]
    }
   ],
   "source": [
    "\"\"\"Thats better, but we can make it look more readable\"\"\"\n",
    "x = int(input(\"Input some number: \")) # converting string to int on the same line\n",
    "print(x*2)"
   ]
  },
  {
   "cell_type": "code",
   "execution_count": 12,
   "metadata": {},
   "outputs": [
    {
     "name": "stdout",
     "output_type": "stream",
     "text": [
      "267.4\n"
     ]
    }
   ],
   "source": [
    "\"\"\"\n",
    "If we try to input float type, doubler would not work correctly. \n",
    "Lets fix that\n",
    "\"\"\"\n",
    "x = float(input(\"Input some number (not necessary an integer): \")) # converting data to the float type\n",
    "print(x*2)"
   ]
  },
  {
   "cell_type": "markdown",
   "metadata": {},
   "source": [
    "## Practical task : Fibonacci sequence"
   ]
  },
  {
   "cell_type": "markdown",
   "metadata": {},
   "source": [
    "Fibonacci numbers or Fibonacci sequence is a sequence of numbers starting with two ones, and such that the next number in this sequence is equal to the sum of two previous. Formally, you can define it as follows:\n",
    "\n",
    "$a_1 = 0$\n",
    "\n",
    "$a_1 = 0$\n",
    "\n",
    "$a_{n+1} = a_n + a_{n - 1}$ for all $n > 2$\n",
    "\n",
    "For example, $a_3=1+1=2$, $a_4=2+1=3$\n",
    "\n",
    "**Task:** calculate 15th Fibonacci number"
   ]
  },
  {
   "cell_type": "code",
   "execution_count": 67,
   "metadata": {},
   "outputs": [],
   "source": [
    "a = 1 # first number\n",
    "b = 1 # second number\n",
    "i = 2 # index of number in b variable"
   ]
  },
  {
   "cell_type": "code",
   "execution_count": 68,
   "metadata": {},
   "outputs": [
    {
     "name": "stdout",
     "output_type": "stream",
     "text": [
      "3 2\n"
     ]
    }
   ],
   "source": [
    "\"\"\"\n",
    "Python executes commands sequentially, line by line, so the order is commands is very important. \n",
    "Completing this cell several times, you will receive each time the next Fibonacci number.\n",
    "\"\"\"\n",
    "c = a + b # next number\n",
    "i = i + 1 # increased by 1\n",
    "a = b # we dont need a anymory\n",
    "b = c # remember newly getted value\n",
    "print(i, b)"
   ]
  },
  {
   "cell_type": "code",
   "execution_count": 66,
   "metadata": {},
   "outputs": [
    {
     "name": "stdout",
     "output_type": "stream",
     "text": [
      "7 32\n"
     ]
    }
   ],
   "source": [
    "\"\"\"What happens if we swap two lines before print?\"\"\"\n",
    "c = a + b # next number\n",
    "i = i + 1 # increased by 1\n",
    "b = c\n",
    "a = b\n",
    "print(i, b)"
   ]
  },
  {
   "cell_type": "code",
   "execution_count": 69,
   "metadata": {},
   "outputs": [
    {
     "name": "stdout",
     "output_type": "stream",
     "text": [
      "4 3\n"
     ]
    }
   ],
   "source": [
    "\"\"\"Lets try again\"\"\"\n",
    "c = a + b # next number\n",
    "i = i + 1 # increased by 1\n",
    "a = b # we dont need a anymory\n",
    "b = c # remember newly getted value\n",
    "print(i, b)"
   ]
  },
  {
   "cell_type": "code",
   "execution_count": 70,
   "metadata": {},
   "outputs": [
    {
     "name": "stdout",
     "output_type": "stream",
     "text": [
      "5 5\n"
     ]
    }
   ],
   "source": [
    "\"\"\"and again...\"\"\"\n",
    "c = a + b # next number\n",
    "i = i + 1 # increased by 1\n",
    "a = b # we dont need a anymory\n",
    "b = c # remember newly getted value\n",
    "print(i, b)"
   ]
  }
 ],
 "metadata": {
  "interpreter": {
   "hash": "567e703cbf430ae474e313a803037765011fe56bae835f12d767153f51cd6973"
  },
  "kernelspec": {
   "display_name": "Python 3.9.7 64-bit (system)",
   "name": "python3"
  },
  "language_info": {
   "codemirror_mode": {
    "name": "ipython",
    "version": 3
   },
   "file_extension": ".py",
   "mimetype": "text/x-python",
   "name": "python",
   "nbconvert_exporter": "python",
   "pygments_lexer": "ipython3",
   "version": "3.9.7"
  },
  "orig_nbformat": 4
 },
 "nbformat": 4,
 "nbformat_minor": 2
}
