{
 "cells": [
  {
   "cell_type": "markdown",
   "metadata": {},
   "source": [
    "\n",
    "# Notebook of information technology #5\n",
    "**by st. Toporkov A.P., IS-19-1 group**\\\n",
    "**2021**"
   ]
  },
  {
   "cell_type": "markdown",
   "metadata": {},
   "source": [
    "## Python programming for data collecting and analyzing"
   ]
  },
  {
   "cell_type": "markdown",
   "metadata": {},
   "source": [
    "### Dictionaries"
   ]
  },
  {
   "cell_type": "code",
   "execution_count": 2,
   "metadata": {},
   "outputs": [],
   "source": [
    "\"\"\"\n",
    "Let's say that we have info about students and their marks and we need to \n",
    "collate this data. We can represent data about marks for each student in two different lists\n",
    "\"\"\"\n",
    "\n",
    "students = [\"Вася\", \"Коля\", \"Петя\", \"Аня\"] #list with student names that need to be mathed with marks data\n",
    "grades = [5, 4, 2, 3] # Vasya got 5, Kolya got 4 and so on"
   ]
  },
  {
   "cell_type": "code",
   "execution_count": 3,
   "metadata": {},
   "outputs": [],
   "source": [
    "\"\"\"\n",
    "In Python, it is possible to manipulate data in those type of objects, \n",
    "in which elements are numerated by random objects, not by natural numbers. \n",
    "Accordingly, in Python this type named 'dictionary'.\n",
    "\"\"\" \n",
    "\n",
    "gradebook = {\"Вася\": 5, \"Коля\": 4, \"Петя\":2, \"Аня\": 3} #initializing a dictionary in Python"
   ]
  },
  {
   "cell_type": "code",
   "execution_count": 4,
   "metadata": {},
   "outputs": [
    {
     "data": {
      "text/plain": [
       "{'Вася': 5, 'Коля': 4, 'Петя': 2, 'Аня': 3}"
      ]
     },
     "execution_count": 4,
     "metadata": {},
     "output_type": "execute_result"
    }
   ],
   "source": [
    "\"\"\"\n",
    "It is similar to list, but have some differences. Firslty we use figure brackets instead of square ones\n",
    "Secondly dictionary consists of records, which consists of two parts: key and value.\n",
    "\"\"\"\n",
    "\n",
    "gradebook # 'gradebook' dictionary now contains four entries, the keys of which are the names of students, and the values are their grades."
   ]
  },
  {
   "cell_type": "code",
   "execution_count": 5,
   "metadata": {},
   "outputs": [
    {
     "data": {
      "text/plain": [
       "3"
      ]
     },
     "execution_count": 5,
     "metadata": {},
     "output_type": "execute_result"
    }
   ],
   "source": [
    "\"\"\"\n",
    "As we could see, Python has reordered records in the dictionary.\n",
    "The order of record output int the dictionary is random, because order doesnt matter in them.  \n",
    "We cannot instruct dictionary to grab its \"first element\".\n",
    "Thus, access to records can be provided by their keys\n",
    "\"\"\"\n",
    "\n",
    "gradebook['Аня'] # order doesn't matter, so that we access our records only by their keys"
   ]
  },
  {
   "cell_type": "code",
   "execution_count": 6,
   "metadata": {},
   "outputs": [
    {
     "data": {
      "text/plain": [
       "{'Вася': 5, 'Коля': 4, 'Петя': 2, 'Аня': 5}"
      ]
     },
     "execution_count": 6,
     "metadata": {},
     "output_type": "execute_result"
    }
   ],
   "source": [
    "gradebook['Аня'] = 5 #Also you can change value by certain key\n",
    "gradebook"
   ]
  },
  {
   "cell_type": "code",
   "execution_count": 7,
   "metadata": {},
   "outputs": [
    {
     "data": {
      "text/plain": [
       "{'Вася': 5, 'Коля': 4, 'Петя': 2, 'Аня': 5, 'Иннокентий': 4}"
      ]
     },
     "execution_count": 7,
     "metadata": {},
     "output_type": "execute_result"
    }
   ],
   "source": [
    "gradebook['Иннокентий'] = 4 #We can easily add new data just by writing new key and assigning new value to it\n",
    "gradebook"
   ]
  },
  {
   "cell_type": "code",
   "execution_count": 8,
   "metadata": {},
   "outputs": [
    {
     "ename": "KeyError",
     "evalue": "'Alice'",
     "output_type": "error",
     "traceback": [
      "\u001b[1;31m---------------------------------------------------------------------------\u001b[0m",
      "\u001b[1;31mKeyError\u001b[0m                                  Traceback (most recent call last)",
      "\u001b[1;32m~\\AppData\\Local\\Temp/ipykernel_15432/1368785675.py\u001b[0m in \u001b[0;36m<module>\u001b[1;34m\u001b[0m\n\u001b[0;32m      1\u001b[0m \u001b[1;34m\"If we will try to refer to unexisting record, it will return an exception\"\u001b[0m\u001b[1;33m\u001b[0m\u001b[1;33m\u001b[0m\u001b[0m\n\u001b[0;32m      2\u001b[0m \u001b[1;33m\u001b[0m\u001b[0m\n\u001b[1;32m----> 3\u001b[1;33m \u001b[0mgradebook\u001b[0m\u001b[1;33m[\u001b[0m\u001b[1;34m'Alice'\u001b[0m\u001b[1;33m]\u001b[0m \u001b[1;31m#If we will try to refer to unexisting record, we will catch an exception\u001b[0m\u001b[1;33m\u001b[0m\u001b[1;33m\u001b[0m\u001b[0m\n\u001b[0m",
      "\u001b[1;31mKeyError\u001b[0m: 'Alice'"
     ]
    }
   ],
   "source": [
    "\"If we will try to refer to unexisting record, it will return an exception\"\n",
    "\n",
    "gradebook['Alice'] #If we will try to refer to unexisting record, we will catch an exception"
   ]
  },
  {
   "cell_type": "code",
   "execution_count": null,
   "metadata": {},
   "outputs": [],
   "source": [
    "\"If we want to aviod catching exception on accessing unexisting value, we can use get method\"\n",
    "print(gradebook.get('Alice')) # returning None in print"
   ]
  },
  {
   "cell_type": "code",
   "execution_count": null,
   "metadata": {},
   "outputs": [
    {
     "name": "stdout",
     "output_type": "stream",
     "text": [
      "5\n",
      "No such student\n",
      "5\n"
     ]
    }
   ],
   "source": [
    "print(gradebook.get('Вася')) #print an existing student\n",
    "print(gradebook.get('Alice', 'No such student')) #second argument in get method stands for output in case of refering for unexisting member\n",
    "print(gradebook.get('Вася', 'No such student')) #this call would return existing value (5 in this case)"
   ]
  },
  {
   "cell_type": "code",
   "execution_count": null,
   "metadata": {},
   "outputs": [
    {
     "data": {
      "text/plain": [
       "dict_values([5, 4, 2, 5, 4])"
      ]
     },
     "execution_count": 15,
     "metadata": {},
     "output_type": "execute_result"
    }
   ],
   "source": [
    "\"We can get all the components (key or value) of the record in the form of list. Technicaly, it won't be exactly a list, however.\"\n",
    "gradebook.keys() #To get all keys from the dictionary, we can use keys method\n",
    "gradebook.values() #We can do the same thing with values"
   ]
  },
  {
   "cell_type": "code",
   "execution_count": null,
   "metadata": {},
   "outputs": [],
   "source": [
    "\"We can use any objects as keys\"\n",
    "squares={1:1, 2:4, 3:9} #lets create dictionary with int type keys"
   ]
  },
  {
   "cell_type": "code",
   "execution_count": null,
   "metadata": {},
   "outputs": [],
   "source": [
    "squares # get all values and keys. All those are similar to the declared ones"
   ]
  },
  {
   "cell_type": "code",
   "execution_count": null,
   "metadata": {},
   "outputs": [
    {
     "name": "stdout",
     "output_type": "stream",
     "text": [
      "1\n",
      "4\n"
     ]
    },
    {
     "ename": "KeyError",
     "evalue": "0",
     "output_type": "error",
     "traceback": [
      "\u001b[1;31m---------------------------------------------------------------------------\u001b[0m",
      "\u001b[1;31mKeyError\u001b[0m                                  Traceback (most recent call last)",
      "\u001b[1;32m<ipython-input-17-b66f39e8b7bd>\u001b[0m in \u001b[0;36m<module>\u001b[1;34m\u001b[0m\n\u001b[0;32m      2\u001b[0m \u001b[0mprint\u001b[0m\u001b[1;33m(\u001b[0m\u001b[0msquares\u001b[0m\u001b[1;33m[\u001b[0m\u001b[1;36m2\u001b[0m\u001b[1;33m]\u001b[0m\u001b[1;33m)\u001b[0m \u001b[1;31m# get value from key 2\u001b[0m\u001b[1;33m\u001b[0m\u001b[1;33m\u001b[0m\u001b[0m\n\u001b[0;32m      3\u001b[0m \u001b[1;34m\"in the current example, we might think that 'squares' behaves like list, but that is not true \"\u001b[0m\u001b[1;33m\u001b[0m\u001b[1;33m\u001b[0m\u001b[0m\n\u001b[1;32m----> 4\u001b[1;33m \u001b[0msquares\u001b[0m\u001b[1;33m[\u001b[0m\u001b[1;36m0\u001b[0m\u001b[1;33m]\u001b[0m \u001b[1;31m# we cant access this key, because it dont exist\u001b[0m\u001b[1;33m\u001b[0m\u001b[1;33m\u001b[0m\u001b[0m\n\u001b[0m",
      "\u001b[1;31mKeyError\u001b[0m: 0"
     ]
    }
   ],
   "source": [
    "print(squares[1]) # get value from key 1\n",
    "print(squares[2]) # get value from key 2\n",
    "\"in the current example, we might think that 'squares' behaves like list, but that is not true \"\n",
    "squares[0] # we cant access this key, because it dont exist and dict elements are not ordered by their index. At the same time, any list has element indexed by zero"
   ]
  },
  {
   "cell_type": "markdown",
   "metadata": {},
   "source": [
    "## Iterations over records in dictionaries"
   ]
  },
  {
   "cell_type": "code",
   "execution_count": 9,
   "metadata": {},
   "outputs": [
    {
     "name": "stdout",
     "output_type": "stream",
     "text": [
      "Вася\n",
      "Коля\n",
      "Петя\n",
      "Аня\n",
      "Иннокентий\n"
     ]
    }
   ],
   "source": [
    "\"\"\"\n",
    "How shlould we process information in dictionaries?\n",
    "The for loop in this case iterates through all the keys of our dictionary.\n",
    "\"\"\"\n",
    "\n",
    "for k in gradebook: #the for loop in this case iterates through all the keys of our dictionary\n",
    "    print(k) # prints key"
   ]
  },
  {
   "cell_type": "code",
   "execution_count": 10,
   "metadata": {},
   "outputs": [
    {
     "name": "stdout",
     "output_type": "stream",
     "text": [
      "Студент Вася имеет оценку 5\n",
      "Студент Коля имеет оценку 4\n",
      "Студент Петя имеет оценку 2\n",
      "Студент Аня имеет оценку 5\n",
      "Студент Иннокентий имеет оценку 4\n"
     ]
    }
   ],
   "source": [
    "for k in gradebook: # If we want to get values of our dictionary, we can access them through keys\n",
    "    print(\"Студент\", k, \"имеет оценку\", gradebook[k]) # get the key and the value of the next record"
   ]
  },
  {
   "cell_type": "code",
   "execution_count": 11,
   "metadata": {},
   "outputs": [
    {
     "name": "stdout",
     "output_type": "stream",
     "text": [
      "Студент Вася имеет оценку 5\n",
      "Студент Коля имеет оценку 4\n",
      "Студент Петя имеет оценку 2\n",
      "Студент Аня имеет оценку 5\n",
      "Студент Иннокентий имеет оценку 4\n"
     ]
    }
   ],
   "source": [
    "# there is a more elegant way to get keys and corresponding values: we can use 'items()'\n",
    "for k, v in gradebook.items(): #items method returns a list (an iterator, to be precise) consisting of (key, value) tuples\n",
    "    print(\"Студент\",k,\"имеет оценку\", v) # more elegant iteration through dictionary"
   ]
  },
  {
   "cell_type": "code",
   "execution_count": 12,
   "metadata": {},
   "outputs": [
    {
     "data": {
      "text/plain": [
       "[('Вася', 5), ('Коля', 4), ('Петя', 2), ('Аня', 5), ('Иннокентий', 4)]"
      ]
     },
     "execution_count": 12,
     "metadata": {},
     "output_type": "execute_result"
    }
   ],
   "source": [
    "list(gradebook.items()) # let's see wthat actualy 'items()' method will output"
   ]
  },
  {
   "cell_type": "code",
   "execution_count": 13,
   "metadata": {},
   "outputs": [
    {
     "name": "stdout",
     "output_type": "stream",
     "text": [
      "Коля\n",
      "Иннокентий\n"
     ]
    }
   ],
   "source": [
    "#This is a similar behavior we have already met when discussing the enumerate construction.\n",
    "#the for operator in this case understands that in each iteration the next tuple should be selected\n",
    "for k, v in gradebook.items(): # first element (dictionary key) of selected tuple assigned to the k variable, likewise for v\n",
    "    if v==4: #find all records with a given value\n",
    "        print(k) #print all students who received grade 4"
   ]
  },
  {
   "cell_type": "code",
   "execution_count": 14,
   "metadata": {},
   "outputs": [
    {
     "data": {
      "text/plain": [
       "True"
      ]
     },
     "execution_count": 14,
     "metadata": {},
     "output_type": "execute_result"
    }
   ],
   "source": [
    "\"Examples above requires to brute access elements through all dictionary, which is not quite convinient\"\n",
    "\n",
    "\"Коля\" in gradebook #quickly check if a record with the given key exists in the dictionary"
   ]
  },
  {
   "cell_type": "code",
   "execution_count": 15,
   "metadata": {},
   "outputs": [
    {
     "data": {
      "text/plain": [
       "False"
      ]
     },
     "execution_count": 15,
     "metadata": {},
     "output_type": "execute_result"
    }
   ],
   "source": [
    "\"Alice\" in gradebook #check record by unexisting key\n"
   ]
  },
  {
   "cell_type": "code",
   "execution_count": 16,
   "metadata": {},
   "outputs": [
    {
     "data": {
      "text/plain": [
       "True"
      ]
     },
     "execution_count": 16,
     "metadata": {},
     "output_type": "execute_result"
    }
   ],
   "source": [
    "1 in gradebook.values() # to search among the values, we should specify searching collection with '.values()' method\n",
    "4 in gradebook.values()"
   ]
  },
  {
   "cell_type": "code",
   "execution_count": null,
   "metadata": {},
   "outputs": [],
   "source": [
    "5 in [1,2,3,5,8] #The 'in' operator is not limited to use with dictionaries: it can used for any iterable\n",
    "6 in range(1,5)"
   ]
  },
  {
   "cell_type": "markdown",
   "metadata": {},
   "source": [
    "### Creating dictionaries and zip function"
   ]
  },
  {
   "cell_type": "code",
   "execution_count": 17,
   "metadata": {},
   "outputs": [
    {
     "data": {
      "text/plain": [
       "{1: 1, 'hello': 'world'}"
      ]
     },
     "execution_count": 17,
     "metadata": {},
     "output_type": "execute_result"
    }
   ],
   "source": [
    "\"There are several ways to create a dictionary\"\n",
    "my_dict = {} #We can create empty one \n",
    "my_dict[1] = 1 #and append new elements in it\n",
    "my_dict['hello'] = 'world' # elements of different types get along well in the same dictionary\n",
    "my_dict"
   ]
  },
  {
   "cell_type": "code",
   "execution_count": 18,
   "metadata": {},
   "outputs": [
    {
     "data": {
      "text/plain": [
       "{'hello': 'world', 'one': 'two'}"
      ]
     },
     "execution_count": 18,
     "metadata": {},
     "output_type": "execute_result"
    }
   ],
   "source": [
    "dict([('hello','world'), ('one', 'two')]) # the other way is to pass the dict() function a list consisting of record pairs"
   ]
  },
  {
   "cell_type": "code",
   "execution_count": 21,
   "metadata": {},
   "outputs": [
    {
     "data": {
      "text/plain": [
       "[('Вася', 5), ('Коля', 4), ('Петя', 2), ('Аня', 3)]"
      ]
     },
     "execution_count": 21,
     "metadata": {},
     "output_type": "execute_result"
    }
   ],
   "source": [
    "\"\"\"\n",
    "Let's say we have two lists, one contains the names of the students, and the other contains their grades. \n",
    "How we can from these lists create a dictionary for which names would be keys, and grades list would stands for values?\n",
    "\"\"\"\n",
    "\n",
    "students = [\"Вася\", \"Коля\", \"Петя\", \"Аня\"] # list, containing student names\n",
    "grades = [5, 4, 2, 3] # separate marks list of the same length\n",
    "new_gradebook = list(zip(students,grades)) # usage of zip function is the solution\n",
    "new_gradebook # several lists now are zipped together"
   ]
  },
  {
   "cell_type": "code",
   "execution_count": 20,
   "metadata": {},
   "outputs": [
    {
     "data": {
      "text/plain": [
       "[(1, 'a'), (2, 'b'), (3, 'c')]"
      ]
     },
     "execution_count": 20,
     "metadata": {},
     "output_type": "execute_result"
    }
   ],
   "source": [
    "list(zip([1,2,3],['a','b','c'])) #here, zip() makes a list of pairs from a pair of lists\n"
   ]
  },
  {
   "cell_type": "code",
   "execution_count": 22,
   "metadata": {},
   "outputs": [
    {
     "name": "stdout",
     "output_type": "stream",
     "text": [
      "Вася has grade 5\n",
      "Коля has grade 4\n",
      "Петя has grade 2\n",
      "Аня has grade 3\n"
     ]
    }
   ],
   "source": [
    "for student, grade in zip(students, grades): # we can use zip() when we need to iterate over the collating elements of two interconnected(semantically) lists\n",
    "    print(student, \"has grade\", grade) # display information about each student's mark without using dictionaries"
   ]
  },
  {
   "cell_type": "code",
   "execution_count": 24,
   "metadata": {},
   "outputs": [
    {
     "data": {
      "text/plain": [
       "[(1, 5, 'a'), (2, 6, 'b'), (3, 7, 'c'), (4, 8, 'd')]"
      ]
     },
     "execution_count": 24,
     "metadata": {},
     "output_type": "execute_result"
    }
   ],
   "source": [
    "list(zip([1,2,3,4], [5,6,7,8], ['a','b','c','d'])) # zip() can be used with more than two lists\n",
    "# there are three lists, so the output will be a list of triples"
   ]
  },
  {
   "cell_type": "code",
   "execution_count": 25,
   "metadata": {},
   "outputs": [
    {
     "data": {
      "text/plain": [
       "[(1, 'a'), (2, 'b')]"
      ]
     },
     "execution_count": 25,
     "metadata": {},
     "output_type": "execute_result"
    }
   ],
   "source": [
    "list(zip([1,2,3], ['a','b'])) #If some list is shorter than other, all lists will be downsized to smallest list\n"
   ]
  },
  {
   "cell_type": "markdown",
   "metadata": {},
   "source": [
    "### What objects can be used as dictionary keys"
   ]
  },
  {
   "cell_type": "code",
   "execution_count": 27,
   "metadata": {},
   "outputs": [
    {
     "data": {
      "text/plain": [
       "{(2, 3): 5, (4, 1): 5, (5, 7): 12}"
      ]
     },
     "execution_count": 27,
     "metadata": {},
     "output_type": "execute_result"
    }
   ],
   "source": [
    "\"\"\"\n",
    "So far, we have considered dictionaries whose keys are strings and numbers. \n",
    "In fact, keys can be more complexly arranged objects.\n",
    "\"\"\"\n",
    "sums = {(2,3): 5, (4, 1): 5, (5, 7): 12} #represent \"multiplication\" table as a dictionary\n",
    "sums # Keys of records are tuples and values are the sums of the tuple elements"
   ]
  },
  {
   "cell_type": "code",
   "execution_count": 28,
   "metadata": {},
   "outputs": [
    {
     "data": {
      "text/plain": [
       "5"
      ]
     },
     "execution_count": 28,
     "metadata": {},
     "output_type": "execute_result"
    }
   ],
   "source": [
    "sums[(2,3)] # access record by its key\n"
   ]
  },
  {
   "cell_type": "code",
   "execution_count": 31,
   "metadata": {},
   "outputs": [
    {
     "ename": "TypeError",
     "evalue": "unhashable type: 'list'",
     "output_type": "error",
     "traceback": [
      "\u001b[1;31m---------------------------------------------------------------------------\u001b[0m",
      "\u001b[1;31mTypeError\u001b[0m                                 Traceback (most recent call last)",
      "\u001b[1;32m~\\AppData\\Local\\Temp/ipykernel_15432/3557342553.py\u001b[0m in \u001b[0;36m<module>\u001b[1;34m\u001b[0m\n\u001b[1;32m----> 1\u001b[1;33m \u001b[0msums\u001b[0m \u001b[1;33m=\u001b[0m \u001b[1;33m{\u001b[0m \u001b[1;33m[\u001b[0m\u001b[1;36m1\u001b[0m\u001b[1;33m,\u001b[0m\u001b[1;36m2\u001b[0m\u001b[1;33m]\u001b[0m\u001b[1;33m:\u001b[0m \u001b[1;36m3\u001b[0m\u001b[1;33m}\u001b[0m \u001b[1;31m# lists cant be used as keys in dictionaries, because they are mutable\u001b[0m\u001b[1;33m\u001b[0m\u001b[1;33m\u001b[0m\u001b[0m\n\u001b[0m",
      "\u001b[1;31mTypeError\u001b[0m: unhashable type: 'list'"
     ]
    }
   ],
   "source": [
    "sums = { [1,2]: 3} # lists cant be used as keys in dictionaries, because they are mutable"
   ]
  },
  {
   "cell_type": "markdown",
   "metadata": {},
   "source": [
    "### List comprehenstions"
   ]
  },
  {
   "cell_type": "code",
   "execution_count": 6,
   "metadata": {},
   "outputs": [
    {
     "name": "stdout",
     "output_type": "stream",
     "text": [
      "[1, 5, 12, 7]\n"
     ]
    },
    {
     "data": {
      "text/plain": [
       "['1', '5', '12', '7']"
      ]
     },
     "execution_count": 6,
     "metadata": {},
     "output_type": "execute_result"
    }
   ],
   "source": [
    "\"\"\"\n",
    "We are given a list in which numbers are of string type. \n",
    "The task will be to create a new list with elements as int. We could solve this problem with using the loop\n",
    "\"\"\"\n",
    "str_list = [\"1\", \"5\", \"12\", \"7\"] # list of strings, that are convertible to int\n",
    "int_list = [] # output list\n",
    "for s in str_list: # for each element in string list\n",
    "    int_list.append(int(s)) # change type and append to the int list\n",
    "\n",
    "print(int_list) # check result\n",
    "str_list"
   ]
  },
  {
   "cell_type": "code",
   "execution_count": 5,
   "metadata": {},
   "outputs": [
    {
     "data": {
      "text/plain": [
       "[1, 5, 12, 7]"
      ]
     },
     "execution_count": 5,
     "metadata": {},
     "output_type": "execute_result"
    }
   ],
   "source": [
    "\"There is more elegant syntex to create new list\"\n",
    "int_list = [int(s) for s in str_list] #in square braskets we pass an expression which means that we creating a new list of 'int(s)' elements where s is element of 'str_list' list\"\n",
    "print(str_list) # the original list has not affected any changes\n",
    "int_list # same output without quotation marks"
   ]
  },
  {
   "cell_type": "code",
   "execution_count": 7,
   "metadata": {},
   "outputs": [
    {
     "data": {
      "text/plain": [
       "[1, 25, 144, 49]"
      ]
     },
     "execution_count": 7,
     "metadata": {},
     "output_type": "execute_result"
    }
   ],
   "source": [
    "\"\"\"\n",
    "Similarly, we can apply any operation to the elements of the list. For example, lets square every\n",
    "element from int_list\n",
    "\"\"\"\n",
    "\n",
    "[x**2 for x in int_list] # return squared element\n"
   ]
  },
  {
   "cell_type": "code",
   "execution_count": 8,
   "metadata": {},
   "outputs": [
    {
     "data": {
      "text/plain": [
       "[2, 10, 24, 14]"
      ]
     },
     "execution_count": 8,
     "metadata": {},
     "output_type": "execute_result"
    }
   ],
   "source": [
    "\n",
    "#or double every elements\n",
    "double_list = [x*2 for x in int_list] # return doubled list\n",
    "double_list"
   ]
  },
  {
   "cell_type": "code",
   "execution_count": 9,
   "metadata": {},
   "outputs": [
    {
     "data": {
      "text/plain": [
       "[2, 6, 13, 8]"
      ]
     },
     "execution_count": 9,
     "metadata": {},
     "output_type": "execute_result"
    }
   ],
   "source": [
    "[x+1 for x in int_list] # increase every element by 1"
   ]
  },
  {
   "cell_type": "code",
   "execution_count": 10,
   "metadata": {},
   "outputs": [
    {
     "data": {
      "text/plain": [
       "[1.0, 5.0, 12.0, 7.0]"
      ]
     },
     "execution_count": 10,
     "metadata": {},
     "output_type": "execute_result"
    }
   ],
   "source": [
    "[float(x) for x in int_list] # convert every element to float"
   ]
  },
  {
   "cell_type": "code",
   "execution_count": 11,
   "metadata": {},
   "outputs": [
    {
     "data": {
      "text/plain": [
       "[12, 7]"
      ]
     },
     "execution_count": 11,
     "metadata": {},
     "output_type": "execute_result"
    }
   ],
   "source": [
    "\"\"\"\n",
    "In list comprehenstions syntax can be be perfomed filtering\n",
    "For example, we only need those elements which are greater than 6\n",
    "\"\"\"\n",
    "\n",
    "[x for x in int_list if x > 6] # filter out all elements that are greater than 6"
   ]
  },
  {
   "cell_type": "code",
   "execution_count": 12,
   "metadata": {},
   "outputs": [
    {
     "data": {
      "text/plain": [
       "[144, 49]"
      ]
     },
     "execution_count": 12,
     "metadata": {},
     "output_type": "execute_result"
    }
   ],
   "source": [
    "[x**2 for x in int_list if x > 6] # filter out the elements and square them"
   ]
  },
  {
   "cell_type": "code",
   "execution_count": 13,
   "metadata": {},
   "outputs": [],
   "source": [
    "\"Now there are two lists with numbers, and we want to find their collating element sum\"\n",
    "X = [2, 5, 8]\n",
    "Y = [1, 3, 100]"
   ]
  },
  {
   "cell_type": "code",
   "execution_count": 14,
   "metadata": {},
   "outputs": [
    {
     "name": "stdout",
     "output_type": "stream",
     "text": [
      "[3, 8, 108]\n"
     ]
    }
   ],
   "source": [
    "\"\"\"\n",
    "We can use zip function to achieve the needed result\n",
    "\"\"\"\n",
    "Z = []\n",
    "for x, y in zip(X, Y): # accesing two lists at the same time for iteration useng the zip function\n",
    " Z.append(x + y) # collating elements can be accessed in 'for'-block var list  - let's perform their sum and save it to buffer list\n",
    "print(Z)"
   ]
  },
  {
   "cell_type": "code",
   "execution_count": null,
   "metadata": {},
   "outputs": [],
   "source": [
    "\"\"\"\n",
    "But with list comprehenstions, the same code looks much nicer:\n",
    "\"\"\"\n",
    "\n",
    "[x + y for x, y in zip(X, Y)] #same reuslt witoput any buffer variables\n"
   ]
  },
  {
   "cell_type": "code",
   "execution_count": 15,
   "metadata": {},
   "outputs": [
    {
     "data": {
      "text/plain": [
       "{0: 0, 1: 1, 2: 4, 3: 9, 4: 16, 5: 25, 6: 36, 7: 49, 8: 64, 9: 81}"
      ]
     },
     "execution_count": 15,
     "metadata": {},
     "output_type": "execute_result"
    }
   ],
   "source": [
    "squared = {i: i**2 for i in range(10)} # syntax, similar to list comprehenstions, can be used to create dictionaries\n",
    "squared"
   ]
  },
  {
   "cell_type": "markdown",
   "metadata": {},
   "source": [
    "### Map function"
   ]
  },
  {
   "cell_type": "code",
   "execution_count": null,
   "metadata": {},
   "outputs": [],
   "source": [
    "\"List comprehenstions have an analogue, which is now considered not very convenient, but sometimes occurs in code solutions:  map() function\"\n",
    "str_list\n",
    "int_list = list(map(int, str_list)) # our string_list-to-list_of_int task can be also completed via map function\n",
    "list(int_list)\n"
   ]
  },
  {
   "cell_type": "code",
   "execution_count": null,
   "metadata": {},
   "outputs": [],
   "source": [
    "\"\"\"\n",
    "The map function takes two arguments. \n",
    "It takes a function as the first argument, after that it applies this function to each of the list items\n",
    "\"\"\"\n",
    "#Map functions are quite concise when we are talking about\n",
    "#  situations, where action to be applied to the element already exists in the form of function  \n",
    "[int(x)+1 for x in str_list] # but in more complex actions with elements, list comprehenstions are still the best\n"
   ]
  },
  {
   "cell_type": "code",
   "execution_count": null,
   "metadata": {},
   "outputs": [],
   "source": [
    "# let's try to achieve the same result via map:\n",
    "def my_func(x): #declare a new function\n",
    "    return int(x)+1 # that would return 'int(x)+1expresion' and take an element as a parameter x\n",
    "list(map(my_func,str_list))  \n",
    "\"In fact, we can use lambdas for more conciseness\""
   ]
  },
  {
   "cell_type": "markdown",
   "metadata": {},
   "source": [
    "### Couple words about efficienty "
   ]
  },
  {
   "cell_type": "code",
   "execution_count": 19,
   "metadata": {},
   "outputs": [],
   "source": [
    "#list comprehenstions are more efficiant that code samples with the usage of loops\n",
    "from random import random\n",
    "from math import sqrt\n",
    "N = 10000\n",
    "mylist = [random() for _ in range(N)] #here we generating list sample"
   ]
  },
  {
   "cell_type": "code",
   "execution_count": 20,
   "metadata": {},
   "outputs": [
    {
     "name": "stdout",
     "output_type": "stream",
     "text": [
      "925 µs ± 549 ns per loop (mean ± std. dev. of 7 runs, 1000 loops each)\n"
     ]
    }
   ],
   "source": [
    "%%timeit # this allows you to measure how much time it takes for some operation\n",
    "newlist = []\n",
    "for x in mylist:\n",
    " newlist.append(sqrt(x))"
   ]
  },
  {
   "cell_type": "code",
   "execution_count": 21,
   "metadata": {},
   "outputs": [
    {
     "name": "stdout",
     "output_type": "stream",
     "text": [
      "683 µs ± 755 ns per loop (mean ± std. dev. of 7 runs, 1000 loops each)\n"
     ]
    }
   ],
   "source": [
    "%%timeit\n",
    "newlist = [sqrt(x) for x in mylist] #list comprehenstion is sufficiently faster than loop"
   ]
  },
  {
   "cell_type": "code",
   "execution_count": 22,
   "metadata": {},
   "outputs": [
    {
     "name": "stdout",
     "output_type": "stream",
     "text": [
      "549 µs ± 1.13 µs per loop (mean ± std. dev. of 7 runs, 1000 loops each)\n"
     ]
    }
   ],
   "source": [
    "%%timeit\n",
    "newlist = list(map(sqrt, mylist)) #map function is on the same level"
   ]
  },
  {
   "cell_type": "markdown",
   "metadata": {},
   "source": [
    "### Complex data structures"
   ]
  },
  {
   "cell_type": "code",
   "execution_count": 24,
   "metadata": {},
   "outputs": [
    {
     "data": {
      "text/plain": [
       "4"
      ]
     },
     "execution_count": 24,
     "metadata": {},
     "output_type": "execute_result"
    }
   ],
   "source": [
    "\"\"\"\n",
    "What if need more complex data structure? For example, we need a table.\n",
    "Some programming languages have two-dimensional arrays.\n",
    "The analogue of a two-dimensional array in Python is a \"list of lists\", that is a list whose elements are other lists\n",
    "\n",
    "For example: a table that records the results of several homework from several students\n",
    "\"\"\"\n",
    "\n",
    "table = [[\"HW1\", \"HW2\", \"HW3\", \"HW4\"], [4, 3, 4, 4], [3, 4, 3, 4], [4, 5, 5, 4]]\n",
    "table[2][3] # we called third row of the table, and then callend fourth column\n",
    "\n"
   ]
  },
  {
   "cell_type": "code",
   "execution_count": 25,
   "metadata": {},
   "outputs": [
    {
     "name": "stdout",
     "output_type": "stream",
     "text": [
      "4\n"
     ]
    }
   ],
   "source": [
    "#let's explain operation above\n",
    "table[2] #We first called the third row of the table\n",
    "row = table[2] #And then the fourth element was selected from this third line\n",
    "print(row[3]) # row[3] is exactly the same as table[2][3]"
   ]
  },
  {
   "cell_type": "code",
   "execution_count": 26,
   "metadata": {},
   "outputs": [
    {
     "name": "stdout",
     "output_type": "stream",
     "text": [
      "HW1 HW2 HW3 HW4\n",
      "4 3 4 4\n",
      "3 4 3 4\n",
      "4 5 5 4\n"
     ]
    }
   ],
   "source": [
    "for row in table: #We can print every list element with for loop\n",
    "    print(*row) # print every element of this row\n"
   ]
  },
  {
   "cell_type": "code",
   "execution_count": 28,
   "metadata": {},
   "outputs": [],
   "source": [
    "\"\"\"\n",
    "Let's now suggest that we still want to know which student received which grade. Then we could\n",
    "instead of a list of lists, use a dictionary with lists as values\n",
    "\"\"\"\n",
    "\n",
    "gradebook = {'Bill': [4, 3, 2], 'Alice': [3, 4, 5], 'Bob': [5, 5, 4]}\n"
   ]
  },
  {
   "cell_type": "code",
   "execution_count": 29,
   "metadata": {},
   "outputs": [
    {
     "data": {
      "text/plain": [
       "5"
      ]
     },
     "execution_count": 29,
     "metadata": {},
     "output_type": "execute_result"
    }
   ],
   "source": [
    "gradebook['Bob'][1] #Here's how you can see what mark Bob got for his hometask:"
   ]
  }
 ],
 "metadata": {
  "interpreter": {
   "hash": "c2ce29519d01fd3567b9c062877074e7f09ceb18e77b0dd4da51712a0aa9c9a1"
  },
  "kernelspec": {
   "display_name": "Python 3",
   "language": "python",
   "name": "python3"
  },
  "language_info": {
   "codemirror_mode": {
    "name": "ipython",
    "version": 3
   },
   "file_extension": ".py",
   "mimetype": "text/x-python",
   "name": "python",
   "nbconvert_exporter": "python",
   "pygments_lexer": "ipython3",
   "version": "3.9.7"
  }
 },
 "nbformat": 4,
 "nbformat_minor": 2
}
