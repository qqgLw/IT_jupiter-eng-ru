{
 "cells": [
  {
   "cell_type": "markdown",
   "id": "6b211fe2",
   "metadata": {},
   "source": [
    "# Notebook of Information technologies №7\n",
    "\n",
    "__by Max Kamyshov IS/b-19-1-0__\n",
    "\n",
    "26.11.2021"
   ]
  },
  {
   "cell_type": "markdown",
   "id": "c92b1414",
   "metadata": {},
   "source": [
    "### Features in work with convertable types of data "
   ]
  },
  {
   "cell_type": "markdown",
   "id": "2e758e7f",
   "metadata": {},
   "source": [
    "We have some moments in work with lists, dictionaries and other mutable types of data. For example, this function"
   ]
  },
  {
   "cell_type": "code",
   "execution_count": 3,
   "id": "72a348ef",
   "metadata": {},
   "outputs": [],
   "source": [
    "def my_func(x): # create function with argument x\n",
    "   x = x + 1    # x increase by 1\n",
    "   return x     # return x"
   ]
  },
  {
   "cell_type": "code",
   "execution_count": 4,
   "id": "4929348d",
   "metadata": {},
   "outputs": [
    {
     "name": "stdout",
     "output_type": "stream",
     "text": [
      "Function returns 6\n",
      "y = 5\n"
     ]
    }
   ],
   "source": [
    "y = 5 # set y equals 5\n",
    "print(\"Function returns\", my_func(y)) # print result of function my_func\n",
    "print(\"y =\", y)  # with y argument\n",
    "# function did not change y variable\n",
    "# lets do same with list"
   ]
  },
  {
   "cell_type": "code",
   "execution_count": 5,
   "id": "5410702b",
   "metadata": {},
   "outputs": [],
   "source": [
    "def other_func(my_list): # create function\n",
    "   my_list.append(1)  # add 1 in tail of list\n",
    "   return my_list     # return list\n",
    "# lets try call this function"
   ]
  },
  {
   "cell_type": "code",
   "execution_count": 6,
   "id": "fd869c38",
   "metadata": {},
   "outputs": [
    {
     "name": "stdout",
     "output_type": "stream",
     "text": [
      "this_list before function: [6, 9, 33]\n",
      "function returns: [6, 9, 33, 1]\n",
      "this_list after function [6, 9, 33, 1]\n"
     ]
    }
   ],
   "source": [
    "this_list = [6, 9, 33] # create list\n",
    "print(\"this_list before function:\",this_list) # print list\n",
    "print(\"function returns:\",other_func(this_list)) # call function \n",
    "print(\"this_list after function\", this_list) # print list"
   ]
  },
  {
   "cell_type": "markdown",
   "id": "17aaabe7",
   "metadata": {},
   "source": [
    "How could we see our list have new element, but how? We need some magic to understand that"
   ]
  },
  {
   "cell_type": "code",
   "execution_count": 7,
   "id": "5b411aaf",
   "metadata": {},
   "outputs": [
    {
     "ename": "ModuleNotFoundError",
     "evalue": "No module named 'tutormagic  # use magic'",
     "output_type": "error",
     "traceback": [
      "\u001b[1;31m---------------------------------------------------------------------------\u001b[0m",
      "\u001b[1;31mModuleNotFoundError\u001b[0m                       Traceback (most recent call last)",
      "\u001b[1;32m<ipython-input-7-50b4482d8307>\u001b[0m in \u001b[0;36m<module>\u001b[1;34m\u001b[0m\n\u001b[1;32m----> 1\u001b[1;33m \u001b[0mget_ipython\u001b[0m\u001b[1;33m(\u001b[0m\u001b[1;33m)\u001b[0m\u001b[1;33m.\u001b[0m\u001b[0mrun_line_magic\u001b[0m\u001b[1;33m(\u001b[0m\u001b[1;34m'load_ext'\u001b[0m\u001b[1;33m,\u001b[0m \u001b[1;34m'tutormagic  # use magic'\u001b[0m\u001b[1;33m)\u001b[0m\u001b[1;33m\u001b[0m\u001b[1;33m\u001b[0m\u001b[0m\n\u001b[0m",
      "\u001b[1;32mD:\\Anaconda\\lib\\site-packages\\IPython\\core\\interactiveshell.py\u001b[0m in \u001b[0;36mrun_line_magic\u001b[1;34m(self, magic_name, line, _stack_depth)\u001b[0m\n\u001b[0;32m   2342\u001b[0m                 \u001b[0mkwargs\u001b[0m\u001b[1;33m[\u001b[0m\u001b[1;34m'local_ns'\u001b[0m\u001b[1;33m]\u001b[0m \u001b[1;33m=\u001b[0m \u001b[0mself\u001b[0m\u001b[1;33m.\u001b[0m\u001b[0mget_local_scope\u001b[0m\u001b[1;33m(\u001b[0m\u001b[0mstack_depth\u001b[0m\u001b[1;33m)\u001b[0m\u001b[1;33m\u001b[0m\u001b[1;33m\u001b[0m\u001b[0m\n\u001b[0;32m   2343\u001b[0m             \u001b[1;32mwith\u001b[0m \u001b[0mself\u001b[0m\u001b[1;33m.\u001b[0m\u001b[0mbuiltin_trap\u001b[0m\u001b[1;33m:\u001b[0m\u001b[1;33m\u001b[0m\u001b[1;33m\u001b[0m\u001b[0m\n\u001b[1;32m-> 2344\u001b[1;33m                 \u001b[0mresult\u001b[0m \u001b[1;33m=\u001b[0m \u001b[0mfn\u001b[0m\u001b[1;33m(\u001b[0m\u001b[1;33m*\u001b[0m\u001b[0margs\u001b[0m\u001b[1;33m,\u001b[0m \u001b[1;33m**\u001b[0m\u001b[0mkwargs\u001b[0m\u001b[1;33m)\u001b[0m\u001b[1;33m\u001b[0m\u001b[1;33m\u001b[0m\u001b[0m\n\u001b[0m\u001b[0;32m   2345\u001b[0m             \u001b[1;32mreturn\u001b[0m \u001b[0mresult\u001b[0m\u001b[1;33m\u001b[0m\u001b[1;33m\u001b[0m\u001b[0m\n\u001b[0;32m   2346\u001b[0m \u001b[1;33m\u001b[0m\u001b[0m\n",
      "\u001b[1;32mD:\\Anaconda\\lib\\site-packages\\decorator.py\u001b[0m in \u001b[0;36mfun\u001b[1;34m(*args, **kw)\u001b[0m\n\u001b[0;32m    229\u001b[0m             \u001b[1;32mif\u001b[0m \u001b[1;32mnot\u001b[0m \u001b[0mkwsyntax\u001b[0m\u001b[1;33m:\u001b[0m\u001b[1;33m\u001b[0m\u001b[1;33m\u001b[0m\u001b[0m\n\u001b[0;32m    230\u001b[0m                 \u001b[0margs\u001b[0m\u001b[1;33m,\u001b[0m \u001b[0mkw\u001b[0m \u001b[1;33m=\u001b[0m \u001b[0mfix\u001b[0m\u001b[1;33m(\u001b[0m\u001b[0margs\u001b[0m\u001b[1;33m,\u001b[0m \u001b[0mkw\u001b[0m\u001b[1;33m,\u001b[0m \u001b[0msig\u001b[0m\u001b[1;33m)\u001b[0m\u001b[1;33m\u001b[0m\u001b[1;33m\u001b[0m\u001b[0m\n\u001b[1;32m--> 231\u001b[1;33m             \u001b[1;32mreturn\u001b[0m \u001b[0mcaller\u001b[0m\u001b[1;33m(\u001b[0m\u001b[0mfunc\u001b[0m\u001b[1;33m,\u001b[0m \u001b[1;33m*\u001b[0m\u001b[1;33m(\u001b[0m\u001b[0mextras\u001b[0m \u001b[1;33m+\u001b[0m \u001b[0margs\u001b[0m\u001b[1;33m)\u001b[0m\u001b[1;33m,\u001b[0m \u001b[1;33m**\u001b[0m\u001b[0mkw\u001b[0m\u001b[1;33m)\u001b[0m\u001b[1;33m\u001b[0m\u001b[1;33m\u001b[0m\u001b[0m\n\u001b[0m\u001b[0;32m    232\u001b[0m     \u001b[0mfun\u001b[0m\u001b[1;33m.\u001b[0m\u001b[0m__name__\u001b[0m \u001b[1;33m=\u001b[0m \u001b[0mfunc\u001b[0m\u001b[1;33m.\u001b[0m\u001b[0m__name__\u001b[0m\u001b[1;33m\u001b[0m\u001b[1;33m\u001b[0m\u001b[0m\n\u001b[0;32m    233\u001b[0m     \u001b[0mfun\u001b[0m\u001b[1;33m.\u001b[0m\u001b[0m__doc__\u001b[0m \u001b[1;33m=\u001b[0m \u001b[0mfunc\u001b[0m\u001b[1;33m.\u001b[0m\u001b[0m__doc__\u001b[0m\u001b[1;33m\u001b[0m\u001b[1;33m\u001b[0m\u001b[0m\n",
      "\u001b[1;32mD:\\Anaconda\\lib\\site-packages\\IPython\\core\\magic.py\u001b[0m in \u001b[0;36m<lambda>\u001b[1;34m(f, *a, **k)\u001b[0m\n\u001b[0;32m    185\u001b[0m     \u001b[1;31m# but it's overkill for just that one bit of state.\u001b[0m\u001b[1;33m\u001b[0m\u001b[1;33m\u001b[0m\u001b[1;33m\u001b[0m\u001b[0m\n\u001b[0;32m    186\u001b[0m     \u001b[1;32mdef\u001b[0m \u001b[0mmagic_deco\u001b[0m\u001b[1;33m(\u001b[0m\u001b[0marg\u001b[0m\u001b[1;33m)\u001b[0m\u001b[1;33m:\u001b[0m\u001b[1;33m\u001b[0m\u001b[1;33m\u001b[0m\u001b[0m\n\u001b[1;32m--> 187\u001b[1;33m         \u001b[0mcall\u001b[0m \u001b[1;33m=\u001b[0m \u001b[1;32mlambda\u001b[0m \u001b[0mf\u001b[0m\u001b[1;33m,\u001b[0m \u001b[1;33m*\u001b[0m\u001b[0ma\u001b[0m\u001b[1;33m,\u001b[0m \u001b[1;33m**\u001b[0m\u001b[0mk\u001b[0m\u001b[1;33m:\u001b[0m \u001b[0mf\u001b[0m\u001b[1;33m(\u001b[0m\u001b[1;33m*\u001b[0m\u001b[0ma\u001b[0m\u001b[1;33m,\u001b[0m \u001b[1;33m**\u001b[0m\u001b[0mk\u001b[0m\u001b[1;33m)\u001b[0m\u001b[1;33m\u001b[0m\u001b[1;33m\u001b[0m\u001b[0m\n\u001b[0m\u001b[0;32m    188\u001b[0m \u001b[1;33m\u001b[0m\u001b[0m\n\u001b[0;32m    189\u001b[0m         \u001b[1;32mif\u001b[0m \u001b[0mcallable\u001b[0m\u001b[1;33m(\u001b[0m\u001b[0marg\u001b[0m\u001b[1;33m)\u001b[0m\u001b[1;33m:\u001b[0m\u001b[1;33m\u001b[0m\u001b[1;33m\u001b[0m\u001b[0m\n",
      "\u001b[1;32mD:\\Anaconda\\lib\\site-packages\\IPython\\core\\magics\\extension.py\u001b[0m in \u001b[0;36mload_ext\u001b[1;34m(self, module_str)\u001b[0m\n\u001b[0;32m     31\u001b[0m         \u001b[1;32mif\u001b[0m \u001b[1;32mnot\u001b[0m \u001b[0mmodule_str\u001b[0m\u001b[1;33m:\u001b[0m\u001b[1;33m\u001b[0m\u001b[1;33m\u001b[0m\u001b[0m\n\u001b[0;32m     32\u001b[0m             \u001b[1;32mraise\u001b[0m \u001b[0mUsageError\u001b[0m\u001b[1;33m(\u001b[0m\u001b[1;34m'Missing module name.'\u001b[0m\u001b[1;33m)\u001b[0m\u001b[1;33m\u001b[0m\u001b[1;33m\u001b[0m\u001b[0m\n\u001b[1;32m---> 33\u001b[1;33m         \u001b[0mres\u001b[0m \u001b[1;33m=\u001b[0m \u001b[0mself\u001b[0m\u001b[1;33m.\u001b[0m\u001b[0mshell\u001b[0m\u001b[1;33m.\u001b[0m\u001b[0mextension_manager\u001b[0m\u001b[1;33m.\u001b[0m\u001b[0mload_extension\u001b[0m\u001b[1;33m(\u001b[0m\u001b[0mmodule_str\u001b[0m\u001b[1;33m)\u001b[0m\u001b[1;33m\u001b[0m\u001b[1;33m\u001b[0m\u001b[0m\n\u001b[0m\u001b[0;32m     34\u001b[0m \u001b[1;33m\u001b[0m\u001b[0m\n\u001b[0;32m     35\u001b[0m         \u001b[1;32mif\u001b[0m \u001b[0mres\u001b[0m \u001b[1;33m==\u001b[0m \u001b[1;34m'already loaded'\u001b[0m\u001b[1;33m:\u001b[0m\u001b[1;33m\u001b[0m\u001b[1;33m\u001b[0m\u001b[0m\n",
      "\u001b[1;32mD:\\Anaconda\\lib\\site-packages\\IPython\\core\\extensions.py\u001b[0m in \u001b[0;36mload_extension\u001b[1;34m(self, module_str)\u001b[0m\n\u001b[0;32m     78\u001b[0m             \u001b[1;32mif\u001b[0m \u001b[0mmodule_str\u001b[0m \u001b[1;32mnot\u001b[0m \u001b[1;32min\u001b[0m \u001b[0msys\u001b[0m\u001b[1;33m.\u001b[0m\u001b[0mmodules\u001b[0m\u001b[1;33m:\u001b[0m\u001b[1;33m\u001b[0m\u001b[1;33m\u001b[0m\u001b[0m\n\u001b[0;32m     79\u001b[0m                 \u001b[1;32mwith\u001b[0m \u001b[0mprepended_to_syspath\u001b[0m\u001b[1;33m(\u001b[0m\u001b[0mself\u001b[0m\u001b[1;33m.\u001b[0m\u001b[0mipython_extension_dir\u001b[0m\u001b[1;33m)\u001b[0m\u001b[1;33m:\u001b[0m\u001b[1;33m\u001b[0m\u001b[1;33m\u001b[0m\u001b[0m\n\u001b[1;32m---> 80\u001b[1;33m                     \u001b[0mmod\u001b[0m \u001b[1;33m=\u001b[0m \u001b[0mimport_module\u001b[0m\u001b[1;33m(\u001b[0m\u001b[0mmodule_str\u001b[0m\u001b[1;33m)\u001b[0m\u001b[1;33m\u001b[0m\u001b[1;33m\u001b[0m\u001b[0m\n\u001b[0m\u001b[0;32m     81\u001b[0m                     \u001b[1;32mif\u001b[0m \u001b[0mmod\u001b[0m\u001b[1;33m.\u001b[0m\u001b[0m__file__\u001b[0m\u001b[1;33m.\u001b[0m\u001b[0mstartswith\u001b[0m\u001b[1;33m(\u001b[0m\u001b[0mself\u001b[0m\u001b[1;33m.\u001b[0m\u001b[0mipython_extension_dir\u001b[0m\u001b[1;33m)\u001b[0m\u001b[1;33m:\u001b[0m\u001b[1;33m\u001b[0m\u001b[1;33m\u001b[0m\u001b[0m\n\u001b[0;32m     82\u001b[0m                         print((\"Loading extensions from {dir} is deprecated. \"\n",
      "\u001b[1;32mD:\\Anaconda\\lib\\importlib\\__init__.py\u001b[0m in \u001b[0;36mimport_module\u001b[1;34m(name, package)\u001b[0m\n\u001b[0;32m    125\u001b[0m                 \u001b[1;32mbreak\u001b[0m\u001b[1;33m\u001b[0m\u001b[1;33m\u001b[0m\u001b[0m\n\u001b[0;32m    126\u001b[0m             \u001b[0mlevel\u001b[0m \u001b[1;33m+=\u001b[0m \u001b[1;36m1\u001b[0m\u001b[1;33m\u001b[0m\u001b[1;33m\u001b[0m\u001b[0m\n\u001b[1;32m--> 127\u001b[1;33m     \u001b[1;32mreturn\u001b[0m \u001b[0m_bootstrap\u001b[0m\u001b[1;33m.\u001b[0m\u001b[0m_gcd_import\u001b[0m\u001b[1;33m(\u001b[0m\u001b[0mname\u001b[0m\u001b[1;33m[\u001b[0m\u001b[0mlevel\u001b[0m\u001b[1;33m:\u001b[0m\u001b[1;33m]\u001b[0m\u001b[1;33m,\u001b[0m \u001b[0mpackage\u001b[0m\u001b[1;33m,\u001b[0m \u001b[0mlevel\u001b[0m\u001b[1;33m)\u001b[0m\u001b[1;33m\u001b[0m\u001b[1;33m\u001b[0m\u001b[0m\n\u001b[0m\u001b[0;32m    128\u001b[0m \u001b[1;33m\u001b[0m\u001b[0m\n\u001b[0;32m    129\u001b[0m \u001b[1;33m\u001b[0m\u001b[0m\n",
      "\u001b[1;32mD:\\Anaconda\\lib\\importlib\\_bootstrap.py\u001b[0m in \u001b[0;36m_gcd_import\u001b[1;34m(name, package, level)\u001b[0m\n",
      "\u001b[1;32mD:\\Anaconda\\lib\\importlib\\_bootstrap.py\u001b[0m in \u001b[0;36m_find_and_load\u001b[1;34m(name, import_)\u001b[0m\n",
      "\u001b[1;32mD:\\Anaconda\\lib\\importlib\\_bootstrap.py\u001b[0m in \u001b[0;36m_find_and_load_unlocked\u001b[1;34m(name, import_)\u001b[0m\n",
      "\u001b[1;31mModuleNotFoundError\u001b[0m: No module named 'tutormagic  # use magic'"
     ]
    }
   ],
   "source": [
    "%load_ext tutormagic  # use magic"
   ]
  },
  {
   "cell_type": "code",
   "execution_count": 8,
   "id": "ffb99a88",
   "metadata": {},
   "outputs": [
    {
     "name": "stderr",
     "output_type": "stream",
     "text": [
      "UsageError: Cell magic `%%tutor` not found.\n"
     ]
    }
   ],
   "source": [
    "%%tutor --lang python3  \n",
    "def other_func(my_list):# re-create our situation\n",
    "   my_list.append\n",
    "   return my_list \n",
    "this_list = [6, 9, 33] \n",
    "other_func(this_list) "
   ]
  },
  {
   "cell_type": "markdown",
   "id": "e99421d4",
   "metadata": {},
   "source": [
    "### Two sorts"
   ]
  },
  {
   "cell_type": "markdown",
   "id": "dea6dc11",
   "metadata": {},
   "source": [
    "Here another two examples with lists. Lets again use magic to see what happens"
   ]
  },
  {
   "cell_type": "code",
   "execution_count": 9,
   "id": "d2453ddf",
   "metadata": {},
   "outputs": [
    {
     "name": "stderr",
     "output_type": "stream",
     "text": [
      "UsageError: Cell magic `%%tutor` not found.\n"
     ]
    }
   ],
   "source": [
    "%%tutor --lang python3 # magic\n",
    "def return_sorted(my_list):\n",
    "   my_list = sorted(my_list) # sorting list \n",
    "   return my_list \n",
    "this_list = [33, 1, 55]  # create list\n",
    "print(\"this_list before function:\", this_list) \n",
    "print(\"function returned:\", return_sorted(this_list)) \n",
    "print(\"this_list after function:\", this_list)"
   ]
  },
  {
   "cell_type": "code",
   "execution_count": 10,
   "id": "bbef44fe",
   "metadata": {},
   "outputs": [
    {
     "name": "stderr",
     "output_type": "stream",
     "text": [
      "UsageError: Cell magic `%%tutor` not found.\n"
     ]
    }
   ],
   "source": [
    "%%tutor --lang python3  # another example\n",
    "def sort_and_return(my_list): \n",
    "   my_list.sort() # but here we sorting and not assign value\n",
    "   return my_list \n",
    "this_list = [33, 1, 55] \n",
    "print(\"this_list before function:\", this_list) \n",
    "print(\"function returned:\", sort_and_return(this_list)) \n",
    "print(\"this_list after function:\", this_list) "
   ]
  },
  {
   "cell_type": "markdown",
   "id": "22621577",
   "metadata": {},
   "source": [
    "What's the matter?\n",
    "Functions return_sorted() and sort_and_return() make almost same work.\n",
    "When we enter in function (step 5) we have variable this_list, inside have variable my_list, they link on same list. But on next step function return_sorted() use function sorted() and make new list. \n",
    "Then it assign result of sorted() in my_list. That leads variable to link on a new object, but old object not change link. \n",
    "\n",
    "Sort_and_return use method sort() which sort list inside itself. And more of than new object not creates and variable my_list continue link on same list.\n",
    "\n",
    "Pay attention on return_sorted and my_func(). Difference is that with integer variable you have no another options. But in situation with list developer can create new object assign it to old variable or you can change already created object without making new one."
   ]
  },
  {
   "cell_type": "markdown",
   "id": "3e1ded6c",
   "metadata": {},
   "source": [
    "### Creating copies"
   ]
  },
  {
   "cell_type": "markdown",
   "id": "862a281a",
   "metadata": {},
   "source": [
    "Imagine, we have function, which takes list and return same list, but with new element, but argument list stay without changes."
   ]
  },
  {
   "cell_type": "code",
   "execution_count": 11,
   "id": "dbf0e161",
   "metadata": {},
   "outputs": [],
   "source": [
    "def return_append(L, a): # create function \n",
    "    new_L = L.copy()     # make copy our L list\n",
    "    new_L.append(a)      # add element a in new_L\n",
    "    return new_L"
   ]
  },
  {
   "cell_type": "code",
   "execution_count": 12,
   "id": "116aa1f4",
   "metadata": {},
   "outputs": [
    {
     "name": "stdout",
     "output_type": "stream",
     "text": [
      "outer_list before funciton [7, 8, 9]\n",
      "function returned [7, 8, 9, 55]\n",
      "outer_list after function [7, 8, 9]\n"
     ]
    }
   ],
   "source": [
    "outer_list = [7, 8, 9]\n",
    "print(\"outer_list before funciton\", outer_list)\n",
    "print(\"function returned\", return_append(outer_list, 55))\n",
    "print(\"outer_list after function\", outer_list)"
   ]
  },
  {
   "cell_type": "markdown",
   "id": "74d1391a",
   "metadata": {},
   "source": [
    "All secret in copy(), because this method create copy of our list. "
   ]
  },
  {
   "cell_type": "markdown",
   "id": "c2b709af",
   "metadata": {},
   "source": [
    "### Not only call function"
   ]
  },
  {
   "cell_type": "markdown",
   "id": "c878a0e8",
   "metadata": {},
   "source": [
    "Problems, which we solve erlier appears not only in functions"
   ]
  },
  {
   "cell_type": "code",
   "execution_count": 13,
   "id": "f61bdef1",
   "metadata": {},
   "outputs": [
    {
     "name": "stdout",
     "output_type": "stream",
     "text": [
      "[7, 9, 11]\n"
     ]
    }
   ],
   "source": [
    "some_list = [7, 9, 11]\n",
    "for x in some_list: \n",
    "    x = x + 1\n",
    "print(some_list)\n",
    "# some_list does not change. Let's make more complicated situation"
   ]
  },
  {
   "cell_type": "code",
   "execution_count": 14,
   "id": "250aac4f",
   "metadata": {},
   "outputs": [
    {
     "name": "stdout",
     "output_type": "stream",
     "text": [
      "[[1, 5, 77], [7, 9, 77]]\n"
     ]
    }
   ],
   "source": [
    "table = [[1, 5], [7, 9]] # create list of list\n",
    "for row in table:        # cycle for adding 77 in lists\n",
    "    row.append(77)\n",
    "print(table)\n",
    "# not again...\n",
    "# so use visualisation for this"
   ]
  },
  {
   "cell_type": "code",
   "execution_count": 15,
   "id": "acac647b",
   "metadata": {},
   "outputs": [
    {
     "name": "stderr",
     "output_type": "stream",
     "text": [
      "UsageError: Cell magic `%%tutor` not found.\n"
     ]
    }
   ],
   "source": [
    "%%tutor --lang python3  # same programm\n",
    "table = [[1, 5], [7, 9]] \n",
    "for row in table: \n",
    "    row.append(77) \n",
    "print(table) "
   ]
  },
  {
   "cell_type": "markdown",
   "id": "3ef88770",
   "metadata": {},
   "source": [
    "In first step of our cycle in variable \"row\" assign first element table list. But this element is link on our list. Then we add new element. Then row makes link on second element of list table, and add to link element 77."
   ]
  },
  {
   "cell_type": "markdown",
   "id": "285efa22",
   "metadata": {},
   "source": [
    "### Headcracker"
   ]
  },
  {
   "cell_type": "code",
   "execution_count": 16,
   "id": "6376b171",
   "metadata": {},
   "outputs": [
    {
     "name": "stdout",
     "output_type": "stream",
     "text": [
      "[[1], [1], [1], [1], [1]]\n"
     ]
    }
   ],
   "source": [
    "\n",
    "A = [[]]*5\n",
    "A[0].append(1)\n",
    "print(A)"
   ]
  },
  {
   "cell_type": "markdown",
   "id": "43e8ff5a",
   "metadata": {},
   "source": [
    "### Editing object of iteration in cycle"
   ]
  },
  {
   "cell_type": "markdown",
   "id": "4db10b67",
   "metadata": {},
   "source": [
    "In examples we change content of table but not table. But could we change the cycle itself ?\n",
    "Yes, we can. Lets remember, how pop() works"
   ]
  },
  {
   "cell_type": "code",
   "execution_count": 17,
   "id": "2e1df81f",
   "metadata": {},
   "outputs": [
    {
     "name": "stdout",
     "output_type": "stream",
     "text": [
      "8\n",
      "[6, 9, 44]\n"
     ]
    }
   ],
   "source": [
    "L = [6, 9, 44, 8] # make list\n",
    "print(L.pop()) # pop remove last element and print it.\n",
    "print(L) # print list"
   ]
  },
  {
   "cell_type": "code",
   "execution_count": 18,
   "id": "94eb2a8b",
   "metadata": {
    "scrolled": true
   },
   "outputs": [
    {
     "name": "stdout",
     "output_type": "stream",
     "text": [
      "Pop element 10\n",
      "7\n",
      "Pop element 9\n",
      "8\n"
     ]
    }
   ],
   "source": [
    "L = [7, 8, 9, 10]\n",
    "for x in L:  # cycle for to pop() our list\n",
    "   print(\"Pop element\", L.pop()) \n",
    "   print(x)\n",
    "# it make only two iterations"
   ]
  },
  {
   "cell_type": "code",
   "execution_count": 19,
   "id": "f4a3a068",
   "metadata": {},
   "outputs": [
    {
     "name": "stdout",
     "output_type": "stream",
     "text": [
      "1 2\n"
     ]
    },
    {
     "ename": "RuntimeError",
     "evalue": "dictionary changed size during iteration",
     "output_type": "error",
     "traceback": [
      "\u001b[1;31m---------------------------------------------------------------------------\u001b[0m",
      "\u001b[1;31mRuntimeError\u001b[0m                              Traceback (most recent call last)",
      "\u001b[1;32m<ipython-input-19-4ca19d2ee608>\u001b[0m in \u001b[0;36m<module>\u001b[1;34m\u001b[0m\n\u001b[0;32m      1\u001b[0m \u001b[0md\u001b[0m \u001b[1;33m=\u001b[0m \u001b[1;33m{\u001b[0m\u001b[1;36m1\u001b[0m\u001b[1;33m:\u001b[0m\u001b[1;36m2\u001b[0m\u001b[1;33m,\u001b[0m \u001b[1;36m3\u001b[0m\u001b[1;33m:\u001b[0m\u001b[1;36m4\u001b[0m\u001b[1;33m}\u001b[0m \u001b[1;31m# make dictionary\u001b[0m\u001b[1;33m\u001b[0m\u001b[1;33m\u001b[0m\u001b[0m\n\u001b[1;32m----> 2\u001b[1;33m \u001b[1;32mfor\u001b[0m \u001b[0mk\u001b[0m\u001b[1;33m,\u001b[0m \u001b[0mv\u001b[0m \u001b[1;32min\u001b[0m \u001b[0md\u001b[0m\u001b[1;33m.\u001b[0m\u001b[0mitems\u001b[0m\u001b[1;33m(\u001b[0m\u001b[1;33m)\u001b[0m\u001b[1;33m:\u001b[0m \u001b[1;31m# cycle for...\u001b[0m\u001b[1;33m\u001b[0m\u001b[1;33m\u001b[0m\u001b[0m\n\u001b[0m\u001b[0;32m      3\u001b[0m     \u001b[1;32mdel\u001b[0m \u001b[0md\u001b[0m\u001b[1;33m[\u001b[0m\u001b[1;36m3\u001b[0m\u001b[1;33m]\u001b[0m   \u001b[1;31m# deleting element with key 3\u001b[0m\u001b[1;33m\u001b[0m\u001b[1;33m\u001b[0m\u001b[0m\n\u001b[0;32m      4\u001b[0m     \u001b[0mprint\u001b[0m\u001b[1;33m(\u001b[0m\u001b[0mk\u001b[0m\u001b[1;33m,\u001b[0m \u001b[0mv\u001b[0m\u001b[1;33m)\u001b[0m\u001b[1;33m\u001b[0m\u001b[1;33m\u001b[0m\u001b[0m\n\u001b[0;32m      5\u001b[0m \u001b[1;31m# We can't do that because we don't know, how element is located in\u001b[0m\u001b[1;33m\u001b[0m\u001b[1;33m\u001b[0m\u001b[1;33m\u001b[0m\u001b[0m\n",
      "\u001b[1;31mRuntimeError\u001b[0m: dictionary changed size during iteration"
     ]
    }
   ],
   "source": [
    "d = {1:2, 3:4} # make dictionary\n",
    "for k, v in d.items(): # cycle for...\n",
    "    del d[3]   # deleting element with key 3\n",
    "    print(k, v)\n",
    "# We can't do that because we don't know, how element is located in\n",
    "# dictionary..."
   ]
  },
  {
   "cell_type": "code",
   "execution_count": 20,
   "id": "68e0982c",
   "metadata": {},
   "outputs": [
    {
     "name": "stdout",
     "output_type": "stream",
     "text": [
      "{1: 2, 3: 4}\n"
     ]
    }
   ],
   "source": [
    "# but we can do that\n",
    "d={1:2, 3:4}\n",
    "for k, v in d.items(): \n",
    "    v = v + 1 # increase value by one\n",
    "print(d)\n",
    "# but thats need to do in this way"
   ]
  },
  {
   "cell_type": "code",
   "execution_count": 21,
   "id": "7ae1734d",
   "metadata": {},
   "outputs": [
    {
     "name": "stdout",
     "output_type": "stream",
     "text": [
      "{1: 3, 3: 5}\n"
     ]
    }
   ],
   "source": [
    "d = {1:2, 3:4}\n",
    "for k in d: \n",
    "    d[k] = d[k] + 1 #thats better\n",
    "print(d)"
   ]
  },
  {
   "cell_type": "markdown",
   "id": "b86a52d6",
   "metadata": {},
   "source": [
    "### Sets"
   ]
  },
  {
   "cell_type": "markdown",
   "id": "4b0ab4df",
   "metadata": {},
   "source": [
    "Another basic type in Python - is set. That match math defenition of set - that is group of some elements."
   ]
  },
  {
   "cell_type": "code",
   "execution_count": 22,
   "id": "2a7287ce",
   "metadata": {},
   "outputs": [],
   "source": [
    "my_set = {6, 9, 11, 11, 9, 'hello'} # creating set"
   ]
  },
  {
   "cell_type": "code",
   "execution_count": 23,
   "id": "99aeb478",
   "metadata": {},
   "outputs": [
    {
     "data": {
      "text/plain": [
       "{11, 6, 9, 'hello'}"
      ]
     },
     "execution_count": 23,
     "metadata": {},
     "output_type": "execute_result"
    }
   ],
   "source": [
    "my_set # write set"
   ]
  },
  {
   "cell_type": "code",
   "execution_count": 24,
   "id": "93319680",
   "metadata": {},
   "outputs": [
    {
     "data": {
      "text/plain": [
       "True"
      ]
     },
     "execution_count": 24,
     "metadata": {},
     "output_type": "execute_result"
    }
   ],
   "source": [
    "{6, 9, 11, 11, 9, 'hello'} == {9, 'hello', 11, 6} # comparing sets"
   ]
  },
  {
   "cell_type": "code",
   "execution_count": 25,
   "id": "4f23eb75",
   "metadata": {},
   "outputs": [
    {
     "data": {
      "text/plain": [
       "True"
      ]
     },
     "execution_count": 25,
     "metadata": {},
     "output_type": "execute_result"
    }
   ],
   "source": [
    "9 in my_set # check element in set"
   ]
  },
  {
   "cell_type": "code",
   "execution_count": 26,
   "id": "e6a2cf37",
   "metadata": {},
   "outputs": [
    {
     "data": {
      "text/plain": [
       "False"
      ]
     },
     "execution_count": 26,
     "metadata": {},
     "output_type": "execute_result"
    }
   ],
   "source": [
    "10 in my_set # nope"
   ]
  },
  {
   "cell_type": "markdown",
   "id": "4c336bb3",
   "metadata": {},
   "source": [
    "Operation in works on lists too.. but that take a lot of time. But not in sets."
   ]
  },
  {
   "cell_type": "code",
   "execution_count": 27,
   "id": "7ee0ddde",
   "metadata": {},
   "outputs": [
    {
     "data": {
      "text/plain": [
       "{6, 7, 8, 9, 11}"
      ]
     },
     "execution_count": 27,
     "metadata": {},
     "output_type": "execute_result"
    }
   ],
   "source": [
    "{6, 8, 9} | {6, 11, 7} # we can unite our sets"
   ]
  },
  {
   "cell_type": "code",
   "execution_count": 28,
   "id": "9fa296c9",
   "metadata": {},
   "outputs": [
    {
     "data": {
      "text/plain": [
       "{6}"
      ]
     },
     "execution_count": 28,
     "metadata": {},
     "output_type": "execute_result"
    }
   ],
   "source": [
    "{6, 8, 9} & {6, 11, 7} # or this way\n",
    "# and remember! in set you will take deal with disorder. Use sorted()"
   ]
  },
  {
   "cell_type": "code",
   "execution_count": 29,
   "id": "e26956cb",
   "metadata": {},
   "outputs": [
    {
     "name": "stdout",
     "output_type": "stream",
     "text": [
      "{'Zzzzz', 'Aaaaa', 'Test', 'Q', 'Hello', 'World', 'Zz', 'Guest'}\n",
      "['Aaaaa', 'Guest', 'Hello', 'Q', 'Test', 'World', 'Zz', 'Zzzzz']\n"
     ]
    }
   ],
   "source": [
    "s = {\"Hello\", \"World\", \"Test\", \"Guest\", \"Aaaaa\", \"Zzzzz\",\"Zz\",\"Q\"}\n",
    "print(s)\n",
    "print(sorted(s)) \n",
    "#sorted() create a new array for set"
   ]
  },
  {
   "cell_type": "markdown",
   "id": "60f85c9d",
   "metadata": {},
   "source": [
    "### Example of using sets"
   ]
  },
  {
   "cell_type": "markdown",
   "id": "c3e084ec",
   "metadata": {},
   "source": [
    "If we want give to user ability to print command in different option we can do that"
   ]
  },
  {
   "cell_type": "code",
   "execution_count": 30,
   "id": "7b39966a",
   "metadata": {},
   "outputs": [
    {
     "name": "stdout",
     "output_type": "stream",
     "text": [
      "Okay, stopping\n"
     ]
    }
   ],
   "source": [
    "s = 'stop'\n",
    "if s == 'stop' or s == 'Stop' or s == 'STOP' or s == 'S' or s == 's': \n",
    "    print(\"Okay, stopping\")"
   ]
  },
  {
   "cell_type": "code",
   "execution_count": 31,
   "id": "d96a6e0b",
   "metadata": {},
   "outputs": [
    {
     "name": "stdout",
     "output_type": "stream",
     "text": [
      "Okay, stopping\n"
     ]
    }
   ],
   "source": [
    "s = 'stop'\n",
    "STOPS = {'stop', 'Stop', 'STOP', 'S', 's'} # or we could do that way\n",
    "if s in STOPS: \n",
    "    print(\"Okay, stopping\")"
   ]
  },
  {
   "cell_type": "markdown",
   "id": "69f64c51",
   "metadata": {},
   "source": [
    "### And more about strings"
   ]
  },
  {
   "cell_type": "code",
   "execution_count": 32,
   "id": "527dd4cd",
   "metadata": {},
   "outputs": [
    {
     "name": "stdout",
     "output_type": "stream",
     "text": [
      "Hi world, Hi\n",
      "hello world, hello\n"
     ]
    }
   ],
   "source": [
    "s = \"hello world, hello\"\n",
    "new_s = s.replace(\"hello\", \"Hi\") # replacing words\n",
    "print(new_s)\n",
    "print(s)"
   ]
  },
  {
   "cell_type": "markdown",
   "id": "6359fa0a",
   "metadata": {},
   "source": [
    "Remember append() never change string (THAT'S IMPOSSIBLE) "
   ]
  },
  {
   "cell_type": "code",
   "execution_count": 33,
   "id": "f42128b0",
   "metadata": {},
   "outputs": [
    {
     "data": {
      "text/plain": [
       "'Hi world, hello'"
      ]
     },
     "execution_count": 33,
     "metadata": {},
     "output_type": "execute_result"
    }
   ],
   "source": [
    "\"hello world, hello\".replace(\"hello\", \"Hi\", 1) # third argument\n",
    "# needs to point out how many we need replaces"
   ]
  },
  {
   "cell_type": "code",
   "execution_count": 34,
   "id": "02a8c365",
   "metadata": {},
   "outputs": [
    {
     "data": {
      "text/plain": [
       "6"
      ]
     },
     "execution_count": 34,
     "metadata": {},
     "output_type": "execute_result"
    }
   ],
   "source": [
    "s.index(\"world\") # that how find string in another key that gives exeption"
   ]
  },
  {
   "cell_type": "code",
   "execution_count": 35,
   "id": "cc101196",
   "metadata": {},
   "outputs": [
    {
     "data": {
      "text/plain": [
       "6"
      ]
     },
     "execution_count": 35,
     "metadata": {},
     "output_type": "execute_result"
    }
   ],
   "source": [
    "s.find(\"world\") # and another method else return -1\n",
    "# they return index of first symbol of string"
   ]
  },
  {
   "cell_type": "code",
   "execution_count": 36,
   "id": "7aa927fa",
   "metadata": {},
   "outputs": [
    {
     "data": {
      "text/plain": [
       "True"
      ]
     },
     "execution_count": 36,
     "metadata": {},
     "output_type": "execute_result"
    }
   ],
   "source": [
    "\"world\" in s "
   ]
  },
  {
   "cell_type": "code",
   "execution_count": 37,
   "id": "3ec793a2",
   "metadata": {},
   "outputs": [
    {
     "data": {
      "text/plain": [
       "3"
      ]
     },
     "execution_count": 37,
     "metadata": {},
     "output_type": "execute_result"
    }
   ],
   "source": [
    "s.count(\"o\") # that count o in string"
   ]
  },
  {
   "cell_type": "markdown",
   "id": "0a79e2c0",
   "metadata": {},
   "source": [
    "### File input/output"
   ]
  },
  {
   "cell_type": "markdown",
   "id": "22d6504f",
   "metadata": {},
   "source": [
    "If we want read file"
   ]
  },
  {
   "cell_type": "code",
   "execution_count": 38,
   "id": "0b7983b0",
   "metadata": {},
   "outputs": [
    {
     "name": "stdout",
     "output_type": "stream",
     "text": [
      "Python is best language in the world!\n",
      "Python is best language in the world!\n",
      "Python is best language in the world!\n",
      "Python is best language in the world!\n",
      "Python is best language in the world!\n",
      "Python is best language in the world!\n",
      "Python is best language in the world!\n",
      "Python is best language in the world!\n"
     ]
    }
   ],
   "source": [
    "f = open(\"func.txt\") # open file\n",
    "s = f.read() # read file in s\n",
    "f.close() # close file\n",
    "print(s) # print s \n",
    "# but we have error"
   ]
  },
  {
   "cell_type": "code",
   "execution_count": 39,
   "id": "f0fe3f28",
   "metadata": {},
   "outputs": [
    {
     "data": {
      "text/plain": [
       "'C:\\\\Users\\\\gener\\\\Documents'"
      ]
     },
     "execution_count": 39,
     "metadata": {},
     "output_type": "execute_result"
    }
   ],
   "source": [
    "import os \n",
    "os.getcwd() # view path"
   ]
  },
  {
   "cell_type": "code",
   "execution_count": 40,
   "id": "2cf0ee70",
   "metadata": {},
   "outputs": [],
   "source": [
    "f = open(\"func.txt\")\n",
    "lines = f.readlines()\n",
    "f.close()"
   ]
  },
  {
   "cell_type": "code",
   "execution_count": 41,
   "id": "c9e3562c",
   "metadata": {},
   "outputs": [
    {
     "name": "stdout",
     "output_type": "stream",
     "text": [
      "['Python is best language in the world!\\n', 'Python is best language in the world!\\n', 'Python is best language in the world!\\n', 'Python is best language in the world!\\n', 'Python is best language in the world!\\n', 'Python is best language in the world!\\n', 'Python is best language in the world!\\n', 'Python is best language in the world!']\n"
     ]
    }
   ],
   "source": [
    "print(lines) # all lines with \\n"
   ]
  },
  {
   "cell_type": "code",
   "execution_count": 42,
   "id": "6d6f8539",
   "metadata": {},
   "outputs": [
    {
     "name": "stdout",
     "output_type": "stream",
     "text": [
      "1 Python is best language in the world!\n",
      "2 Python is best language in the world!\n",
      "3 Python is best language in the world!\n",
      "4 Python is best language in the world!\n",
      "5 Python is best language in the world!\n",
      "6 Python is best language in the world!\n",
      "7 Python is best language in the world!\n",
      "8 Python is best language in the world!"
     ]
    }
   ],
   "source": [
    "for i, line in enumerate(lines, 1): \n",
    "    print(i, line, end = \"\") # printing with line number"
   ]
  },
  {
   "cell_type": "code",
   "execution_count": 43,
   "id": "0ed9eb5e",
   "metadata": {},
   "outputs": [
    {
     "name": "stdout",
     "output_type": "stream",
     "text": [
      "1 Python is best language in the world!\n",
      "2 Python is best language in the world!\n",
      "3 Python is best language in the world!\n",
      "4 Python is best language in the world!\n",
      "5 Python is best language in the world!\n",
      "6 Python is best language in the world!\n",
      "7 Python is best language in the world!\n",
      "8 Python is best language in the world!"
     ]
    }
   ],
   "source": [
    "f = open(\"func.txt\") # another method\n",
    "for i, line in enumerate(f, 1): \n",
    "    print(i, line, end=\"\")\n",
    "f.close()"
   ]
  },
  {
   "cell_type": "code",
   "execution_count": 44,
   "id": "d1301a0a",
   "metadata": {},
   "outputs": [
    {
     "name": "stdout",
     "output_type": "stream",
     "text": [
      "Python is best language in the world!\n",
      "Python is best language in the world!\n",
      "Python is best language in the world!\n",
      "Python is best language in the world!\n",
      "Python is best language in the world!\n",
      "Python is best language in the world!\n",
      "Python is best language in the world!\n",
      "Python is best language in the world!----The next one----\n"
     ]
    }
   ],
   "source": [
    "f = open(\"func.txt\")\n",
    "for line in f: \n",
    "    print(line, end=\"\")\n",
    "print(\"----The next one----\")\n",
    "for line in f: \n",
    "    print(line, end=\"\")\n",
    "f.close()\n",
    "# but why next cycle didn't work ?\n",
    "# because our file is point out end "
   ]
  },
  {
   "cell_type": "code",
   "execution_count": 45,
   "id": "9e3c3ee8",
   "metadata": {},
   "outputs": [
    {
     "name": "stdout",
     "output_type": "stream",
     "text": [
      "Python is best language in the world!\n",
      "Python is best language in the world!\n",
      "Python is best language in the world!\n",
      "Python is best language in the world!\n",
      "Python is best language in the world!\n",
      "Python is best language in the world!\n",
      "Python is best language in the world!\n",
      "Python is best language in the world!----The next one----\n",
      "Python is best language in the world!\n",
      "Python is best language in the world!\n",
      "Python is best language in the world!\n",
      "Python is best language in the world!\n",
      "Python is best language in the world!\n",
      "Python is best language in the world!\n",
      "Python is best language in the world!\n",
      "Python is best language in the world!"
     ]
    }
   ],
   "source": [
    "f = open(\"func.txt\")\n",
    "for line in f: \n",
    "   print(line, end=\"\")\n",
    "print(\"----The next one----\")\n",
    "f.seek(0) # use seek to retern in begin of file\n",
    "for line in f: \n",
    "   print(line, end=\"\")\n",
    "f.close()"
   ]
  },
  {
   "cell_type": "markdown",
   "id": "6dc588d9",
   "metadata": {},
   "source": [
    "### Input in files"
   ]
  },
  {
   "cell_type": "markdown",
   "id": "8e68b2ca",
   "metadata": {},
   "source": [
    "Firstly we need to open() file. "
   ]
  },
  {
   "cell_type": "code",
   "execution_count": 46,
   "id": "63412459",
   "metadata": {},
   "outputs": [],
   "source": [
    "f = open(\"other.txt\", \"w\") # open file\n",
    "f.write(\"Hello\\n\") # write in file\n",
    "f.close()"
   ]
  },
  {
   "cell_type": "code",
   "execution_count": 47,
   "id": "0def8126",
   "metadata": {},
   "outputs": [
    {
     "data": {
      "text/plain": [
       "'Hello\\n'"
      ]
     },
     "execution_count": 47,
     "metadata": {},
     "output_type": "execute_result"
    }
   ],
   "source": [
    "open('other.txt').read() # read file. File will be closed soon"
   ]
  },
  {
   "cell_type": "code",
   "execution_count": null,
   "id": "98267ee9",
   "metadata": {},
   "outputs": [],
   "source": []
  },
  {
   "cell_type": "code",
   "execution_count": null,
   "id": "084676e6",
   "metadata": {},
   "outputs": [],
   "source": []
  },
  {
   "cell_type": "code",
   "execution_count": null,
   "id": "1985c72c",
   "metadata": {},
   "outputs": [],
   "source": []
  }
 ],
 "metadata": {
  "kernelspec": {
   "display_name": "Python 3",
   "language": "python",
   "name": "python3"
  },
  "language_info": {
   "codemirror_mode": {
    "name": "ipython",
    "version": 3
   },
   "file_extension": ".py",
   "mimetype": "text/x-python",
   "name": "python",
   "nbconvert_exporter": "python",
   "pygments_lexer": "ipython3",
   "version": "3.8.8"
  }
 },
 "nbformat": 4,
 "nbformat_minor": 5
}
