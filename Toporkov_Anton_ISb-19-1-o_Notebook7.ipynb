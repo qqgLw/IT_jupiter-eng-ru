{
 "cells": [
  {
   "cell_type": "markdown",
   "id": "6a4e73b8",
   "metadata": {},
   "source": [
    "\n",
    "# Notebook of information technology #7\n",
    "**by st. Toporkov A.P., IS-19-1 group**\\\n",
    "**2021**"
   ]
  },
  {
   "cell_type": "markdown",
   "id": "c92b1414",
   "metadata": {},
   "source": [
    "### Features in work with mutable types of data "
   ]
  },
  {
   "cell_type": "code",
   "execution_count": 24,
   "id": "72a348ef",
   "metadata": {},
   "outputs": [],
   "source": [
    "\"We have some moments in work with lists, dictionaries and other mutable types of data.\"\n",
    "def my_func(x): # For example, this functio we create function with argument x\n",
    "   x = x + 1    # x increase by 1\n",
    "   return x     # return x"
   ]
  },
  {
   "cell_type": "code",
   "execution_count": 25,
   "id": "4929348d",
   "metadata": {},
   "outputs": [
    {
     "name": "stdout",
     "output_type": "stream",
     "text": [
      "Function returns 6\n",
      "y = 5\n"
     ]
    }
   ],
   "source": [
    "y = 5 # set y equals 5\n",
    "print(\"Function returns\", my_func(y)) # print result of function my_func\n",
    "print(\"y =\", y)  # with y argument\n",
    "# function did not change y variable\n",
    "# lets do same with list"
   ]
  },
  {
   "cell_type": "code",
   "execution_count": 26,
   "id": "5410702b",
   "metadata": {},
   "outputs": [],
   "source": [
    "def other_func(my_list): # create function\n",
    "   my_list.append(1)  # add 1 in tail of list\n",
    "   return my_list     # return list\n",
    "# lets try call this function"
   ]
  },
  {
   "cell_type": "code",
   "execution_count": 27,
   "id": "fd869c38",
   "metadata": {},
   "outputs": [
    {
     "name": "stdout",
     "output_type": "stream",
     "text": [
      "this_list before function: [6, 9, 33]\n",
      "function returns: [6, 9, 33, 1]\n",
      "this_list after function [6, 9, 33, 1]\n"
     ]
    }
   ],
   "source": [
    "this_list = [6, 9, 33] # create list\n",
    "print(\"this_list before function:\",this_list) # print list\n",
    "print(\"function returns:\",other_func(this_list)) # call function \n",
    "print(\"this_list after function\", this_list) # print list"
   ]
  },
  {
   "cell_type": "code",
   "execution_count": 28,
   "id": "5b411aaf",
   "metadata": {},
   "outputs": [
    {
     "name": "stdout",
     "output_type": "stream",
     "text": [
      "The tutormagic extension is already loaded. To reload it, use:\n",
      "  %reload_ext tutormagic\n"
     ]
    }
   ],
   "source": [
    "#original list has changed, despite initializing outside of function and working with different var but how?\n",
    "# We need some magic to understand that:\n",
    "%load_ext tutormagic "
   ]
  },
  {
   "cell_type": "code",
   "execution_count": 29,
   "id": "ffb99a88",
   "metadata": {},
   "outputs": [
    {
     "data": {
      "text/html": [
       "\n",
       "        <iframe\n",
       "            width=\"100%\"\n",
       "            height=\"350\"\n",
       "            src=\"http://pythontutor.com/iframe-embed.html#code=def%20other_func%28my_list%29%3A%23%20re-create%20our%20situation%0A%20%20%20my_list.append%281%29%0A%20%20%20return%20my_list%20%0Athis_list%20%3D%20%5B6%2C%209%2C%2033%5D%20%0Aother_func%28this_list%29%20%0A&origin=opt-frontend.js&cumulative=false&heapPrimitives=false&textReferences=false&curInstr=0&&verticalStack=false&py=3&rawInputLstJSON=%5B%5D&codeDivWidth=50%25&codeDivHeight=100%25\"\n",
       "            frameborder=\"0\"\n",
       "            allowfullscreen\n",
       "            \n",
       "        ></iframe>\n",
       "        "
      ],
      "text/plain": [
       "<IPython.lib.display.IFrame at 0x1d7e87d1a30>"
      ]
     },
     "metadata": {},
     "output_type": "display_data"
    }
   ],
   "source": [
    "%%tutor --lang python3  \n",
    "def other_func(my_list):# re-create our situation\n",
    "   my_list.append(1)\n",
    "   return my_list \n",
    "this_list = [6, 9, 33] \n",
    "other_func(this_list) "
   ]
  },
  {
   "cell_type": "markdown",
   "id": "e99421d4",
   "metadata": {},
   "source": [
    "### Two sorts"
   ]
  },
  {
   "cell_type": "code",
   "execution_count": 30,
   "id": "d2453ddf",
   "metadata": {},
   "outputs": [
    {
     "name": "stderr",
     "output_type": "stream",
     "text": [
      "UsageError: Line magic function `%%tutor` not found.\n"
     ]
    }
   ],
   "source": [
    "\"\"\"\n",
    "Here another two examples with lists. Both functions take a list variable, sort it, and returт to the main scope    \n",
    "Lets again use tutormagic to see the differences:\n",
    "\"\"\"\n",
    "%%tutor --lang python3 \n",
    "def return_sorted(my_list): # we have inner list variable that point to the same list as the outside one\n",
    "   my_list = sorted(my_list) # sorted function will create new list (because of the left statement part variable will now points to the new list object)\n",
    "   return my_list # reassigning my_list with a new list value and returing it back to the scope\n",
    "this_list = [33, 1, 55]  # create list variable outside the function\n",
    "print(\"this_list before function:\", this_list) \n",
    "print(\"function returned:\", return_sorted(this_list)) \n",
    "print(\"this_list after function:\", this_list) #old list oject still keeps in it original state"
   ]
  },
  {
   "cell_type": "code",
   "execution_count": 31,
   "id": "bbef44fe",
   "metadata": {},
   "outputs": [
    {
     "data": {
      "text/html": [
       "\n",
       "        <iframe\n",
       "            width=\"100%\"\n",
       "            height=\"350\"\n",
       "            src=\"http://pythontutor.com/iframe-embed.html#code=def%20sort_and_return%28my_list%29%3A%20%23%20at%20this%20step%20we%20will%20not%20notice%20any%20diferences%0A%20%20%20my_list.sort%28%29%20%23%20we%20are%20using%20a%20sort%20method%20of%20list%20object%2C%20assigned%20to%20both%20of%20presented%20variables%20%0A%20%20%20return%20my_list%20%23%20sort%20method%20changes%20list%20%27in%20place%27%0Athis_list%20%3D%20%5B33%2C%201%2C%2055%5D%20%0Aprint%28%22this_list%20before%20function%3A%22%2C%20this_list%29%20%0Aprint%28%22function%20returned%3A%22%2C%20sort_and_return%28this_list%29%29%20%0Aprint%28%22this_list%20after%20function%3A%22%2C%20this_list%29%20%20%23as%20a%20result%2C%20function%20invocation%20will%20change%20the%20original%20list%0A&origin=opt-frontend.js&cumulative=false&heapPrimitives=false&textReferences=false&curInstr=0&&verticalStack=false&py=3&rawInputLstJSON=%5B%5D&codeDivWidth=50%25&codeDivHeight=100%25\"\n",
       "            frameborder=\"0\"\n",
       "            allowfullscreen\n",
       "            \n",
       "        ></iframe>\n",
       "        "
      ],
      "text/plain": [
       "<IPython.lib.display.IFrame at 0x1d7e87d5670>"
      ]
     },
     "metadata": {},
     "output_type": "display_data"
    }
   ],
   "source": [
    "%%tutor --lang python3  # another example\n",
    "def sort_and_return(my_list): # at this step we will not notice any diferences\n",
    "   my_list.sort() # we are using a sort method of list object, assigned to both of presented variables \n",
    "   return my_list # sort method changes list 'in place'\n",
    "this_list = [33, 1, 55] \n",
    "print(\"this_list before function:\", this_list) \n",
    "print(\"function returned:\", sort_and_return(this_list)) \n",
    "print(\"this_list after function:\", this_list)  #as a result, function invocation will change the original list"
   ]
  },
  {
   "cell_type": "code",
   "execution_count": 32,
   "id": "e30e622f",
   "metadata": {},
   "outputs": [
    {
     "data": {
      "text/plain": [
       "'\\nSummarizing, mutable types can provide the developer with an implementation choise: the value can be recreated, or modified\\n'"
      ]
     },
     "execution_count": 32,
     "metadata": {},
     "output_type": "execute_result"
    }
   ],
   "source": [
    "\"\"\"\n",
    "Summarizing, mutable types can provide the developer with an implementation choise: the value can be recreated, or modified\n",
    "\"\"\""
   ]
  },
  {
   "cell_type": "markdown",
   "id": "3e1ded6c",
   "metadata": {},
   "source": [
    "### Creating copies"
   ]
  },
  {
   "cell_type": "code",
   "execution_count": 33,
   "id": "dbf0e161",
   "metadata": {},
   "outputs": [],
   "source": [
    "# Now we want to write a function, which takes list and returns its copy with new element, but origin list remains without changes.\n",
    "def return_append(L, a): # create function \n",
    "    new_L = L.copy()     # make copy our L list with specified method and assign it to new variable\n",
    "    new_L.append(a)      # add element a in new_L, origin list will remain unchanged\n",
    "    return new_L"
   ]
  },
  {
   "cell_type": "code",
   "execution_count": 34,
   "id": "116aa1f4",
   "metadata": {},
   "outputs": [
    {
     "name": "stdout",
     "output_type": "stream",
     "text": [
      "outer_list before funciton [7, 8, 9]\n",
      "function returned [7, 8, 9, 55]\n",
      "outer_list after function [7, 8, 9]\n"
     ]
    }
   ],
   "source": [
    "outer_list = [7, 8, 9]\n",
    "print(\"outer_list before funciton\", outer_list)\n",
    "print(\"function returned\", return_append(outer_list, 55))\n",
    "print(\"outer_list after function\", outer_list)"
   ]
  },
  {
   "cell_type": "markdown",
   "id": "c2b709af",
   "metadata": {},
   "source": [
    "### Not only function calls "
   ]
  },
  {
   "cell_type": "code",
   "execution_count": 43,
   "id": "f61bdef1",
   "metadata": {},
   "outputs": [
    {
     "name": "stdout",
     "output_type": "stream",
     "text": [
      "[7, 9, 11]\n"
     ]
    }
   ],
   "source": [
    "\"Problems, which we solve erlier appears not only in functions\"\n",
    "some_list = [7, 9, 11] #First, we will have example with loops\n",
    "for x in some_list:  \n",
    "    x = x + 1 # we increasing loop scope variable, but not elements of list\n",
    "print(some_list) # some_list does not change"
   ]
  },
  {
   "cell_type": "code",
   "execution_count": 36,
   "id": "250aac4f",
   "metadata": {},
   "outputs": [
    {
     "name": "stdout",
     "output_type": "stream",
     "text": [
      "[[1, 5, 77], [7, 9, 77]]\n"
     ]
    }
   ],
   "source": [
    "#Let's make more complicated situation\n",
    "table = [[1, 5], [7, 9]] # create list of list\n",
    "for row in table:        # cycle for adding 77 in lists\n",
    "    row.append(77) # element now are itself a lists, so this line will use append method for list object, that is assined to 'table' element  \n",
    "print(table) #"
   ]
  },
  {
   "cell_type": "code",
   "execution_count": 37,
   "id": "acac647b",
   "metadata": {},
   "outputs": [
    {
     "data": {
      "text/html": [
       "\n",
       "        <iframe\n",
       "            width=\"100%\"\n",
       "            height=\"350\"\n",
       "            src=\"http://pythontutor.com/iframe-embed.html#code=table%20%3D%20%5B%5B1%2C%205%5D%2C%20%5B7%2C%209%5D%5D%20%0Afor%20row%20in%20table%3A%20%0A%20%20%20%20row.append%2877%29%20%0Aprint%28table%29%20%0A&origin=opt-frontend.js&cumulative=false&heapPrimitives=false&textReferences=false&curInstr=0&&verticalStack=false&py=3&rawInputLstJSON=%5B%5D&codeDivWidth=50%25&codeDivHeight=100%25\"\n",
       "            frameborder=\"0\"\n",
       "            allowfullscreen\n",
       "            \n",
       "        ></iframe>\n",
       "        "
      ],
      "text/plain": [
       "<IPython.lib.display.IFrame at 0x1d7e8769250>"
      ]
     },
     "metadata": {},
     "output_type": "display_data"
    }
   ],
   "source": [
    "%%tutor --lang python3  # we will take a look at the mutable type specific case in tutor\n",
    "table = [[1, 5], [7, 9]] \n",
    "for row in table: \n",
    "    row.append(77) \n",
    "print(table) "
   ]
  },
  {
   "cell_type": "markdown",
   "id": "285efa22",
   "metadata": {},
   "source": [
    "### Headcracker"
   ]
  },
  {
   "cell_type": "code",
   "execution_count": 46,
   "id": "6376b171",
   "metadata": {},
   "outputs": [
    {
     "name": "stdout",
     "output_type": "stream",
     "text": [
      "[[1], [1], [1], [1], [1]]\n"
     ]
    }
   ],
   "source": [
    "A = [[]]*5 # initialize list that contains empty list\n",
    "# Multiplication will increase number of A list by five, all additional elems will point to the one empty list object that is in A[0] element  \n",
    "A[2].append(1) #append '1' element to the empty-list element. That will also affect another element of the A (becase all elements are pointed to the same object)\n",
    "print(A) # we will get [[1], [1], [1], [1], [1]]"
   ]
  },
  {
   "cell_type": "markdown",
   "id": "43e8ff5a",
   "metadata": {},
   "source": [
    "### Editing object of iteration in loop"
   ]
  },
  {
   "cell_type": "code",
   "execution_count": 47,
   "id": "2e1df81f",
   "metadata": {},
   "outputs": [
    {
     "name": "stdout",
     "output_type": "stream",
     "text": [
      "8\n",
      "[6, 9, 44]\n"
     ]
    }
   ],
   "source": [
    "\"\"\"\n",
    "In examples above we changed the contents of table but not the table itself: elements count was unchanged and elements \n",
    "were pointed the same row-lists as before. \n",
    "But we can change tables in iterations. \n",
    "But firstly, lets remember, how pop() works\n",
    "\"\"\"\n",
    "L = [6, 9, 44, 8] # make list\n",
    "print(L.pop()) # pop remove last element and print it.\n",
    "print(L) # print list"
   ]
  },
  {
   "cell_type": "code",
   "execution_count": 54,
   "id": "94eb2a8b",
   "metadata": {
    "scrolled": true
   },
   "outputs": [
    {
     "name": "stdout",
     "output_type": "stream",
     "text": [
      "Pop element 10\n",
      "7\n",
      "Pop element 9\n",
      "8\n"
     ]
    }
   ],
   "source": [
    "L = [7, 8, 9, 10]\n",
    "for x in L:  # loop for to pop() our list\n",
    "   print(\"Pop element\", L.pop()) \n",
    "   print(x)# it makes only two iterations: elements are removing from the end and loop stops iterating after two 'pop' calls in four-elements-sized list"
   ]
  },
  {
   "cell_type": "code",
   "execution_count": 55,
   "id": "f4a3a068",
   "metadata": {},
   "outputs": [
    {
     "name": "stdout",
     "output_type": "stream",
     "text": [
      "1 2\n"
     ]
    },
    {
     "ename": "RuntimeError",
     "evalue": "dictionary changed size during iteration",
     "output_type": "error",
     "traceback": [
      "\u001b[1;31m---------------------------------------------------------------------------\u001b[0m",
      "\u001b[1;31mRuntimeError\u001b[0m                              Traceback (most recent call last)",
      "\u001b[1;32m~\\AppData\\Local\\Temp/ipykernel_9616/1236013349.py\u001b[0m in \u001b[0;36m<module>\u001b[1;34m\u001b[0m\n\u001b[0;32m      1\u001b[0m \u001b[0md\u001b[0m \u001b[1;33m=\u001b[0m \u001b[1;33m{\u001b[0m\u001b[1;36m1\u001b[0m\u001b[1;33m:\u001b[0m\u001b[1;36m2\u001b[0m\u001b[1;33m,\u001b[0m \u001b[1;36m3\u001b[0m\u001b[1;33m:\u001b[0m\u001b[1;36m4\u001b[0m\u001b[1;33m}\u001b[0m \u001b[1;31m# with dictionaries situation is different\u001b[0m\u001b[1;33m\u001b[0m\u001b[1;33m\u001b[0m\u001b[0m\n\u001b[1;32m----> 2\u001b[1;33m \u001b[1;32mfor\u001b[0m \u001b[0mk\u001b[0m\u001b[1;33m,\u001b[0m \u001b[0mv\u001b[0m \u001b[1;32min\u001b[0m \u001b[0md\u001b[0m\u001b[1;33m.\u001b[0m\u001b[0mitems\u001b[0m\u001b[1;33m(\u001b[0m\u001b[1;33m)\u001b[0m\u001b[1;33m:\u001b[0m \u001b[1;31m# iterationg through elements\u001b[0m\u001b[1;33m\u001b[0m\u001b[1;33m\u001b[0m\u001b[0m\n\u001b[0m\u001b[0;32m      3\u001b[0m     \u001b[1;32mdel\u001b[0m \u001b[0md\u001b[0m\u001b[1;33m[\u001b[0m\u001b[1;36m3\u001b[0m\u001b[1;33m]\u001b[0m   \u001b[1;31m# deleting element with key 3\u001b[0m\u001b[1;33m\u001b[0m\u001b[1;33m\u001b[0m\u001b[0m\n\u001b[0;32m      4\u001b[0m     \u001b[0mprint\u001b[0m\u001b[1;33m(\u001b[0m\u001b[0mk\u001b[0m\u001b[1;33m,\u001b[0m \u001b[0mv\u001b[0m\u001b[1;33m)\u001b[0m\u001b[1;33m\u001b[0m\u001b[1;33m\u001b[0m\u001b[0m\n\u001b[0;32m      5\u001b[0m \u001b[1;31m# We can't do that because we don't know, how element is located in dictionary\u001b[0m\u001b[1;33m\u001b[0m\u001b[1;33m\u001b[0m\u001b[0m\n",
      "\u001b[1;31mRuntimeError\u001b[0m: dictionary changed size during iteration"
     ]
    }
   ],
   "source": [
    "d = {1:2, 3:4} # with dictionaries situation is different\n",
    "for k, v in d.items(): # iterationg through elements\n",
    "    del d[3]   # deleting element with key 3\n",
    "    print(k, v)\n",
    "# We can't do that because we don't know, how element is located in dictionary"
   ]
  },
  {
   "cell_type": "code",
   "execution_count": 56,
   "id": "68e0982c",
   "metadata": {},
   "outputs": [
    {
     "name": "stdout",
     "output_type": "stream",
     "text": [
      "{1: 2, 3: 4}\n"
     ]
    }
   ],
   "source": [
    "# but we definitely can change dictionary values in iterations\n",
    "d={1:2, 3:4}\n",
    "for k, v in d.items(): \n",
    "    v = v + 1 # we cannot change values of dictionary by this way\n",
    "print(d)"
   ]
  },
  {
   "cell_type": "code",
   "execution_count": 57,
   "id": "7ae1734d",
   "metadata": {},
   "outputs": [
    {
     "name": "stdout",
     "output_type": "stream",
     "text": [
      "{1: 3, 3: 5}\n"
     ]
    }
   ],
   "source": [
    "d = {1:2, 3:4}\n",
    "for k in d: \n",
    "    d[k] = d[k] + 1 #thats will work just fine\n",
    "print(d)"
   ]
  },
  {
   "cell_type": "markdown",
   "id": "b86a52d6",
   "metadata": {},
   "source": [
    "### Sets"
   ]
  },
  {
   "cell_type": "code",
   "execution_count": 3,
   "id": "2a7287ce",
   "metadata": {},
   "outputs": [],
   "source": [
    "\"Set is another basic type in Python. Set - that is group of some elements that can be included only once.\"\n",
    "my_set = {6, 9, 11, 11, 9, 'hello'} # creating set"
   ]
  },
  {
   "cell_type": "code",
   "execution_count": 4,
   "id": "99aeb478",
   "metadata": {},
   "outputs": [
    {
     "data": {
      "text/plain": [
       "{11, 6, 9, 'hello'}"
      ]
     },
     "execution_count": 4,
     "metadata": {},
     "output_type": "execute_result"
    }
   ],
   "source": [
    "my_set # sets are not ordered"
   ]
  },
  {
   "cell_type": "code",
   "execution_count": 5,
   "id": "93319680",
   "metadata": {},
   "outputs": [
    {
     "data": {
      "text/plain": [
       "True"
      ]
     },
     "execution_count": 5,
     "metadata": {},
     "output_type": "execute_result"
    }
   ],
   "source": [
    "{6, 9, 11, 11, 9, 'hello'} == {9, 'hello', 11, 6} # comparing sets"
   ]
  },
  {
   "cell_type": "code",
   "execution_count": 6,
   "id": "4f23eb75",
   "metadata": {},
   "outputs": [
    {
     "data": {
      "text/plain": [
       "True"
      ]
     },
     "execution_count": 6,
     "metadata": {},
     "output_type": "execute_result"
    }
   ],
   "source": [
    "9 in my_set # check element in set"
   ]
  },
  {
   "cell_type": "code",
   "execution_count": 7,
   "id": "e6a2cf37",
   "metadata": {},
   "outputs": [
    {
     "name": "stdout",
     "output_type": "stream",
     "text": [
      "False\n"
     ]
    },
    {
     "data": {
      "text/plain": [
       "True"
      ]
     },
     "execution_count": 7,
     "metadata": {},
     "output_type": "execute_result"
    }
   ],
   "source": [
    "print(10 in my_set) # false expression \n",
    "# 'In' operator is not exclusive only for sets. For example, 'in' can be used  with lists\n",
    "4 in [2, 4, 8, 10] # that will return true, but this operation requeries much more comprassions\n",
    "# on the other hand, if 'in' is used with sets, their size will not affect execution time "
   ]
  },
  {
   "cell_type": "code",
   "execution_count": 8,
   "id": "7ee0ddde",
   "metadata": {},
   "outputs": [
    {
     "data": {
      "text/plain": [
       "{6, 7, 8, 9, 11}"
      ]
     },
     "execution_count": 8,
     "metadata": {},
     "output_type": "execute_result"
    }
   ],
   "source": [
    "{6, 8, 9} | {6, 11, 7} # we can unite our sets"
   ]
  },
  {
   "cell_type": "code",
   "execution_count": 9,
   "id": "9fa296c9",
   "metadata": {},
   "outputs": [
    {
     "data": {
      "text/plain": [
       "{6}"
      ]
     },
     "execution_count": 9,
     "metadata": {},
     "output_type": "execute_result"
    }
   ],
   "source": [
    "{6, 8, 9} & {6, 11, 7} # or this way"
   ]
  },
  {
   "cell_type": "code",
   "execution_count": 10,
   "id": "e26956cb",
   "metadata": {},
   "outputs": [
    {
     "name": "stdout",
     "output_type": "stream",
     "text": [
      "{'Q', 'Zzzzz', 'Test', 'World', 'Hello', 'Guest', 'Aaaaa', 'Zz'}\n",
      "['Aaaaa', 'Guest', 'Hello', 'Q', 'Test', 'World', 'Zz', 'Zzzzz']\n"
     ]
    }
   ],
   "source": [
    "s = {\"Hello\", \"World\", \"Test\", \"Guest\", \"Aaaaa\", \"Zzzzz\",\"Zz\",\"Q\"}\n",
    "print(s) # elements in sets are unordered\n",
    "print(sorted(s)) # if we need to order set in some order, we can use sorted function AND we will get LIST as the result"
   ]
  },
  {
   "cell_type": "markdown",
   "id": "60f85c9d",
   "metadata": {},
   "source": [
    "### Example of using sets"
   ]
  },
  {
   "cell_type": "code",
   "execution_count": null,
   "id": "7b39966a",
   "metadata": {},
   "outputs": [
    {
     "name": "stdout",
     "output_type": "stream",
     "text": [
      "Okay, stopping\n"
     ]
    }
   ],
   "source": [
    "#If we want give to user ability to print command in different ways we can do that\n",
    "s = 'stop'\n",
    "if s == 'stop' or s == 'Stop' or s == 'STOP' or s == 'S' or s == 's': #handle this case with several conditions\n",
    "    print(\"Okay, stopping\")"
   ]
  },
  {
   "cell_type": "code",
   "execution_count": null,
   "id": "d96a6e0b",
   "metadata": {},
   "outputs": [
    {
     "name": "stdout",
     "output_type": "stream",
     "text": [
      "Okay, stopping\n"
     ]
    }
   ],
   "source": [
    "s = 'stop'\n",
    "STOPS = {'stop', 'Stop', 'STOP', 'S', 's'} # or we could do that in more succinct way\n",
    "if s in STOPS: # or 'stop' options are now in one set \n",
    "    print(\"Okay, stopping\")"
   ]
  },
  {
   "cell_type": "markdown",
   "id": "69f64c51",
   "metadata": {},
   "source": [
    "### And more about strings"
   ]
  },
  {
   "cell_type": "code",
   "execution_count": 64,
   "id": "527dd4cd",
   "metadata": {},
   "outputs": [
    {
     "name": "stdout",
     "output_type": "stream",
     "text": [
      "Hi world, Hi\n",
      "hello world, hello\n"
     ]
    }
   ],
   "source": [
    "\"There is plenty of methods for string object\"\n",
    "s = \"hello world, hello\"\n",
    "new_s = s.replace(\"hello\", \"Hi\") # replace a substring in a string\n",
    "print(new_s) # new string was created\n",
    "print(s) # strings are of immutable type"
   ]
  },
  {
   "cell_type": "code",
   "execution_count": 65,
   "id": "f42128b0",
   "metadata": {},
   "outputs": [
    {
     "data": {
      "text/plain": [
       "'Hi world, hello'"
      ]
     },
     "execution_count": 65,
     "metadata": {},
     "output_type": "execute_result"
    }
   ],
   "source": [
    "\"hello world, hello\".replace(\"hello\", \"Hi\", 1) # third argument stands for position of required substring entry"
   ]
  },
  {
   "cell_type": "code",
   "execution_count": 68,
   "id": "02a8c365",
   "metadata": {},
   "outputs": [
    {
     "ename": "ValueError",
     "evalue": "substring not found",
     "output_type": "error",
     "traceback": [
      "\u001b[1;31m---------------------------------------------------------------------------\u001b[0m",
      "\u001b[1;31mValueError\u001b[0m                                Traceback (most recent call last)",
      "\u001b[1;32m~\\AppData\\Local\\Temp/ipykernel_9616/558116720.py\u001b[0m in \u001b[0;36m<module>\u001b[1;34m\u001b[0m\n\u001b[0;32m      1\u001b[0m \u001b[0ms\u001b[0m\u001b[1;33m.\u001b[0m\u001b[0mindex\u001b[0m\u001b[1;33m(\u001b[0m\u001b[1;34m\"world\"\u001b[0m\u001b[1;33m)\u001b[0m \u001b[1;31m# find a substring in a string (return index of first symbol of substring)\u001b[0m\u001b[1;33m\u001b[0m\u001b[1;33m\u001b[0m\u001b[0m\n\u001b[1;32m----> 2\u001b[1;33m \u001b[0ms\u001b[0m\u001b[1;33m.\u001b[0m\u001b[0mindex\u001b[0m\u001b[1;33m(\u001b[0m\u001b[1;34m\"world1\"\u001b[0m\u001b[1;33m)\u001b[0m\u001b[1;33m\u001b[0m\u001b[1;33m\u001b[0m\u001b[0m\n\u001b[0m",
      "\u001b[1;31mValueError\u001b[0m: substring not found"
     ]
    }
   ],
   "source": [
    "s.index(\"world\") # find a substring in a string (return index of first symbol of substring) \n",
    "s.index(\"world1\")"
   ]
  },
  {
   "cell_type": "code",
   "execution_count": 69,
   "id": "cc101196",
   "metadata": {},
   "outputs": [
    {
     "data": {
      "text/plain": [
       "-1"
      ]
     },
     "execution_count": 69,
     "metadata": {},
     "output_type": "execute_result"
    }
   ],
   "source": [
    "s.find(\"world\") # find method works the same, but returns -1 when substring is not finded\n",
    "s.find(\"world1\")"
   ]
  },
  {
   "cell_type": "code",
   "execution_count": 71,
   "id": "7aa927fa",
   "metadata": {},
   "outputs": [
    {
     "data": {
      "text/plain": [
       "True"
      ]
     },
     "execution_count": 71,
     "metadata": {},
     "output_type": "execute_result"
    }
   ],
   "source": [
    "\"world\" in s # way to check a substring entry exists"
   ]
  },
  {
   "cell_type": "code",
   "execution_count": 70,
   "id": "3ec793a2",
   "metadata": {},
   "outputs": [
    {
     "data": {
      "text/plain": [
       "3"
      ]
     },
     "execution_count": 70,
     "metadata": {},
     "output_type": "execute_result"
    }
   ],
   "source": [
    "s.count(\"o\") # that count of substring entrys in string"
   ]
  },
  {
   "cell_type": "markdown",
   "id": "0a79e2c0",
   "metadata": {},
   "source": [
    "### File input/output"
   ]
  },
  {
   "cell_type": "code",
   "execution_count": 74,
   "id": "0b7983b0",
   "metadata": {},
   "outputs": [
    {
     "name": "stdout",
     "output_type": "stream",
     "text": [
      "First line!\n",
      "Second line!\n",
      "Third line (final)!\n"
     ]
    }
   ],
   "source": [
    "\"We will discuss there about read/write operations with text files\"\n",
    "f = open(\"func.txt\") # open file\n",
    "s = f.read() # read file in one string variable\n",
    "f.close() # close file\n",
    "print(s) # print s "
   ]
  },
  {
   "cell_type": "code",
   "execution_count": 75,
   "id": "f0fe3f28",
   "metadata": {},
   "outputs": [
    {
     "data": {
      "text/plain": [
       "'c:\\\\Users\\\\Anton\\\\Searches\\\\Desktop\\\\IT_jupyter-eng-ru'"
      ]
     },
     "execution_count": 75,
     "metadata": {},
     "output_type": "execute_result"
    }
   ],
   "source": [
    "import os \n",
    "os.getcwd() # view path of wirkong directory"
   ]
  },
  {
   "cell_type": "code",
   "execution_count": 76,
   "id": "2cf0ee70",
   "metadata": {},
   "outputs": [],
   "source": [
    "f = open(\"func.txt\") \n",
    "lines = f.readlines() # alternative way to save file content: with this statement we will put splitted by lines content in list\n",
    "f.close()"
   ]
  },
  {
   "cell_type": "code",
   "execution_count": 77,
   "id": "c9e3562c",
   "metadata": {},
   "outputs": [
    {
     "name": "stdout",
     "output_type": "stream",
     "text": [
      "['First line!\\n', 'Second line!\\n', 'Third line (final)!']\n"
     ]
    }
   ],
   "source": [
    "print(lines) # all lines with \\n"
   ]
  },
  {
   "cell_type": "code",
   "execution_count": 78,
   "id": "6d6f8539",
   "metadata": {},
   "outputs": [
    {
     "name": "stdout",
     "output_type": "stream",
     "text": [
      "1 First line!\n",
      "2 Second line!\n",
      "3 Third line (final)!"
     ]
    }
   ],
   "source": [
    "for i, line in enumerate(lines, 1): # create tuple to iterate through lines of file content\n",
    "    print(i, line, end = \"\") # printing with line number"
   ]
  },
  {
   "cell_type": "code",
   "execution_count": 79,
   "id": "0ed9eb5e",
   "metadata": {},
   "outputs": [
    {
     "name": "stdout",
     "output_type": "stream",
     "text": [
      "1 First line!\n",
      "2 Second line!\n",
      "3 Third line (final)!"
     ]
    }
   ],
   "source": [
    "f = open(\"func.txt\") # another method (preferred)\n",
    "for i, line in enumerate(f, 1): # iterating through file object\n",
    "    print(i, line, end=\"\")\n",
    "f.close()"
   ]
  },
  {
   "cell_type": "code",
   "execution_count": 80,
   "id": "d1301a0a",
   "metadata": {},
   "outputs": [
    {
     "name": "stdout",
     "output_type": "stream",
     "text": [
      "First line!\n",
      "Second line!\n",
      "Third line (final)!----The next one----\n"
     ]
    }
   ],
   "source": [
    "f = open(\"func.txt\")\n",
    "for line in f: \n",
    "    print(line, end=\"\")\n",
    "print(\"----The next one----\")\n",
    "for line in f: # next loop didn't work!\n",
    "    print(line, end=\"\")\n",
    "f.close()"
   ]
  },
  {
   "cell_type": "code",
   "execution_count": null,
   "id": "b377bb56",
   "metadata": {},
   "outputs": [],
   "source": [
    "\"\"\"Why second loop didn't work? Thats because we saving reading position in file, before we open it. \n",
    "Read position was displaced to the end of a file after first loop cycle, \n",
    "so proceeding the file read will not affect any result: we're already in the end of file, so the file will end immediately!\n",
    "\"\"\""
   ]
  },
  {
   "cell_type": "code",
   "execution_count": 81,
   "id": "9e3c3ee8",
   "metadata": {},
   "outputs": [
    {
     "name": "stdout",
     "output_type": "stream",
     "text": [
      "First line!\n",
      "Second line!\n",
      "Third line (final)!----The next one----\n",
      "First line!\n",
      "Second line!\n",
      "Third line (final)!"
     ]
    }
   ],
   "source": [
    "# Let's fix that\n",
    "f = open(\"func.txt\")\n",
    "for line in f: \n",
    "   print(line, end=\"\")\n",
    "print(\"----The next one----\")\n",
    "f.seek(0) # using seek to return to the begining of the file\n",
    "for line in f: \n",
    "   print(line, end=\"\")\n",
    "f.close()"
   ]
  },
  {
   "cell_type": "markdown",
   "id": "6dc588d9",
   "metadata": {},
   "source": [
    "### Input in files"
   ]
  },
  {
   "cell_type": "code",
   "execution_count": 88,
   "id": "63412459",
   "metadata": {},
   "outputs": [],
   "source": [
    "\"To create a file and write something to it, we need to open it for recording.\"\n",
    "f = open(\"other.txt\", \"w\") # opening file for write is specified by second argument\n",
    "\n",
    "\"\"\"\n",
    "Attention! If the file you are trying to open for writing already exists, it\n",
    "will be deleted without any warning.\n",
    "\"\"\"\n",
    "\n",
    "f.write(\"Hello\\n\") # write in file\n",
    "f.close()"
   ]
  },
  {
   "cell_type": "code",
   "execution_count": 90,
   "id": "0def8126",
   "metadata": {},
   "outputs": [
    {
     "name": "stderr",
     "output_type": "stream",
     "text": [
      "C:\\Users\\Anton\\AppData\\Local\\Temp/ipykernel_9616/3283006852.py:2: ResourceWarning: unclosed file <_io.TextIOWrapper name='other.txt' mode='r' encoding='cp1251'>\n",
      "  open('other.txt').read() # read file. File will be closed soon because file object was not assigned to any variable\n",
      "ResourceWarning: Enable tracemalloc to get the object allocation traceback\n"
     ]
    },
    {
     "data": {
      "text/plain": [
       "'Hello\\n'"
      ]
     },
     "execution_count": 90,
     "metadata": {},
     "output_type": "execute_result"
    }
   ],
   "source": [
    "# The system issues a warning that we have not explicitly closed the file\n",
    "open('other.txt').read() # read file. File will be closed soon because file object was not assigned to any variable"
   ]
  }
 ],
 "metadata": {
  "kernelspec": {
   "display_name": "Python 3",
   "language": "python",
   "name": "python3"
  },
  "language_info": {
   "codemirror_mode": {
    "name": "ipython",
    "version": 3
   },
   "file_extension": ".py",
   "mimetype": "text/x-python",
   "name": "python",
   "nbconvert_exporter": "python",
   "pygments_lexer": "ipython3",
   "version": "3.9.7"
  }
 },
 "nbformat": 4,
 "nbformat_minor": 5
}
