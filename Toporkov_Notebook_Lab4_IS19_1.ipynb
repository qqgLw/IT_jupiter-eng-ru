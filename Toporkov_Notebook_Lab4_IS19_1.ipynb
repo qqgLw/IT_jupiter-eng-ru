{
 "cells": [
  {
   "cell_type": "markdown",
   "metadata": {},
   "source": [
    "# Notebook on Information Technologies\n",
    "**by st. Toporkov A.P., IS-19-1 group**\\\n",
    "**2021**"
   ]
  },
  {
   "cell_type": "markdown",
   "metadata": {},
   "source": [
    "## Example of function declarataion"
   ]
  },
  {
   "cell_type": "code",
   "execution_count": 1,
   "metadata": {},
   "outputs": [
    {
     "data": {
      "text/plain": [
       "8.0"
      ]
     },
     "execution_count": 1,
     "metadata": {},
     "output_type": "execute_result"
    }
   ],
   "source": [
    "from math import sqrt # 'sqrt' function from math module that we've used before\n",
    "sqrt(25)+sqrt(9) # function call example"
   ]
  },
  {
   "cell_type": "markdown",
   "metadata": {},
   "source": [
    "Let's take a factorial as an example. Recall that a fatcorial from a natural number n is the product of all natural numbers (starting from 1) to n:\n",
    "$$factorial(n)=1*2*...*n$$"
   ]
  },
  {
   "cell_type": "code",
   "execution_count": 2,
   "metadata": {},
   "outputs": [],
   "source": [
    "\"\"\"\n",
    "Function in programming are similar to what we have in mathematics expect some nuances.\n",
    "For demonstrating a function declaration principle let's write a factorial calculating function:\n",
    "\"\"\"\n",
    "\n",
    "def factorial(n): #declarating a function named 'factorial' with the following parameters: 'n'\n",
    "    f=1 # initial value for factorial\n",
    "    for i in range (2,n+1): #defining next multipliccator for factorial numer in for loop\n",
    "        # i can take values for 2 to value of n\n",
    "        f*=i # multiply factorial number with defined element \n",
    "    return f"
   ]
  },
  {
   "cell_type": "code",
   "execution_count": 3,
   "metadata": {},
   "outputs": [
    {
     "data": {
      "text/plain": [
       "840"
      ]
     },
     "execution_count": 3,
     "metadata": {},
     "output_type": "execute_result"
    }
   ],
   "source": [
    "factorial(6) # now factorial function can be called with passed parameters\n",
    "factorial(5) + factorial(6) #functions can be used in complex expressionss"
   ]
  },
  {
   "cell_type": "markdown",
   "metadata": {},
   "source": [
    "Let's see what happens when we calling an factorial(6) expression:\n",
    "\n",
    "```\n",
    "def factorial(n): #firstly, python looks for function signature\n",
    "    #then, python looks for an arguments and compares argument signature with its specified value\n",
    "    #in result, in  a function body will be operated following implicit statement: \"n = 6\"\n",
    "    #after that, other statements from *function body* will be operated\n",
    "    f=1 # initial value for factorial\n",
    "    for i in range (2,n+1): #defining next multipliccator for factorial numer in for loop\n",
    "        # i can take values for 2 to value of n\n",
    "        f*=i # multiply factorial number with defined element \n",
    "    return f #this line will exits a function and tells Python to run the rest of the main program\n",
    "    #ending function call\n",
    "    #the value of called function in main program in this case will be 24\n",
    "```"
   ]
  },
  {
   "cell_type": "markdown",
   "metadata": {},
   "source": [
    "## Return values"
   ]
  },
  {
   "cell_type": "code",
   "execution_count": 4,
   "metadata": {},
   "outputs": [
    {
     "data": {
      "text/plain": [
       "'Hello, World!'"
      ]
     },
     "execution_count": 4,
     "metadata": {},
     "output_type": "execute_result"
    }
   ],
   "source": [
    "\"Let's define difference between return value and side effects in a following example:\"\n",
    "\n",
    "def hello(name): #declarating a function that greet the user\n",
    "    return \"Hello, \"+name+\"!\" #return value if a string that contains passed argument\n",
    "\n",
    "s= hello(\"World\") \n",
    "s #s contains result of execution of 'hello' function with name=\"World\" passed argument"
   ]
  },
  {
   "cell_type": "code",
   "execution_count": 5,
   "metadata": {},
   "outputs": [
    {
     "name": "stdout",
     "output_type": "stream",
     "text": [
      "Hello, Harry!\n",
      "None\n"
     ]
    }
   ],
   "source": [
    "def say_hello(name): #declarating a function prints a string, not returns\n",
    "    print(\"Hello, \"+name+\"!\") #we're missing return command, so Python will exits in main program after execution of last line of function body\n",
    "\n",
    "s=say_hello(\"Harry\") #execution of this line will still print a string. This is what is called a side effect of executing say_hello function\n",
    "s #function above does not have any return value, so the s output will be a type of None \n",
    "print(s) #this line will print nothing"
   ]
  },
  {
   "cell_type": "markdown",
   "metadata": {},
   "source": [
    "## More complex function use cases"
   ]
  },
  {
   "cell_type": "code",
   "execution_count": 6,
   "metadata": {},
   "outputs": [
    {
     "name": "stdout",
     "output_type": "stream",
     "text": [
      "Hello, Harry!\n"
     ]
    }
   ],
   "source": [
    "\"\"\"We can use nested functions. \n",
    "For example, instead of copying output string from 'hello()' in 'say_hello()', just call hello() in say_hello():\"\"\"\n",
    "def new_say_hello(name):\n",
    "    print(hello(name)) #the name argument from function signature will pass in a arguments of nested function\n",
    "\n",
    "new_say_hello(\"Harry\") #usage of nested functions can spare us from unnecessary copying operations"
   ]
  },
  {
   "cell_type": "markdown",
   "metadata": {},
   "source": [
    "For example, let's write a function that calculates binomial coefficients. Recall\n",
    "that the binomial coefficient $C_n^k$ is a number that shows how many ways k objects can be selected from n. According to the rules of combinatorics, the binomial coefficient can be calculated as follows: $$C_n^k=\\frac{n!}{k!(n-k)!}$$\n"
   ]
  },
  {
   "cell_type": "code",
   "execution_count": 7,
   "metadata": {},
   "outputs": [
    {
     "data": {
      "text/plain": [
       "3"
      ]
     },
     "execution_count": 7,
     "metadata": {},
     "output_type": "execute_result"
    }
   ],
   "source": [
    "#Let's write a function that calculates the binomial coefficient. \n",
    "# For this, we can use the written earlier 'factorial' function:\n",
    "\n",
    "def binom(k, n):#let's write a docstring to the following function:\n",
    " \"\"\"\n",
    " calculates binomial coeffs: k from n\n",
    " k, n are integers\n",
    " retuns C_n^k\n",
    " \"\"\"\n",
    " return factorial(n)//(factorial(k)*factorial(n-k)) #we use integer division because the result of integer type will be guaranteed \n",
    "\n",
    "binom(2,3) #How many ways can you choose two sentinels from three participants of the trip? (the answer is three)"
   ]
  },
  {
   "cell_type": "code",
   "execution_count": 8,
   "metadata": {},
   "outputs": [
    {
     "name": "stdout",
     "output_type": "stream",
     "text": [
      "New my_abs\n"
     ]
    },
    {
     "data": {
      "text/plain": [
       "6"
      ]
     },
     "execution_count": 8,
     "metadata": {},
     "output_type": "execute_result"
    }
   ],
   "source": [
    "def my_abs(x):\n",
    " \"\"\"\n",
    " calculates the modulus of a number.\n",
    " If number is negative, return it inversed, else return it without changes\n",
    " \"\"\"\n",
    " if x > 0:\n",
    "    return x # after 'return', the function will be stopped\n",
    " else:\n",
    "    return -x\n",
    "\n",
    "my_abs(-5) \n",
    "\n",
    "def my_abs(x):\n",
    " # If a function with this name already existed, Python will forget about it and write a new function instead\n",
    " print(\"New my_abs\") # to make it sure, we will put this print\n",
    " if x > 0: #if number is positive, 'return x' will be called\n",
    "    return x # execution of function will be stopped right there\n",
    " return -x # when we got negative number, previous lines will be omitted because of 'if' operator \n",
    "\n",
    "my_abs(-6)\n"
   ]
  },
  {
   "cell_type": "markdown",
   "metadata": {},
   "source": [
    "## Local and global variables"
   ]
  },
  {
   "cell_type": "code",
   "execution_count": 9,
   "metadata": {},
   "outputs": [],
   "source": [
    "%load_ext tutormagic"
   ]
  },
  {
   "cell_type": "code",
   "execution_count": 10,
   "metadata": {},
   "outputs": [
    {
     "name": "stdout",
     "output_type": "stream",
     "text": [
      "10\n",
      "In the function, f = 40320\n",
      "40320\n",
      "Out of function\n",
      "10\n"
     ]
    }
   ],
   "source": [
    "\"\"\"Different variables can be created and used within a function. \n",
    "So, to ensure that this does not create problems, \n",
    "the variables defined inside the function are not visible from the outside. \n",
    "Let's look at an example:\n",
    "\"\"\"\n",
    "f = 10 # initialize uot of function variable\n",
    "def factorial(n): \n",
    " f = 1 # variable, defined inside the function\n",
    " for i in range(2, n+1):\n",
    "    f = f * i # change its value inside for-loop\n",
    " print(\"In the function, f =\", f) # console ouput, nested in function\n",
    " return f\n",
    "print(f) # print initial value\n",
    "print(factorial(8)) # print inner variable mutation and result of function execution\n",
    "print(\"Out of function\")\n",
    "print(f) # out of function value has not been changed\n"
   ]
  },
  {
   "cell_type": "code",
   "execution_count": 11,
   "metadata": {},
   "outputs": [
    {
     "data": {
      "text/html": [
       "\n",
       "        <iframe\n",
       "            width=\"100%\"\n",
       "            height=\"350\"\n",
       "            src=\"http://pythontutor.com/iframe-embed.html#code=f%20%3D%2010%0Adef%20factorial%28n%29%3A%0A%20f%20%3D%201%0A%20for%20i%20in%20range%282%2C%20n%2B1%29%3A%0A%20%20%20%20f%20%3D%20f%20%2A%20i%0A%20print%28%22In%20the%20function%2C%20f%20%3D%22%2C%20f%29%0A%20return%20f%0Aprint%28f%29%0Aprint%28factorial%288%29%29%0Aprint%28%22Out%20of%20function%22%29%0Aprint%28f%29%0A&origin=opt-frontend.js&cumulative=false&heapPrimitives=false&textReferences=false&curInstr=0&&verticalStack=false&py=3&rawInputLstJSON=%5B%5D&codeDivWidth=50%25&codeDivHeight=100%25\"\n",
       "            frameborder=\"0\"\n",
       "            allowfullscreen\n",
       "            \n",
       "        ></iframe>\n",
       "        "
      ],
      "text/plain": [
       "<IPython.lib.display.IFrame at 0x1f7d23a37f0>"
      ]
     },
     "metadata": {},
     "output_type": "display_data"
    }
   ],
   "source": [
    "%%tutor --lang python3 #Same code, runned in the tutormagic visualizer:\n",
    "f = 10\n",
    "def factorial(n):\n",
    " f = 1\n",
    " for i in range(2, n+1):\n",
    "    f = f * i\n",
    " print(\"In the function, f =\", f)\n",
    " return f\n",
    "print(f)\n",
    "print(factorial(8))\n",
    "print(\"Out of function\")\n",
    "print(f)"
   ]
  },
  {
   "cell_type": "markdown",
   "metadata": {},
   "source": [
    "As we can see from the result of executing this code, the variable `f` in the main program and the variable `f` inside a function are completely different variables (the `pythontutor` visualizer draws them in different *frames*). If we somehow change `f` inside the function, the value of `f` outside of it would not change, and vice versa. This is very convenient: if a function changed the value of an \"external\" variable, it could do it accidentally and this would lead to an unpredictable consequences."
   ]
  },
  {
   "cell_type": "code",
   "execution_count": 12,
   "metadata": {},
   "outputs": [
    {
     "name": "stdout",
     "output_type": "stream",
     "text": [
      "Привет, Ivan\n",
      "Hello, Ivan\n"
     ]
    }
   ],
   "source": [
    "\n",
    "def hello_i18n(name, lang):\n",
    "    \"\"\"Let's say we want to write a function that will greet the user using the language, \n",
    "        specified by him in the settings. \n",
    "    It could look like this:\n",
    "    \"\"\"\n",
    "    if lang == 'ru': # We are comparing value of \"lang\" to 'ru'\n",
    "        print(\"Привет,\",name) # And we are returning strings in different languages based on the result of a comparison\n",
    "    else:\n",
    "        print(\"Hello,\",name)\n",
    "\n",
    "hello_i18n(\"Ivan\", 'ru') # It now works it russian\n",
    "hello_i18n(\"Ivan\", 'en') # And it also works in english"
   ]
  },
  {
   "cell_type": "code",
   "execution_count": 13,
   "metadata": {},
   "outputs": [
    {
     "name": "stdout",
     "output_type": "stream",
     "text": [
      "Hello world\n",
      "Привет, Ivan\n",
      "Hello, John\n"
     ]
    }
   ],
   "source": [
    "def hello_i18n(name): # Note that this function now has 1 argument\n",
    "    \"\"\"\n",
    "    There can be a lot of functions that need to know which language is selected, \n",
    "    and it is quite painful to manually pass them the value\n",
    "    of the `lang` variable by a separate parameter.\n",
    "    This can be avoided by using global variables:\n",
    "    \"\"\"\n",
    "    if lang == 'ru': # But we still try to compare \"lang\" variable\n",
    "        print(\"Привет,\",name)\n",
    "    else:\n",
    "        print(\"Hello,\",name)\n",
    " \n",
    "lang = 'ru' # And to make sure that there is something to compare, we define \"lang\" outside of a function\n",
    "print(\"Hello world\")\n",
    "hello_i18n('Ivan') # And now we are calling each function with only one argument\n",
    "lang = 'en' # But we are changing the language using global \"lang\" variable, which is available in each function\n",
    "hello_i18n('John') # the behavior of the function depends on what the global `lang` variable is equal to"
   ]
  },
  {
   "cell_type": "code",
   "execution_count": 14,
   "metadata": {},
   "outputs": [
    {
     "ename": "UnboundLocalError",
     "evalue": "local variable 'f' referenced before assignment",
     "output_type": "error",
     "traceback": [
      "\u001b[1;31m---------------------------------------------------------------------------\u001b[0m",
      "\u001b[1;31mUnboundLocalError\u001b[0m                         Traceback (most recent call last)",
      "\u001b[1;32m~\\AppData\\Local\\Temp/ipykernel_24736/1675047235.py\u001b[0m in \u001b[0;36m<module>\u001b[1;34m\u001b[0m\n\u001b[0;32m      8\u001b[0m     \u001b[1;32mreturn\u001b[0m \u001b[0mf\u001b[0m\u001b[1;33m\u001b[0m\u001b[1;33m\u001b[0m\u001b[0m\n\u001b[0;32m      9\u001b[0m \u001b[1;33m\u001b[0m\u001b[0m\n\u001b[1;32m---> 10\u001b[1;33m \u001b[0mfactorial\u001b[0m\u001b[1;33m(\u001b[0m\u001b[1;36m2\u001b[0m\u001b[1;33m)\u001b[0m \u001b[1;31m# Let's try to run this function\u001b[0m\u001b[1;33m\u001b[0m\u001b[1;33m\u001b[0m\u001b[0m\n\u001b[0m",
      "\u001b[1;32m~\\AppData\\Local\\Temp/ipykernel_24736/1675047235.py\u001b[0m in \u001b[0;36mfactorial\u001b[1;34m(n)\u001b[0m\n\u001b[0;32m      1\u001b[0m \u001b[1;31m# Is it possible to refer to the variable 'f' in factorial() function before we put the number 1 in i?\u001b[0m\u001b[1;33m\u001b[0m\u001b[1;33m\u001b[0m\u001b[0m\n\u001b[0;32m      2\u001b[0m \u001b[1;32mdef\u001b[0m \u001b[0mfactorial\u001b[0m\u001b[1;33m(\u001b[0m\u001b[0mn\u001b[0m\u001b[1;33m)\u001b[0m\u001b[1;33m:\u001b[0m\u001b[1;33m\u001b[0m\u001b[1;33m\u001b[0m\u001b[0m\n\u001b[1;32m----> 3\u001b[1;33m     \u001b[0mprint\u001b[0m\u001b[1;33m(\u001b[0m\u001b[1;34m\"In the function, before assignment, f =\"\u001b[0m\u001b[1;33m,\u001b[0m \u001b[0mf\u001b[0m\u001b[1;33m)\u001b[0m \u001b[1;31m# Now we try to access variable outside of a function\u001b[0m\u001b[1;33m\u001b[0m\u001b[1;33m\u001b[0m\u001b[0m\n\u001b[0m\u001b[0;32m      4\u001b[0m     \u001b[0mf\u001b[0m \u001b[1;33m=\u001b[0m \u001b[1;36m1\u001b[0m \u001b[1;31m# And then we are trying to assign it\u001b[0m\u001b[1;33m\u001b[0m\u001b[1;33m\u001b[0m\u001b[0m\n\u001b[0;32m      5\u001b[0m     \u001b[1;32mfor\u001b[0m \u001b[0mi\u001b[0m \u001b[1;32min\u001b[0m \u001b[0mrange\u001b[0m\u001b[1;33m(\u001b[0m\u001b[1;36m2\u001b[0m\u001b[1;33m,\u001b[0m \u001b[0mn\u001b[0m\u001b[1;33m+\u001b[0m\u001b[1;36m1\u001b[0m\u001b[1;33m)\u001b[0m\u001b[1;33m:\u001b[0m\u001b[1;33m\u001b[0m\u001b[1;33m\u001b[0m\u001b[0m\n",
      "\u001b[1;31mUnboundLocalError\u001b[0m: local variable 'f' referenced before assignment"
     ]
    }
   ],
   "source": [
    "# Is it possible to refer to the variable 'f' in factorial() function before we put the number 1 in i?\n",
    "def factorial(n):\n",
    "    print(\"In the function, before assignment, f =\", f) # Now we try to access variable outside of a function\n",
    "    f = 1 # And then we are trying to assign it\n",
    "    for i in range(2, n+1):\n",
    "        f = f * i\n",
    "    print(\"In the function, f =\", f)\n",
    "    return f\n",
    "\n",
    "factorial(2) # Let's try to run this function"
   ]
  },
  {
   "cell_type": "markdown",
   "metadata": {},
   "source": [
    "In this case, Python throws an error: local variable 'f' referenced before assignment. What is the difference between this code and the previous one?\n",
    "\n",
    "Before executing a function, Python analyzes its code and determines which of the variables is local and which is global. As global variables, by default, are those that do not change in the body of the function. In other words, by default, global variables are read-only and not for modification from within the function.\n",
    "\n",
    "A situation in which a function modifies a global variable is usually not very desirable: functions must be isolated from the code that runs them, otherwise you will quickly stop understanding what your program is doing."
   ]
  },
  {
   "cell_type": "code",
   "execution_count": 15,
   "metadata": {},
   "outputs": [],
   "source": [
    "\"\"\"\n",
    "However, sometimes modification of global variables is necessary. \n",
    "For example, we want to write a function that will set the value of the user's language. \n",
    "It may look something like this:\n",
    "\"\"\"\n",
    "\n",
    "def set_lang():\n",
    "    useRussian = input(\"Would you like to speak Russian (Y/N): \") # Now we are printing simple prompt to select language\n",
    "    if useRussian == 'Y':\n",
    "        lang = 'ru' # As before we are trying to assign global variable inside of a function\n",
    "    else:\n",
    "        lang = 'en' # lang variable is not accessed"
   ]
  },
  {
   "cell_type": "code",
   "execution_count": 16,
   "metadata": {},
   "outputs": [
    {
     "name": "stdout",
     "output_type": "stream",
     "text": [
      "en\n",
      "en\n"
     ]
    }
   ],
   "source": [
    "lang = 'en'\n",
    "print(lang)\n",
    "set_lang() # We are calling our function\n",
    "print(lang) # And we are printing what is inside of a \"lang\" variable. In fact, value has not been changed"
   ]
  },
  {
   "cell_type": "code",
   "execution_count": 17,
   "metadata": {},
   "outputs": [
    {
     "name": "stdout",
     "output_type": "stream",
     "text": [
      "en\n",
      "ru\n"
     ]
    }
   ],
   "source": [
    "\"\"\"\n",
    "Previous example didn't work.\n",
    "In order for the `set_lang` function to be able to change the value of the `lang` variable, \n",
    "it must be explicitly declared as global using the `global` keyword:\n",
    "\"\"\"\n",
    "def set_lang():\n",
    "    global lang # Note that we are using global keyword for it to know that we want to be able to modify global variables\n",
    "    useRussian = input(\"Would you like to speak Russian (Y/N): \")\n",
    "    if useRussian == 'Y':\n",
    "        lang = 'ru'\n",
    "    else:\n",
    "        lang = 'en'\n",
    "lang = 'en'\n",
    "print(lang)\n",
    "set_lang() # Let's check this again\n",
    "print(lang) # Everything works!"
   ]
  },
  {
   "cell_type": "markdown",
   "metadata": {},
   "source": [
    "## Passing arguments"
   ]
  },
  {
   "cell_type": "code",
   "execution_count": 18,
   "metadata": {},
   "outputs": [
    {
     "name": "stdout",
     "output_type": "stream",
     "text": [
      "Hello Mr. Potter\n"
     ]
    },
    {
     "ename": "TypeError",
     "evalue": "hello() missing 1 required positional argument: 'title'",
     "output_type": "error",
     "traceback": [
      "\u001b[1;31m---------------------------------------------------------------------------\u001b[0m",
      "\u001b[1;31mTypeError\u001b[0m                                 Traceback (most recent call last)",
      "\u001b[1;32m~\\AppData\\Local\\Temp/ipykernel_24736/4163872194.py\u001b[0m in \u001b[0;36m<module>\u001b[1;34m\u001b[0m\n\u001b[0;32m      4\u001b[0m \u001b[0mhello\u001b[0m\u001b[1;33m(\u001b[0m\u001b[1;34m\"Potter\"\u001b[0m\u001b[1;33m,\u001b[0m \u001b[1;34m\"Mr.\"\u001b[0m\u001b[1;33m)\u001b[0m \u001b[1;31m# And we are passing every argument to it\u001b[0m\u001b[1;33m\u001b[0m\u001b[1;33m\u001b[0m\u001b[0m\n\u001b[0;32m      5\u001b[0m \u001b[1;34m\"In some cases, we want some arguments to be omitted:\"\u001b[0m\u001b[1;33m\u001b[0m\u001b[1;33m\u001b[0m\u001b[0m\n\u001b[1;32m----> 6\u001b[1;33m \u001b[0mhello\u001b[0m\u001b[1;33m(\u001b[0m\u001b[1;34m\"Harry\"\u001b[0m\u001b[1;33m)\u001b[0m \u001b[1;31m# And now we try to pass only one argument. In result, an error will be given\u001b[0m\u001b[1;33m\u001b[0m\u001b[1;33m\u001b[0m\u001b[0m\n\u001b[0m",
      "\u001b[1;31mTypeError\u001b[0m: hello() missing 1 required positional argument: 'title'"
     ]
    }
   ],
   "source": [
    "\"There are different ways to pass arguments to a function. We are already familiar with one of them:\"\n",
    "def hello(name, title): # We are passing arguments to a function just by writing them separated by commas\n",
    "    print(\"Hello\", title, name)\n",
    "hello(\"Potter\", \"Mr.\") # And we are passing every argument to it\n",
    "\"In some cases, we want some arguments to be omitted:\"\n",
    "hello(\"Harry\") # And now we try to pass only one argument. In result, an error will be given"
   ]
  },
  {
   "cell_type": "code",
   "execution_count": 19,
   "metadata": {},
   "outputs": [
    {
     "name": "stdout",
     "output_type": "stream",
     "text": [
      "Hello  Harry\n",
      "Hello Mrs. Smith\n",
      "Hello Mr. Smith\n",
      "Hello Mr. Smith\n",
      "Hello Mr. Smith\n"
     ]
    }
   ],
   "source": [
    "\"\"\"\n",
    "'title' argument is undefined so it cannot be used in function\n",
    "To overcome this error, default values can be used:\n",
    "\"\"\"\n",
    "\n",
    "def hello(name, title=\"\"): # We can use assign defaul values to a function argument so it can have some value if the argument was not passed\n",
    "    print(\"Hello\", title, name)\n",
    "hello(\"Harry\") # And we are trying again to call the function with one argument\n",
    "\n",
    "hello(\"Smith\", \"Mrs.\") # Calling the function with 2 arguments is still possible\n",
    "\n",
    "#Arguments can be passed by specifying their names:\n",
    "hello(\"Smith\", title = \"Mr.\") # We can also pass the arguments directly specifying their names so we can pass them in any order we want\n",
    "\n",
    "hello(name = \"Smith\", title= \"Mr.\") # Passing every argument by their name\n",
    "\n",
    "hello(title= \"Mr.\", name = \"Smith\") # Order of passing arguments would not be important"
   ]
  },
  {
   "cell_type": "code",
   "execution_count": 20,
   "metadata": {},
   "outputs": [
    {
     "name": "stdout",
     "output_type": "stream",
     "text": [
      "8 7 5 hello 8\n"
     ]
    }
   ],
   "source": [
    "\"There are also functions that take an unlimited number of arguments. For example, this is how the `print()` function behaves.\"\n",
    "print(8, 7, 5, 'hello', 8) # We can pass unlimited number of arguments to print()"
   ]
  },
  {
   "cell_type": "code",
   "execution_count": 21,
   "metadata": {},
   "outputs": [
    {
     "name": "stdout",
     "output_type": "stream",
     "text": [
      "(1, 2, 3, 'hello')\n"
     ]
    }
   ],
   "source": [
    "def test(*args): #the asterisk before args in the function signature defines that args now contains a tuple consisting of the passed elements\n",
    "    \"\"\"Define a function with a similar pattern of passing an arguments as the print function haves\"\"\"\n",
    "    print(args) # Here we are printing all the arguments at once\n",
    "test(1,2,3, 'hello') # And as we can see it is not a list, but a tuple (because of parenthesis)"
   ]
  },
  {
   "cell_type": "markdown",
   "metadata": {},
   "source": [
    "## Tuples"
   ]
  },
  {
   "cell_type": "code",
   "execution_count": 22,
   "metadata": {},
   "outputs": [
    {
     "name": "stdout",
     "output_type": "stream",
     "text": [
      "3\n",
      "(2, 3)\n"
     ]
    }
   ],
   "source": [
    "\"\"\"\n",
    "A tuple is almost the same as a list, only its elements are immutable.\n",
    "It is indicated by parentheses.\n",
    "\"\"\"\n",
    "t = (2,3, 5, 1) # We can declare tuples the same way we declare list, but using parenthesis\n",
    "print(t[1]) # We can also access exact element of the tuple\n",
    "print(t[0:2]) # And we can even use slices on tuple"
   ]
  },
  {
   "cell_type": "code",
   "execution_count": 23,
   "metadata": {},
   "outputs": [
    {
     "name": "stdout",
     "output_type": "stream",
     "text": [
      "2\n",
      "3\n",
      "5\n",
      "1\n"
     ]
    }
   ],
   "source": [
    "for x in t: # We can iterate through tuples\n",
    "    print(x)"
   ]
  },
  {
   "cell_type": "code",
   "execution_count": 24,
   "metadata": {},
   "outputs": [
    {
     "ename": "TypeError",
     "evalue": "'tuple' object does not support item assignment",
     "output_type": "error",
     "traceback": [
      "\u001b[1;31m---------------------------------------------------------------------------\u001b[0m",
      "\u001b[1;31mTypeError\u001b[0m                                 Traceback (most recent call last)",
      "\u001b[1;32m~\\AppData\\Local\\Temp/ipykernel_24736/853730713.py\u001b[0m in \u001b[0;36m<module>\u001b[1;34m\u001b[0m\n\u001b[1;32m----> 1\u001b[1;33m \u001b[0mt\u001b[0m\u001b[1;33m[\u001b[0m\u001b[1;36m0\u001b[0m\u001b[1;33m]\u001b[0m \u001b[1;33m=\u001b[0m \u001b[1;36m10\u001b[0m \u001b[1;31m# We can not change the tuple\u001b[0m\u001b[1;33m\u001b[0m\u001b[1;33m\u001b[0m\u001b[0m\n\u001b[0m",
      "\u001b[1;31mTypeError\u001b[0m: 'tuple' object does not support item assignment"
     ]
    }
   ],
   "source": [
    "t[0] = 10 # We can not change the tuple"
   ]
  },
  {
   "cell_type": "code",
   "execution_count": 25,
   "metadata": {},
   "outputs": [
    {
     "ename": "AttributeError",
     "evalue": "'tuple' object has no attribute 'append'",
     "output_type": "error",
     "traceback": [
      "\u001b[1;31m---------------------------------------------------------------------------\u001b[0m",
      "\u001b[1;31mAttributeError\u001b[0m                            Traceback (most recent call last)",
      "\u001b[1;32m~\\AppData\\Local\\Temp/ipykernel_24736/3734501678.py\u001b[0m in \u001b[0;36m<module>\u001b[1;34m\u001b[0m\n\u001b[1;32m----> 1\u001b[1;33m \u001b[0mt\u001b[0m\u001b[1;33m.\u001b[0m\u001b[0mappend\u001b[0m\u001b[1;33m(\u001b[0m\u001b[1;36m1\u001b[0m\u001b[1;33m)\u001b[0m \u001b[1;31m# Not this way either\u001b[0m\u001b[1;33m\u001b[0m\u001b[1;33m\u001b[0m\u001b[0m\n\u001b[0m",
      "\u001b[1;31mAttributeError\u001b[0m: 'tuple' object has no attribute 'append'"
     ]
    }
   ],
   "source": [
    "t.append(1) # Not this way either"
   ]
  },
  {
   "cell_type": "code",
   "execution_count": 26,
   "metadata": {},
   "outputs": [
    {
     "data": {
      "text/plain": [
       "(8, 1, 2, 3)"
      ]
     },
     "execution_count": 26,
     "metadata": {},
     "output_type": "execute_result"
    }
   ],
   "source": [
    "t = (8, 1, 2, 3) # But we still can redefine the variable\n",
    "t"
   ]
  },
  {
   "cell_type": "code",
   "execution_count": 27,
   "metadata": {},
   "outputs": [
    {
     "name": "stdout",
     "output_type": "stream",
     "text": [
      "[1, 2, 3]\n",
      "(1, 2, 3)\n"
     ]
    }
   ],
   "source": [
    "#Tuples and lists are interconvertible:\n",
    "print( list( (1, 2, 3) ) )\n",
    "print( tuple( [1, 2, 3] ) )"
   ]
  },
  {
   "cell_type": "markdown",
   "metadata": {},
   "source": [
    "## Again to the functions"
   ]
  },
  {
   "cell_type": "code",
   "execution_count": 28,
   "metadata": {},
   "outputs": [
    {
     "name": "stdout",
     "output_type": "stream",
     "text": [
      "(1, 2, 3)\n",
      "(1, 2, 3)\n"
     ]
    }
   ],
   "source": [
    "\"\"\"And yet let 's define the meaning of asterix in argument's section. \n",
    "As it seems, the asterisk in the signature is similar to adding additional brackets around the arguments.\"\"\"\n",
    "\n",
    "# Following two calls produce the same results:\n",
    "def test1(*args):\n",
    "    print(args)\n",
    "test1(1, 2, 3) # We just print our arguments and we can see that the are in a tuple\n",
    "def test2(args):\n",
    "    print(args) # Here we are printing the single argument\n",
    "test2( (1,2,3) ) # And we get the same result, because we passed tuple to the function"
   ]
  },
  {
   "cell_type": "code",
   "execution_count": 29,
   "metadata": {},
   "outputs": [
    {
     "name": "stdout",
     "output_type": "stream",
     "text": [
      "7----8----9----hello----"
     ]
    }
   ],
   "source": [
    "\"You can also combine list variables and regular variables (provided that there is only one variable with an asterisk):\"\n",
    "def my_print(sep, *args): # We can also use other parameters, but we can only have one with an asterisk\n",
    "    for x in args:\n",
    "        print(x, end = sep) # Here we are using sep as ending character for each print\n",
    "\n",
    "my_print('----', 7, 8, 9, 'hello')"
   ]
  }
 ],
 "metadata": {
  "interpreter": {
   "hash": "ed7457b2fbc1e5938d6b52aaab6d7e4f6bc93b0345f28e0e0c546b87a896ce98"
  },
  "kernelspec": {
   "display_name": "Python 3.9.7 64-bit",
   "name": "python3"
  },
  "language_info": {
   "codemirror_mode": {
    "name": "ipython",
    "version": 3
   },
   "file_extension": ".py",
   "mimetype": "text/x-python",
   "name": "python",
   "nbconvert_exporter": "python",
   "pygments_lexer": "ipython3",
   "version": "3.9.7"
  },
  "orig_nbformat": 4
 },
 "nbformat": 4,
 "nbformat_minor": 2
}
