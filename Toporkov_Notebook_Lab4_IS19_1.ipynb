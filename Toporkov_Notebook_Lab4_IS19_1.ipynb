{
 "cells": [
  {
   "cell_type": "markdown",
   "metadata": {},
   "source": [
    "# Notebook on Information Technologies\n",
    "**by st. Toporkov A.P., IS-19-1 group**\\\n",
    "**2021**"
   ]
  },
  {
   "cell_type": "markdown",
   "metadata": {},
   "source": [
    "## Example of function declarataion"
   ]
  },
  {
   "cell_type": "code",
   "execution_count": 15,
   "metadata": {},
   "outputs": [
    {
     "name": "stdout",
     "output_type": "stream",
     "text": [
      "hello world this is a\n",
      "test\n"
     ]
    },
    {
     "data": {
      "text/plain": [
       "['hello', 'world', 'this', 'is', 'a', 'test']"
      ]
     },
     "execution_count": 15,
     "metadata": {},
     "output_type": "execute_result"
    }
   ],
   "source": [
    "from math import sqrt # 'sqrt' function from math module that we've used before\n",
    "sqrt(25)+sqrt(9) # function call example"
   ]
  },
  {
   "cell_type": "code",
   "execution_count": 16,
   "metadata": {},
   "outputs": [
    {
     "name": "stdout",
     "output_type": "stream",
     "text": [
      "hello\n",
      "world\n",
      "this\n",
      "is\n",
      "a\n",
      "test\n"
     ]
    }
   ],
   "source": [
    "\"\"\"\n",
    "Function in programming are similar to what we have in mathematics expect some nuances.\n",
    "For demonstrating a function declaration principle let's write a factorial calculating function:\n",
    "\"\"\"\n",
    "\n",
    "def factorial(n): #declarating a function named 'factorial' with the following parameters: 'n'\n",
    "    f=1 # initial value for factorial\n",
    "    for i in range (2,n+1): #defining next multipliccator for factorial numer in for loop\n",
    "        # i can take values for 2 to value of n\n",
    "        f*=i # multiply factorial number with defined element \n",
    "    return f"
   ]
  },
  {
   "cell_type": "code",
   "execution_count": 17,
   "metadata": {},
   "outputs": [
    {
     "data": {
      "text/plain": [
       "['hello world this is a\\ntest']"
      ]
     },
     "execution_count": 17,
     "metadata": {},
     "output_type": "execute_result"
    }
   ],
   "source": [
    "factorial(6) # now factorial function can be called with passed parameters\n",
    "factorial(5) + factorial(6) #functions can be used in complex expressionss"
   ]
  },
  {
   "cell_type": "markdown",
   "metadata": {},
   "source": [
    "Let's see what happens when we calling an factorial(6) expression:\n",
    "\n",
    "```\n",
    "def factorial(n): #firstly, python looks for function signature\n",
    "    #then, python looks for an arguments and compares argument signature with its specified value\n",
    "    #in result, in  a function body will be operated following implicit statement: \"n = 6\"\n",
    "    #after that, other statements from *function body* will be operated\n",
    "    f=1 # initial value for factorial\n",
    "    for i in range (2,n+1): #defining next multipliccator for factorial numer in for loop\n",
    "        # i can take values for 2 to value of n\n",
    "        f*=i # multiply factorial number with defined element \n",
    "    return f #this line will exits a function and tells Python to run the rest of the main program\n",
    "    #ending function call\n",
    "    #the value of called function in main program in this case will be 24\n",
    "```"
   ]
  },
  {
   "cell_type": "markdown",
   "metadata": {},
   "source": [
    "## Return values"
   ]
  },
  {
   "cell_type": "code",
   "execution_count": null,
   "metadata": {},
   "outputs": [
    {
     "name": "stdout",
     "output_type": "stream",
     "text": [
      "2\n"
     ]
    }
   ],
   "source": [
    "\"Let's define difference between return value and side effects in a following example:\"\n",
    "\n",
    "def hello(name): #declarating a function that greet the user\n",
    "    return \"Hello, \"+name+\"!\" #return value if a string that contains passed argument\n",
    "\n",
    "s= hello(\"World\") \n",
    "s #s contains result of execution of 'hello' function with name=\"World\" passed argument"
   ]
  },
  {
   "cell_type": "code",
   "execution_count": null,
   "metadata": {},
   "outputs": [],
   "source": [
    "def say_hello(name): #declarating a function prints a string, not returns\n",
    "    print(\"Hello, \"+name+\"!\") #we're missing return command, so Python will exits in main program after execution of last line of function body\n",
    "\n",
    "s=say_hello(\"Harry\") #execution of this line will still print a string. This is what is called a side effect of executing say_hello function\n",
    "s #function above does not have any return value, so the s output will be a type of None \n",
    "print(s) #this line will print nothing"
   ]
  },
  {
   "cell_type": "markdown",
   "metadata": {},
   "source": [
    "## TODO"
   ]
  },
  {
   "cell_type": "code",
   "execution_count": null,
   "metadata": {},
   "outputs": [
    {
     "data": {
      "text/plain": [
       "True"
      ]
     },
     "execution_count": 42,
     "metadata": {},
     "output_type": "execute_result"
    }
   ],
   "source": [
    "6 < 8 ##statements in Python"
   ]
  },
  {
   "cell_type": "code",
   "execution_count": null,
   "metadata": {},
   "outputs": [
    {
     "data": {
      "text/plain": [
       "True"
      ]
     },
     "execution_count": 44,
     "metadata": {},
     "output_type": "execute_result"
    }
   ],
   "source": [
    "\"\"\"\n",
    "We can write result of statement into variable\n",
    "\"\"\"\n",
    "\n",
    "condition = 6 < 8\n",
    "condition"
   ]
  },
  {
   "cell_type": "code",
   "execution_count": null,
   "metadata": {},
   "outputs": [
    {
     "data": {
      "text/plain": [
       "bool"
      ]
     },
     "execution_count": 45,
     "metadata": {},
     "output_type": "execute_result"
    }
   ],
   "source": [
    "type(condition) ##the type of this comdition variable is Boolean (bool)\n"
   ]
  },
  {
   "cell_type": "code",
   "execution_count": null,
   "metadata": {},
   "outputs": [
    {
     "data": {
      "text/plain": [
       "True"
      ]
     },
     "execution_count": 46,
     "metadata": {},
     "output_type": "execute_result"
    }
   ],
   "source": [
    "7 == 7 #we can also compare of 2 numbers\n"
   ]
  },
  {
   "cell_type": "code",
   "execution_count": null,
   "metadata": {},
   "outputs": [
    {
     "data": {
      "text/plain": [
       "False"
      ]
     },
     "execution_count": 47,
     "metadata": {},
     "output_type": "execute_result"
    }
   ],
   "source": [
    "\"\"\"\n",
    "Do not be confused by simillar syntax: assignment and comparing operators are different\n",
    "For example assignment operator does not return anything\n",
    "\"\"\"\n",
    "\n",
    "a = 5 #assigment operator\n",
    "a = 7\n",
    "a == 5 # compare a value to 5 value"
   ]
  },
  {
   "cell_type": "code",
   "execution_count": null,
   "metadata": {},
   "outputs": [
    {
     "data": {
      "text/plain": [
       "True"
      ]
     },
     "execution_count": 48,
     "metadata": {},
     "output_type": "execute_result"
    }
   ],
   "source": [
    "\"\"\"\n",
    "Also comparing int type to the float type will convert float type to the int=\n",
    "\"\"\"\n",
    "\n",
    "7 == 7.0 # comparing int type to the float type"
   ]
  },
  {
   "cell_type": "markdown",
   "metadata": {},
   "source": [
    "## If operator"
   ]
  },
  {
   "cell_type": "code",
   "execution_count": 19,
   "metadata": {},
   "outputs": [
    {
     "name": "stdout",
     "output_type": "stream",
     "text": [
      "Your number 44\n"
     ]
    }
   ],
   "source": [
    "a = int(input(\"Input positive number: \"))\n",
    "if a < 0: # after if statement we write condition and then place column symbol and if if statement is true, then it will run code inside\n",
    "    # if our statement is fale, then it will run ELSE block code\n",
    "    print(\"Error!\")\n",
    "    print(\"Number is not positive!\")\n",
    "print(\"Your number\", a)\n"
   ]
  },
  {
   "cell_type": "code",
   "execution_count": null,
   "metadata": {},
   "outputs": [
    {
     "name": "stdout",
     "output_type": "stream",
     "text": [
      "Error!\n",
      "Number is not positive!\n",
      "Your number -1\n"
     ]
    }
   ],
   "source": [
    "a = int(input(\"Input positive number: \"))\n",
    "if a < 0: # if true\n",
    "    print(\"Error!\")\n",
    "    print(\"Number is not positive!\")\n",
    "else: # if false\n",
    "    print(\"Good!\")\n",
    "    print(\"This is positive!\")\n",
    "print(\"Your number\", a)"
   ]
  },
  {
   "cell_type": "code",
   "execution_count": null,
   "metadata": {},
   "outputs": [
    {
     "name": "stdout",
     "output_type": "stream",
     "text": [
      "Number is big\n"
     ]
    }
   ],
   "source": [
    "\"\"\"\n",
    "You can stack if-else statements to check multiple conditions\n",
    "\"\"\"\n",
    "\n",
    "a = int(input(\"Input positive number: \")) # input number\n",
    "if a > 100: # if true\n",
    " print(\"Number is very big\")\n",
    "elif a > 10: # second condition\n",
    " print(\"Number is big\")\n",
    "else: # if false\n",
    " print(\"Number is small\")"
   ]
  },
  {
   "cell_type": "markdown",
   "metadata": {},
   "source": [
    "## Complex statements"
   ]
  },
  {
   "cell_type": "code",
   "execution_count": null,
   "metadata": {},
   "outputs": [
    {
     "name": "stdout",
     "output_type": "stream",
     "text": [
      "I like your number\n"
     ]
    }
   ],
   "source": [
    "\"\"\"\n",
    "If we need to check mulptile statements we can write it like this\n",
    "\"\"\"\n",
    "\n",
    "a = int(input(\"Input number from 0 to 100: \"))\n",
    "if a <= 100: # if true\n",
    "    if a >= 0: # if true\n",
    "        print(\"I like your number\")\n",
    "    else: # if false\n",
    "        print(\"Error\")\n",
    "else: # if false\n",
    "    print(\"Error\")"
   ]
  },
  {
   "cell_type": "code",
   "execution_count": null,
   "metadata": {},
   "outputs": [],
   "source": [
    "\"\"\"\n",
    "But there is more clean and easy way to write it with AND operator\n",
    "\"\"\"\n",
    "\n",
    "a = int(input(\"Input number from 0 to 100: \")) # input number\n",
    "if a <= 100 and a >= 0: # check 2 statements for true value\n",
    "    print(\"I like your number\")\n",
    "else: # if false\n",
    "    print(\"Error\")"
   ]
  },
  {
   "cell_type": "code",
   "execution_count": null,
   "metadata": {},
   "outputs": [],
   "source": [
    "\"\"\"\n",
    "We can experiment with NOT, OR and AND operators and get the same logic\n",
    "\"\"\"\n",
    "\n",
    "a = int(input(\"Input number from 0 to 100: \")) # input number\n",
    "if not (a <= 100 and a >= 0): # if a is not smaller than 100 and bigger than 0\n",
    "    print(\"Error\")\n",
    "else: # if false\n",
    "    print(\"I like your number\")"
   ]
  },
  {
   "cell_type": "code",
   "execution_count": 20,
   "metadata": {},
   "outputs": [
    {
     "name": "stdout",
     "output_type": "stream",
     "text": [
      "True\n",
      "False\n"
     ]
    },
    {
     "data": {
      "text/plain": [
       "True"
      ]
     },
     "execution_count": 20,
     "metadata": {},
     "output_type": "execute_result"
    }
   ],
   "source": [
    "\"\"\"\n",
    "Lets test how these operations work\n",
    "\"\"\"\n",
    "print(True or False)\n",
    "print(False and True)\n",
    "to_be = False\n",
    "to_be or not to_be\n",
    "to_be = True \n",
    "to_be or not to_be\n"
   ]
  },
  {
   "cell_type": "markdown",
   "metadata": {},
   "source": [
    "## While loop"
   ]
  },
  {
   "cell_type": "code",
   "execution_count": null,
   "metadata": {},
   "outputs": [],
   "source": [
    "\"\"\"\n",
    "Lets look how while loop works with this example.\n",
    "If password is not correct we will request user to try again\n",
    "\"\"\"\n",
    "\n",
    "correct_passwd = ';ugliugliug' # corrent password\n",
    "passwd = input(\"Please, enter password: \") # input password\n",
    "while passwd != correct_passwd: # check if password is correct\n",
    "    print(\"Access denied\") # if not corrent, input password again\n",
    "    passwd = input(\"Please, enter password: \")\n",
    "print(\"Access granted\")\n"
   ]
  },
  {
   "cell_type": "code",
   "execution_count": 21,
   "metadata": {},
   "outputs": [
    {
     "name": "stdout",
     "output_type": "stream",
     "text": [
      "Access granted\n",
      "7\n",
      "9\n",
      "10\n",
      "7\n",
      "Negative number detected!!!!111111odin\n"
     ]
    }
   ],
   "source": [
    "\"\"\"\n",
    "To make code cleaner, we should do infinite loop until user does not fill the right password in\n",
    "\"\"\"\n",
    "\n",
    "correct_passwd = ';ugliugliug' # correct password\n",
    "while True: # infinite loop\n",
    "    passwd = input(\"Please, enter password: \") # input password\n",
    "    if passwd == correct_passwd: # if password is correct\n",
    "        print(\"Access granted\") # grant access\n",
    "        break # break the loop\n",
    "else: # if false\n",
    "    print(\"Access denied\")\n",
    "\n",
    "\"\"\"\n",
    "We can use break operator in any type of loop\n",
    "\"\"\"\n",
    "\n",
    "numbers = [6, 8, 9, 6, -7, 9]\n",
    "for i in numbers: ## the example of breaks in for loop\n",
    "    if i<0:\n",
    "        print(\"Negative number detected!!!!111111odin\")\n",
    "        break\n",
    "    print(i+1)\n",
    "\n"
   ]
  },
  {
   "cell_type": "markdown",
   "metadata": {},
   "source": [
    "## List element numeration "
   ]
  },
  {
   "cell_type": "code",
   "execution_count": null,
   "metadata": {},
   "outputs": [],
   "source": [
    "\"\"\"\n",
    "To get element if list with its index we can write this code\n",
    "\"\"\"\n",
    "numbers = [7, 8, 9, 43]\n",
    "i = 0 # this var would keep index\n",
    "for n in numbers:\n",
    " print(i, n)\n",
    " i += 1 # equivalent of this statement i = i + 1\n"
   ]
  },
  {
   "cell_type": "code",
   "execution_count": null,
   "metadata": {},
   "outputs": [
    {
     "name": "stdout",
     "output_type": "stream",
     "text": [
      "0 7\n",
      "1 8\n",
      "2 9\n",
      "3 43\n"
     ]
    }
   ],
   "source": [
    "\"\"\"\n",
    "The previous example did not give an accurate solution. Let's rewrite code for task:\n",
    "\"\"\"\n",
    "\n",
    "numbers = [7, 8, 9, 43] # list\n",
    "for i in range(len(numbers)): # for each index\n",
    "    print (i, numbers[i]) # print elements with its list"
   ]
  },
  {
   "cell_type": "code",
   "execution_count": null,
   "metadata": {},
   "outputs": [
    {
     "name": "stdout",
     "output_type": "stream",
     "text": [
      "2 7\n",
      "3 8\n",
      "4 9\n",
      "5 43\n"
     ]
    }
   ],
   "source": [
    "\"\"\"\n",
    "The final version of solution will look like this\n",
    "We can use built-in fucntion enumerate\n",
    "\"\"\"\n",
    "\n",
    "numbers = [7, 8, 9, 43]\n",
    "for i, n in enumerate(numbers, 2): # get index and element in array\n",
    "    print(i,n)\n"
   ]
  },
  {
   "cell_type": "code",
   "execution_count": 25,
   "metadata": {},
   "outputs": [
    {
     "data": {
      "text/plain": [
       "[(0, 6), (1, 8), (2, 9), (3, 6), (4, -7), (5, 9)]"
      ]
     },
     "execution_count": 25,
     "metadata": {},
     "output_type": "execute_result"
    }
   ],
   "source": [
    "\"\"\"Let's define how works enumerate:\"\"\"\n",
    "enum = list(enumerate(numbers)) ##forming a list of tuples (pair of index and value of numbers list)\n",
    "enum"
   ]
  },
  {
   "cell_type": "code",
   "execution_count": 26,
   "metadata": {},
   "outputs": [
    {
     "name": "stdout",
     "output_type": "stream",
     "text": [
      "7\n",
      "9\n"
     ]
    }
   ],
   "source": [
    "a, b = (7, 9) ##in for loop we used a mechanis, called multiple assignment\n",
    "print(a) # assignment variable a with appropriate tuple element\n",
    "print(b)"
   ]
  }
 ],
 "metadata": {
  "interpreter": {
   "hash": "ed7457b2fbc1e5938d6b52aaab6d7e4f6bc93b0345f28e0e0c546b87a896ce98"
  },
  "kernelspec": {
   "display_name": "Python 3.9.7 64-bit",
   "name": "python3"
  },
  "language_info": {
   "codemirror_mode": {
    "name": "ipython",
    "version": 3
   },
   "file_extension": ".py",
   "mimetype": "text/x-python",
   "name": "python",
   "nbconvert_exporter": "python",
   "pygments_lexer": "ipython3",
   "version": "3.9.7"
  },
  "orig_nbformat": 4
 },
 "nbformat": 4,
 "nbformat_minor": 2
}
